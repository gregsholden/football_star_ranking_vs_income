{
 "cells": [
  {
   "cell_type": "markdown",
   "metadata": {
    "id": "xs7rbu8KWSsH"
   },
   "source": [
    "#  Part 1 -- Data Download\n",
    "\n",
    "# 1a.  Use API to extract data from college football database\n"
   ]
  },
  {
   "cell_type": "markdown",
   "metadata": {},
   "source": [
    "In the cell below we create a class that can be used to pass in the main url and the api key.  Once the object has been created we can use the method and give it the extension url and the params.  This will allow the user to receive data."
   ]
  },
  {
   "cell_type": "code",
   "execution_count": 107,
   "metadata": {},
   "outputs": [],
   "source": [
    "import matplotlib.pyplot as plt"
   ]
  },
  {
   "cell_type": "code",
   "execution_count": 108,
   "metadata": {
    "executionInfo": {
     "elapsed": 722,
     "status": "ok",
     "timestamp": 1674907959356,
     "user": {
      "displayName": "Tawfiq Zureiq",
      "userId": "14019299954665518022"
     },
     "user_tz": -180
    },
    "id": "dwFDOnmZR0PN"
   },
   "outputs": [],
   "source": [
    "import requests\n",
    "import pandas as pd\n",
    "\n",
    "class main:\n",
    "  \n",
    "  def __init__(self, api, endpoint):\n",
    "    self.headers = {\"Authorization\": \"Bearer \" + api}\n",
    "    self.endpoint = endpoint\n",
    "\n",
    "class apis(main):\n",
    "\n",
    "  def get(self,url,**params):\n",
    "    \"\"\"\n",
    "    **params** \n",
    "    year \n",
    "    classification  (HighSchool, JUCO, PrepSchool)\n",
    "    position Position abbreviation filter\n",
    "    state State or province abbreviation filter\n",
    "    team Committed team filter (required if year not specified)\n",
    "    \"\"\"\n",
    "\n",
    "    #add at least (year,team) in the params)\n",
    "    \n",
    "    return requests.get(self.endpoint + url ,params = params, headers=self.headers).json()\n"
   ]
  },
  {
   "cell_type": "markdown",
   "metadata": {
    "id": "WpkuaC6rXdfu"
   },
   "source": [
    "# **Make a request for player data using the api object**\n",
    "\n",
    "Notes:\n",
    "\n",
    "Set the param key 'year' to a range from 2011 to 2023 \n",
    "\n",
    "Read the data using json_normalize.  This makes columns that are not json objects split into more than one column in the dataframe.   Each year's df is then concatenated to get all the years required."
   ]
  },
  {
   "cell_type": "code",
   "execution_count": 109,
   "metadata": {
    "executionInfo": {
     "elapsed": 9510,
     "status": "ok",
     "timestamp": 1674907968861,
     "user": {
      "displayName": "Tawfiq Zureiq",
      "userId": "14019299954665518022"
     },
     "user_tz": -180
    },
    "id": "zFv7cG5DmypE"
   },
   "outputs": [],
   "source": [
    "# Create API object\n",
    "ob = apis(\"+VQyxTTt/o7Q9fNKeyBxjbQo8lb5AVfNJCnkfUN6QyVPWQ9nuWFlCeMplI60SUDB\",\"https://api.collegefootballdata.com/\")\n",
    "\n",
    "# Get data for all players from 2011-23\n",
    "df = pd.concat([pd.json_normalize(ob.get(\"recruiting/players\",year=year)) for year in range(2011, 2024)])"
   ]
  },
  {
   "cell_type": "markdown",
   "metadata": {
    "id": "1C1n2msrW8a6"
   },
   "source": [
    "# We can then save our primary dataset (of all college players) locally"
   ]
  },
  {
   "cell_type": "code",
   "execution_count": 110,
   "metadata": {
    "executionInfo": {
     "elapsed": 1675,
     "status": "ok",
     "timestamp": 1674907970531,
     "user": {
      "displayName": "Tawfiq Zureiq",
      "userId": "14019299954665518022"
     },
     "user_tz": -180
    },
    "id": "SmRCPt3Bmzfr"
   },
   "outputs": [],
   "source": [
    "# Save the primary dataset \n",
    "df.to_csv(\"nfl_data.csv\")"
   ]
  },
  {
   "cell_type": "code",
   "execution_count": 111,
   "metadata": {
    "colab": {
     "base_uri": "https://localhost:8080/",
     "height": 357
    },
    "executionInfo": {
     "elapsed": 12,
     "status": "ok",
     "timestamp": 1674907970532,
     "user": {
      "displayName": "Tawfiq Zureiq",
      "userId": "14019299954665518022"
     },
     "user_tz": -180
    },
    "id": "Fm2DGL8RoKk1",
    "outputId": "aef4db1c-354b-4060-cad9-6359ebd24527"
   },
   "outputs": [
    {
     "data": {
      "text/html": [
       "<div>\n",
       "<style scoped>\n",
       "    .dataframe tbody tr th:only-of-type {\n",
       "        vertical-align: middle;\n",
       "    }\n",
       "\n",
       "    .dataframe tbody tr th {\n",
       "        vertical-align: top;\n",
       "    }\n",
       "\n",
       "    .dataframe thead th {\n",
       "        text-align: right;\n",
       "    }\n",
       "</style>\n",
       "<table border=\"1\" class=\"dataframe\">\n",
       "  <thead>\n",
       "    <tr style=\"text-align: right;\">\n",
       "      <th></th>\n",
       "      <th>id</th>\n",
       "      <th>athleteId</th>\n",
       "      <th>recruitType</th>\n",
       "      <th>year</th>\n",
       "      <th>ranking</th>\n",
       "      <th>name</th>\n",
       "      <th>school</th>\n",
       "      <th>committedTo</th>\n",
       "      <th>position</th>\n",
       "      <th>height</th>\n",
       "      <th>weight</th>\n",
       "      <th>stars</th>\n",
       "      <th>rating</th>\n",
       "      <th>city</th>\n",
       "      <th>stateProvince</th>\n",
       "      <th>country</th>\n",
       "      <th>hometownInfo.latitude</th>\n",
       "      <th>hometownInfo.longitude</th>\n",
       "      <th>hometownInfo.fipsCode</th>\n",
       "    </tr>\n",
       "  </thead>\n",
       "  <tbody>\n",
       "    <tr>\n",
       "      <th>2410</th>\n",
       "      <td>94996</td>\n",
       "      <td>None</td>\n",
       "      <td>HighSchool</td>\n",
       "      <td>2023</td>\n",
       "      <td>2298.0</td>\n",
       "      <td>Jacob Harris</td>\n",
       "      <td>Westerville Central</td>\n",
       "      <td>Bowling Green</td>\n",
       "      <td>WR</td>\n",
       "      <td>76.0</td>\n",
       "      <td>192.0</td>\n",
       "      <td>2</td>\n",
       "      <td>0.7844</td>\n",
       "      <td>Westerville</td>\n",
       "      <td>OH</td>\n",
       "      <td>USA</td>\n",
       "      <td>40.126139</td>\n",
       "      <td>-82.9295287</td>\n",
       "      <td>39049</td>\n",
       "    </tr>\n",
       "    <tr>\n",
       "      <th>2411</th>\n",
       "      <td>94488</td>\n",
       "      <td>None</td>\n",
       "      <td>HighSchool</td>\n",
       "      <td>2023</td>\n",
       "      <td>2299.0</td>\n",
       "      <td>Trey Dubuc</td>\n",
       "      <td>Cardinal Gibbons</td>\n",
       "      <td>South Florida</td>\n",
       "      <td>LS</td>\n",
       "      <td>74.0</td>\n",
       "      <td>220.0</td>\n",
       "      <td>2</td>\n",
       "      <td>0.7844</td>\n",
       "      <td>Fort Lauderdale</td>\n",
       "      <td>FL</td>\n",
       "      <td>USA</td>\n",
       "      <td>26.1223084</td>\n",
       "      <td>-80.1433786</td>\n",
       "      <td>12011</td>\n",
       "    </tr>\n",
       "    <tr>\n",
       "      <th>2412</th>\n",
       "      <td>95117</td>\n",
       "      <td>None</td>\n",
       "      <td>HighSchool</td>\n",
       "      <td>2023</td>\n",
       "      <td>2300.0</td>\n",
       "      <td>Ezekiel Rodrigues</td>\n",
       "      <td>Mililani</td>\n",
       "      <td>Hawai'i</td>\n",
       "      <td>S</td>\n",
       "      <td>73.0</td>\n",
       "      <td>190.0</td>\n",
       "      <td>2</td>\n",
       "      <td>0.7833</td>\n",
       "      <td>Mililani</td>\n",
       "      <td>HI</td>\n",
       "      <td>USA</td>\n",
       "      <td>21.4508308</td>\n",
       "      <td>-158.0095783</td>\n",
       "      <td>15003</td>\n",
       "    </tr>\n",
       "    <tr>\n",
       "      <th>2413</th>\n",
       "      <td>94810</td>\n",
       "      <td>None</td>\n",
       "      <td>HighSchool</td>\n",
       "      <td>2023</td>\n",
       "      <td>2301.0</td>\n",
       "      <td>DeAndre Beasley Jr.</td>\n",
       "      <td>Bishop Miege</td>\n",
       "      <td>None</td>\n",
       "      <td>CB</td>\n",
       "      <td>71.0</td>\n",
       "      <td>180.0</td>\n",
       "      <td>2</td>\n",
       "      <td>0.7800</td>\n",
       "      <td>Lees Summit</td>\n",
       "      <td>MO</td>\n",
       "      <td>USA</td>\n",
       "      <td>38.9107156</td>\n",
       "      <td>-94.3821295</td>\n",
       "      <td>29095</td>\n",
       "    </tr>\n",
       "    <tr>\n",
       "      <th>2414</th>\n",
       "      <td>94123</td>\n",
       "      <td>None</td>\n",
       "      <td>HighSchool</td>\n",
       "      <td>2023</td>\n",
       "      <td>2302.0</td>\n",
       "      <td>Brady Probst</td>\n",
       "      <td>Brownsburg</td>\n",
       "      <td>Illinois State</td>\n",
       "      <td>TE</td>\n",
       "      <td>76.0</td>\n",
       "      <td>235.0</td>\n",
       "      <td>2</td>\n",
       "      <td>0.7733</td>\n",
       "      <td>Brownsburg</td>\n",
       "      <td>IN</td>\n",
       "      <td>USA</td>\n",
       "      <td>39.8433769</td>\n",
       "      <td>-86.3977736</td>\n",
       "      <td>18063</td>\n",
       "    </tr>\n",
       "  </tbody>\n",
       "</table>\n",
       "</div>"
      ],
      "text/plain": [
       "         id athleteId recruitType  year  ranking                 name  \\\n",
       "2410  94996      None  HighSchool  2023   2298.0         Jacob Harris   \n",
       "2411  94488      None  HighSchool  2023   2299.0           Trey Dubuc   \n",
       "2412  95117      None  HighSchool  2023   2300.0    Ezekiel Rodrigues   \n",
       "2413  94810      None  HighSchool  2023   2301.0  DeAndre Beasley Jr.   \n",
       "2414  94123      None  HighSchool  2023   2302.0         Brady Probst   \n",
       "\n",
       "                   school     committedTo position  height  weight  stars  \\\n",
       "2410  Westerville Central   Bowling Green       WR    76.0   192.0      2   \n",
       "2411     Cardinal Gibbons   South Florida       LS    74.0   220.0      2   \n",
       "2412             Mililani         Hawai'i        S    73.0   190.0      2   \n",
       "2413         Bishop Miege            None       CB    71.0   180.0      2   \n",
       "2414           Brownsburg  Illinois State       TE    76.0   235.0      2   \n",
       "\n",
       "      rating             city stateProvince country hometownInfo.latitude  \\\n",
       "2410  0.7844      Westerville            OH     USA             40.126139   \n",
       "2411  0.7844  Fort Lauderdale            FL     USA            26.1223084   \n",
       "2412  0.7833         Mililani            HI     USA            21.4508308   \n",
       "2413  0.7800      Lees Summit            MO     USA            38.9107156   \n",
       "2414  0.7733       Brownsburg            IN     USA            39.8433769   \n",
       "\n",
       "     hometownInfo.longitude hometownInfo.fipsCode  \n",
       "2410            -82.9295287                 39049  \n",
       "2411            -80.1433786                 12011  \n",
       "2412           -158.0095783                 15003  \n",
       "2413            -94.3821295                 29095  \n",
       "2414            -86.3977736                 18063  "
      ]
     },
     "execution_count": 111,
     "metadata": {},
     "output_type": "execute_result"
    }
   ],
   "source": [
    "# Review most recent items\n",
    "df.tail()"
   ]
  },
  {
   "cell_type": "markdown",
   "metadata": {
    "id": "4J5yEwced_j5"
   },
   "source": [
    "# 1b. Next we download the two secondary datasets\n",
    "\n",
    "One dataset can be downloaded from the cell below, while the other one needs to be downloaded through the link and then moved to the project directory "
   ]
  },
  {
   "cell_type": "code",
   "execution_count": 112,
   "metadata": {
    "colab": {
     "base_uri": "https://localhost:8080/"
    },
    "executionInfo": {
     "elapsed": 1936,
     "status": "ok",
     "timestamp": 1674907983569,
     "user": {
      "displayName": "Tawfiq Zureiq",
      "userId": "14019299954665518022"
     },
     "user_tz": -180
    },
    "id": "zXqn5DZxju22",
    "outputId": "c13df1ec-1c38-4ec8-9572-d7391a853b4b"
   },
   "outputs": [
    {
     "name": "stdout",
     "output_type": "stream",
     "text": [
      "--2023-02-21 09:27:13--  https://www.irs.gov/pub/irs-soi/19zpallagi.csv\n",
      "Resolving www.irs.gov (www.irs.gov)... 104.112.1.9\n",
      "Connecting to www.irs.gov (www.irs.gov)|104.112.1.9|:443... connected.\n",
      "HTTP request sent, awaiting response... 200 OK\n",
      "Length: unspecified [text/csv]\n",
      "Saving to: '19zpallagi.csv.20'\n",
      "\n",
      "19zpallagi.csv.20       [        <=>         ] 190.40M  22.8MB/s    in 8.7s    \n",
      "\n",
      "2023-02-21 09:27:22 (21.9 MB/s) - '19zpallagi.csv.20' saved [199650533]\n",
      "\n"
     ]
    }
   ],
   "source": [
    "# Download the income data files based on city and cities based on coordinates\n",
    "\n",
    "\"\"\"\n",
    "you will have to download the cities based on coordinates data\n",
    "here is the link to it and move the file to the project directory\n",
    "\n",
    "https://www.unitedstateszipcodes.org/zip_code_database.csv?download_auth=a5443d423dfb4db4fe077643f04b2f8c\n",
    "\n",
    "\"\"\"\n",
    "!wget https://www.irs.gov/pub/irs-soi/19zpallagi.csv\n"
   ]
  },
  {
   "cell_type": "markdown",
   "metadata": {
    "id": "TjQ_BbxEfsEj"
   },
   "source": [
    "# The \"19zpallagi\" dataset has only the income based on zip codes.\n",
    "\n",
    "# The \"zip_code_database\" dataset has zip codes, cities, coordinates, etc."
   ]
  },
  {
   "cell_type": "code",
   "execution_count": 113,
   "metadata": {
    "executionInfo": {
     "elapsed": 4842,
     "status": "ok",
     "timestamp": 1674911435080,
     "user": {
      "displayName": "Tawfiq Zureiq",
      "userId": "14019299954665518022"
     },
     "user_tz": -180
    },
    "id": "wPrkwHIPMcCn"
   },
   "outputs": [],
   "source": [
    "# IRS income dataset\n",
    "income = pd.read_csv(\"19zpallagi.csv\")\n",
    "\n",
    "# Coordinates with zip codes\n",
    "zips_coordinates = pd.read_csv(\"zip_code_database.csv\")"
   ]
  },
  {
   "cell_type": "code",
   "execution_count": 114,
   "metadata": {
    "executionInfo": {
     "elapsed": 2,
     "status": "ok",
     "timestamp": 1674911435080,
     "user": {
      "displayName": "Tawfiq Zureiq",
      "userId": "14019299954665518022"
     },
     "user_tz": -180
    },
    "id": "fl2-_vo8MixG"
   },
   "outputs": [],
   "source": [
    "# Isolating and removing non-US recruits\n",
    "non_us_players = [df['hometownInfo.latitude'].isna()]\n",
    "df = df[df['hometownInfo.latitude'].isna() == False]"
   ]
  },
  {
   "cell_type": "code",
   "execution_count": 115,
   "metadata": {
    "executionInfo": {
     "elapsed": 3,
     "status": "ok",
     "timestamp": 1674911435081,
     "user": {
      "displayName": "Tawfiq Zureiq",
      "userId": "14019299954665518022"
     },
     "user_tz": -180
    },
    "id": "uRNfdhETNBxA"
   },
   "outputs": [],
   "source": [
    "# Slimming down dfs for visual ease\n",
    "relevant_columns_income = ['STATE', 'zipcode', 'A02650']\n",
    "\n",
    "relevant_columns_linking_info = ['state', 'zip', 'primary_city', 'latitude', 'longitude']\n",
    "\n",
    "income = income[relevant_columns_income]\n",
    "\n",
    "zips_coordinates = zips_coordinates[relevant_columns_linking_info]"
   ]
  },
  {
   "cell_type": "code",
   "execution_count": 116,
   "metadata": {
    "colab": {
     "base_uri": "https://localhost:8080/",
     "height": 206
    },
    "executionInfo": {
     "elapsed": 6,
     "status": "ok",
     "timestamp": 1674907988755,
     "user": {
      "displayName": "Tawfiq Zureiq",
      "userId": "14019299954665518022"
     },
     "user_tz": -180
    },
    "id": "SYYpcRLONE4P",
    "outputId": "cfc5d0a7-9748-4020-9307-d7c954acadef"
   },
   "outputs": [
    {
     "data": {
      "text/html": [
       "<div>\n",
       "<style scoped>\n",
       "    .dataframe tbody tr th:only-of-type {\n",
       "        vertical-align: middle;\n",
       "    }\n",
       "\n",
       "    .dataframe tbody tr th {\n",
       "        vertical-align: top;\n",
       "    }\n",
       "\n",
       "    .dataframe thead th {\n",
       "        text-align: right;\n",
       "    }\n",
       "</style>\n",
       "<table border=\"1\" class=\"dataframe\">\n",
       "  <thead>\n",
       "    <tr style=\"text-align: right;\">\n",
       "      <th></th>\n",
       "      <th>state</th>\n",
       "      <th>zip</th>\n",
       "      <th>primary_city</th>\n",
       "      <th>latitude</th>\n",
       "      <th>longitude</th>\n",
       "    </tr>\n",
       "  </thead>\n",
       "  <tbody>\n",
       "    <tr>\n",
       "      <th>0</th>\n",
       "      <td>NY</td>\n",
       "      <td>501</td>\n",
       "      <td>Holtsville</td>\n",
       "      <td>40.81</td>\n",
       "      <td>-73.04</td>\n",
       "    </tr>\n",
       "    <tr>\n",
       "      <th>1</th>\n",
       "      <td>NY</td>\n",
       "      <td>544</td>\n",
       "      <td>Holtsville</td>\n",
       "      <td>40.81</td>\n",
       "      <td>-73.04</td>\n",
       "    </tr>\n",
       "    <tr>\n",
       "      <th>2</th>\n",
       "      <td>PR</td>\n",
       "      <td>601</td>\n",
       "      <td>Adjuntas</td>\n",
       "      <td>18.16</td>\n",
       "      <td>-66.72</td>\n",
       "    </tr>\n",
       "    <tr>\n",
       "      <th>3</th>\n",
       "      <td>PR</td>\n",
       "      <td>602</td>\n",
       "      <td>Aguada</td>\n",
       "      <td>18.38</td>\n",
       "      <td>-67.18</td>\n",
       "    </tr>\n",
       "    <tr>\n",
       "      <th>4</th>\n",
       "      <td>PR</td>\n",
       "      <td>603</td>\n",
       "      <td>Aguadilla</td>\n",
       "      <td>18.43</td>\n",
       "      <td>-67.15</td>\n",
       "    </tr>\n",
       "  </tbody>\n",
       "</table>\n",
       "</div>"
      ],
      "text/plain": [
       "  state  zip primary_city  latitude  longitude\n",
       "0    NY  501   Holtsville     40.81     -73.04\n",
       "1    NY  544   Holtsville     40.81     -73.04\n",
       "2    PR  601     Adjuntas     18.16     -66.72\n",
       "3    PR  602       Aguada     18.38     -67.18\n",
       "4    PR  603    Aguadilla     18.43     -67.15"
      ]
     },
     "execution_count": 116,
     "metadata": {},
     "output_type": "execute_result"
    }
   ],
   "source": [
    "# Review first few items in zip code data\n",
    "zips_coordinates.head()"
   ]
  },
  {
   "cell_type": "code",
   "execution_count": 117,
   "metadata": {
    "colab": {
     "base_uri": "https://localhost:8080/",
     "height": 206
    },
    "executionInfo": {
     "elapsed": 4,
     "status": "ok",
     "timestamp": 1674907990063,
     "user": {
      "displayName": "Tawfiq Zureiq",
      "userId": "14019299954665518022"
     },
     "user_tz": -180
    },
    "id": "85chdS0DNGm8",
    "outputId": "6d9d135f-694a-495c-cbc7-5614f92b4864"
   },
   "outputs": [
    {
     "data": {
      "text/html": [
       "<div>\n",
       "<style scoped>\n",
       "    .dataframe tbody tr th:only-of-type {\n",
       "        vertical-align: middle;\n",
       "    }\n",
       "\n",
       "    .dataframe tbody tr th {\n",
       "        vertical-align: top;\n",
       "    }\n",
       "\n",
       "    .dataframe thead th {\n",
       "        text-align: right;\n",
       "    }\n",
       "</style>\n",
       "<table border=\"1\" class=\"dataframe\">\n",
       "  <thead>\n",
       "    <tr style=\"text-align: right;\">\n",
       "      <th></th>\n",
       "      <th>STATE</th>\n",
       "      <th>zipcode</th>\n",
       "      <th>A02650</th>\n",
       "    </tr>\n",
       "  </thead>\n",
       "  <tbody>\n",
       "    <tr>\n",
       "      <th>0</th>\n",
       "      <td>AL</td>\n",
       "      <td>0</td>\n",
       "      <td>10311099.0</td>\n",
       "    </tr>\n",
       "    <tr>\n",
       "      <th>1</th>\n",
       "      <td>AL</td>\n",
       "      <td>0</td>\n",
       "      <td>19145621.0</td>\n",
       "    </tr>\n",
       "    <tr>\n",
       "      <th>2</th>\n",
       "      <td>AL</td>\n",
       "      <td>0</td>\n",
       "      <td>17690402.0</td>\n",
       "    </tr>\n",
       "    <tr>\n",
       "      <th>3</th>\n",
       "      <td>AL</td>\n",
       "      <td>0</td>\n",
       "      <td>15670456.0</td>\n",
       "    </tr>\n",
       "    <tr>\n",
       "      <th>4</th>\n",
       "      <td>AL</td>\n",
       "      <td>0</td>\n",
       "      <td>35286228.0</td>\n",
       "    </tr>\n",
       "  </tbody>\n",
       "</table>\n",
       "</div>"
      ],
      "text/plain": [
       "  STATE  zipcode      A02650\n",
       "0    AL        0  10311099.0\n",
       "1    AL        0  19145621.0\n",
       "2    AL        0  17690402.0\n",
       "3    AL        0  15670456.0\n",
       "4    AL        0  35286228.0"
      ]
     },
     "execution_count": 117,
     "metadata": {},
     "output_type": "execute_result"
    }
   ],
   "source": [
    "# Review first few items in income df\n",
    "income.head()"
   ]
  },
  {
   "cell_type": "markdown",
   "metadata": {
    "id": "S4n0nmCEgM5K"
   },
   "source": [
    "# Merge two datasets -- the Income one and Zip_coordinates -- by zipcode.  Then groupby by zipcode and apply mean to the average income per household to get the mean income in a city. "
   ]
  },
  {
   "cell_type": "code",
   "execution_count": 118,
   "metadata": {
    "executionInfo": {
     "elapsed": 285,
     "status": "ok",
     "timestamp": 1674907991823,
     "user": {
      "displayName": "Tawfiq Zureiq",
      "userId": "14019299954665518022"
     },
     "user_tz": -180
    },
    "id": "woaR54MMNIi9"
   },
   "outputs": [],
   "source": [
    "# Avg income by zipcode\n",
    "median_income_by_zipcode = income.merge(zips_coordinates, left_on=['zipcode'], right_on=['zip']).groupby(\"zipcode\").A02650.mean().reset_index()"
   ]
  },
  {
   "cell_type": "code",
   "execution_count": 119,
   "metadata": {
    "executionInfo": {
     "elapsed": 375,
     "status": "ok",
     "timestamp": 1674907992583,
     "user": {
      "displayName": "Tawfiq Zureiq",
      "userId": "14019299954665518022"
     },
     "user_tz": -180
    },
    "id": "CiWtK9mfNLO1"
   },
   "outputs": [],
   "source": [
    "# Merging with other info\n",
    "merged_income_zipcor = zips_coordinates.merge(median_income_by_zipcode, left_on=['zip'], right_on=['zipcode'])"
   ]
  },
  {
   "cell_type": "markdown",
   "metadata": {},
   "source": [
    "# We then create adjusted lat and adj lon columns.  These will be the key to the final merge."
   ]
  },
  {
   "cell_type": "code",
   "execution_count": 120,
   "metadata": {
    "executionInfo": {
     "elapsed": 343,
     "status": "ok",
     "timestamp": 1674907993298,
     "user": {
      "displayName": "Tawfiq Zureiq",
      "userId": "14019299954665518022"
     },
     "user_tz": -180
    },
    "id": "wHr-DuP_NM5w"
   },
   "outputs": [],
   "source": [
    "# Create adjusted latitude and longitude cols for merging\n",
    "merged_income_zipcor['adj_lat'] = merged_income_zipcor['latitude'].apply(lambda x: float(str(x).split(\".\")[0]))\n",
    "merged_income_zipcor['adj_lng'] = merged_income_zipcor['longitude'].apply(lambda x: float(str(x).split(\".\")[0]))"
   ]
  },
  {
   "cell_type": "code",
   "execution_count": 121,
   "metadata": {
    "executionInfo": {
     "elapsed": 1,
     "status": "ok",
     "timestamp": 1674907994124,
     "user": {
      "displayName": "Tawfiq Zureiq",
      "userId": "14019299954665518022"
     },
     "user_tz": -180
    },
    "id": "vv0RbkpyNRpN"
   },
   "outputs": [],
   "source": [
    "# Get average income by city\n",
    "income_by_city_state_coord = merged_income_zipcor.groupby(['primary_city', 'state', 'adj_lat', 'adj_lng']).A02650.mean().reset_index()\n",
    "income_by_city_state_coord['A02650'] = income_by_city_state_coord['A02650'].round()\n",
    "income_by_city_state_coord = income_by_city_state_coord.rename(columns={\"A02650\" : \"Average Income\"})"
   ]
  },
  {
   "cell_type": "markdown",
   "metadata": {
    "id": "vLbTb2H8iIJ7"
   },
   "source": [
    "Change the newly created adj_latitude and adj_longitude columns to float and round"
   ]
  },
  {
   "cell_type": "code",
   "execution_count": 122,
   "metadata": {
    "executionInfo": {
     "elapsed": 296,
     "status": "ok",
     "timestamp": 1674912645963,
     "user": {
      "displayName": "Tawfiq Zureiq",
      "userId": "14019299954665518022"
     },
     "user_tz": -180
    },
    "id": "pLaBtIl01BC1"
   },
   "outputs": [],
   "source": [
    "df['lat_adj'] = df['hometownInfo.latitude'].apply(lambda x: float(str(x).split(\".\")[0]))\n",
    "df['lng_adj'] = df['hometownInfo.longitude'].apply(lambda x: float(str(x).split(\".\")[0]))"
   ]
  },
  {
   "cell_type": "code",
   "execution_count": 123,
   "metadata": {
    "colab": {
     "base_uri": "https://localhost:8080/",
     "height": 386
    },
    "executionInfo": {
     "elapsed": 4,
     "status": "ok",
     "timestamp": 1674907996017,
     "user": {
      "displayName": "Tawfiq Zureiq",
      "userId": "14019299954665518022"
     },
     "user_tz": -180
    },
    "id": "VsoJk0JOOUe3",
    "outputId": "5acb5cf9-03e4-453c-c730-2532fcf47d08"
   },
   "outputs": [
    {
     "data": {
      "text/html": [
       "<div>\n",
       "<style scoped>\n",
       "    .dataframe tbody tr th:only-of-type {\n",
       "        vertical-align: middle;\n",
       "    }\n",
       "\n",
       "    .dataframe tbody tr th {\n",
       "        vertical-align: top;\n",
       "    }\n",
       "\n",
       "    .dataframe thead th {\n",
       "        text-align: right;\n",
       "    }\n",
       "</style>\n",
       "<table border=\"1\" class=\"dataframe\">\n",
       "  <thead>\n",
       "    <tr style=\"text-align: right;\">\n",
       "      <th></th>\n",
       "      <th>id</th>\n",
       "      <th>athleteId</th>\n",
       "      <th>recruitType</th>\n",
       "      <th>year</th>\n",
       "      <th>ranking</th>\n",
       "      <th>name</th>\n",
       "      <th>school</th>\n",
       "      <th>committedTo</th>\n",
       "      <th>position</th>\n",
       "      <th>height</th>\n",
       "      <th>...</th>\n",
       "      <th>stars</th>\n",
       "      <th>rating</th>\n",
       "      <th>city</th>\n",
       "      <th>stateProvince</th>\n",
       "      <th>country</th>\n",
       "      <th>hometownInfo.latitude</th>\n",
       "      <th>hometownInfo.longitude</th>\n",
       "      <th>hometownInfo.fipsCode</th>\n",
       "      <th>lat_adj</th>\n",
       "      <th>lng_adj</th>\n",
       "    </tr>\n",
       "  </thead>\n",
       "  <tbody>\n",
       "    <tr>\n",
       "      <th>0</th>\n",
       "      <td>19571</td>\n",
       "      <td>-1032080</td>\n",
       "      <td>HighSchool</td>\n",
       "      <td>2011</td>\n",
       "      <td>1.0</td>\n",
       "      <td>Jadeveon Clowney</td>\n",
       "      <td>South Pointe</td>\n",
       "      <td>South Carolina</td>\n",
       "      <td>WDE</td>\n",
       "      <td>77.0</td>\n",
       "      <td>...</td>\n",
       "      <td>5</td>\n",
       "      <td>1.0000</td>\n",
       "      <td>Rock Hill</td>\n",
       "      <td>SC</td>\n",
       "      <td>USA</td>\n",
       "      <td>34.9248667</td>\n",
       "      <td>-81.0250784</td>\n",
       "      <td>45091</td>\n",
       "      <td>34.0</td>\n",
       "      <td>-81.0</td>\n",
       "    </tr>\n",
       "    <tr>\n",
       "      <th>1</th>\n",
       "      <td>19572</td>\n",
       "      <td>-1000934</td>\n",
       "      <td>HighSchool</td>\n",
       "      <td>2011</td>\n",
       "      <td>2.0</td>\n",
       "      <td>Cyrus Kouandjio</td>\n",
       "      <td>DeMatha Catholic</td>\n",
       "      <td>Alabama</td>\n",
       "      <td>OT</td>\n",
       "      <td>79.0</td>\n",
       "      <td>...</td>\n",
       "      <td>5</td>\n",
       "      <td>0.9993</td>\n",
       "      <td>Hyattsville</td>\n",
       "      <td>MD</td>\n",
       "      <td>USA</td>\n",
       "      <td>38.9529442</td>\n",
       "      <td>-76.9408647</td>\n",
       "      <td>24033</td>\n",
       "      <td>38.0</td>\n",
       "      <td>-76.0</td>\n",
       "    </tr>\n",
       "    <tr>\n",
       "      <th>2</th>\n",
       "      <td>19573</td>\n",
       "      <td>-1016566</td>\n",
       "      <td>HighSchool</td>\n",
       "      <td>2011</td>\n",
       "      <td>3.0</td>\n",
       "      <td>La'el Collins</td>\n",
       "      <td>Redemptorist</td>\n",
       "      <td>LSU</td>\n",
       "      <td>OT</td>\n",
       "      <td>77.0</td>\n",
       "      <td>...</td>\n",
       "      <td>5</td>\n",
       "      <td>0.9976</td>\n",
       "      <td>Baton Rouge</td>\n",
       "      <td>LA</td>\n",
       "      <td>USA</td>\n",
       "      <td>30.4459596</td>\n",
       "      <td>-91.18738</td>\n",
       "      <td>22033</td>\n",
       "      <td>30.0</td>\n",
       "      <td>-91.0</td>\n",
       "    </tr>\n",
       "    <tr>\n",
       "      <th>3</th>\n",
       "      <td>19574</td>\n",
       "      <td>517390</td>\n",
       "      <td>HighSchool</td>\n",
       "      <td>2011</td>\n",
       "      <td>4.0</td>\n",
       "      <td>Karlos Williams</td>\n",
       "      <td>Ridge Community</td>\n",
       "      <td>Florida State</td>\n",
       "      <td>S</td>\n",
       "      <td>74.0</td>\n",
       "      <td>...</td>\n",
       "      <td>5</td>\n",
       "      <td>0.9976</td>\n",
       "      <td>Davenport</td>\n",
       "      <td>FL</td>\n",
       "      <td>USA</td>\n",
       "      <td>28.1614046</td>\n",
       "      <td>-81.6017417</td>\n",
       "      <td>12105</td>\n",
       "      <td>28.0</td>\n",
       "      <td>-81.0</td>\n",
       "    </tr>\n",
       "    <tr>\n",
       "      <th>4</th>\n",
       "      <td>19575</td>\n",
       "      <td>517222</td>\n",
       "      <td>HighSchool</td>\n",
       "      <td>2011</td>\n",
       "      <td>5.0</td>\n",
       "      <td>Anthony Johnson</td>\n",
       "      <td>O Perry Walker</td>\n",
       "      <td>LSU</td>\n",
       "      <td>DT</td>\n",
       "      <td>75.0</td>\n",
       "      <td>...</td>\n",
       "      <td>5</td>\n",
       "      <td>0.9973</td>\n",
       "      <td>New Orleans</td>\n",
       "      <td>LA</td>\n",
       "      <td>USA</td>\n",
       "      <td>29.9499323</td>\n",
       "      <td>-90.0701156</td>\n",
       "      <td>22071</td>\n",
       "      <td>29.0</td>\n",
       "      <td>-90.0</td>\n",
       "    </tr>\n",
       "  </tbody>\n",
       "</table>\n",
       "<p>5 rows × 21 columns</p>\n",
       "</div>"
      ],
      "text/plain": [
       "      id athleteId recruitType  year  ranking              name  \\\n",
       "0  19571  -1032080  HighSchool  2011      1.0  Jadeveon Clowney   \n",
       "1  19572  -1000934  HighSchool  2011      2.0   Cyrus Kouandjio   \n",
       "2  19573  -1016566  HighSchool  2011      3.0     La'el Collins   \n",
       "3  19574    517390  HighSchool  2011      4.0   Karlos Williams   \n",
       "4  19575    517222  HighSchool  2011      5.0   Anthony Johnson   \n",
       "\n",
       "             school     committedTo position  height  ...  stars  rating  \\\n",
       "0      South Pointe  South Carolina      WDE    77.0  ...      5  1.0000   \n",
       "1  DeMatha Catholic         Alabama       OT    79.0  ...      5  0.9993   \n",
       "2      Redemptorist             LSU       OT    77.0  ...      5  0.9976   \n",
       "3   Ridge Community   Florida State        S    74.0  ...      5  0.9976   \n",
       "4    O Perry Walker             LSU       DT    75.0  ...      5  0.9973   \n",
       "\n",
       "          city stateProvince country hometownInfo.latitude  \\\n",
       "0    Rock Hill            SC     USA            34.9248667   \n",
       "1  Hyattsville            MD     USA            38.9529442   \n",
       "2  Baton Rouge            LA     USA            30.4459596   \n",
       "3    Davenport            FL     USA            28.1614046   \n",
       "4  New Orleans            LA     USA            29.9499323   \n",
       "\n",
       "  hometownInfo.longitude hometownInfo.fipsCode lat_adj  lng_adj  \n",
       "0            -81.0250784                 45091    34.0    -81.0  \n",
       "1            -76.9408647                 24033    38.0    -76.0  \n",
       "2              -91.18738                 22033    30.0    -91.0  \n",
       "3            -81.6017417                 12105    28.0    -81.0  \n",
       "4            -90.0701156                 22071    29.0    -90.0  \n",
       "\n",
       "[5 rows x 21 columns]"
      ]
     },
     "execution_count": 123,
     "metadata": {},
     "output_type": "execute_result"
    }
   ],
   "source": [
    "# Review df\n",
    "df.head()"
   ]
  },
  {
   "cell_type": "markdown",
   "metadata": {},
   "source": [
    "# Finally we can create the final combined database"
   ]
  },
  {
   "cell_type": "code",
   "execution_count": 124,
   "metadata": {
    "executionInfo": {
     "elapsed": 300,
     "status": "ok",
     "timestamp": 1674912760081,
     "user": {
      "displayName": "Tawfiq Zureiq",
      "userId": "14019299954665518022"
     },
     "user_tz": -180
    },
    "id": "h4nAILDSNXXm"
   },
   "outputs": [],
   "source": [
    "# Create final df using merge\n",
    "\n",
    "final = df.merge(income_by_city_state_coord, left_on=['city', 'stateProvince', 'lat_adj', 'lng_adj'],\n",
    "                                       right_on=['primary_city', 'state', 'adj_lat', 'adj_lng'])"
   ]
  },
  {
   "cell_type": "code",
   "execution_count": 125,
   "metadata": {
    "colab": {
     "base_uri": "https://localhost:8080/",
     "height": 403
    },
    "executionInfo": {
     "elapsed": 4,
     "status": "ok",
     "timestamp": 1674912761120,
     "user": {
      "displayName": "Tawfiq Zureiq",
      "userId": "14019299954665518022"
     },
     "user_tz": -180
    },
    "id": "dp-RMg95NbA3",
    "outputId": "c38f658c-70d7-4184-84aa-2374b99903df"
   },
   "outputs": [
    {
     "data": {
      "text/html": [
       "<div>\n",
       "<style scoped>\n",
       "    .dataframe tbody tr th:only-of-type {\n",
       "        vertical-align: middle;\n",
       "    }\n",
       "\n",
       "    .dataframe tbody tr th {\n",
       "        vertical-align: top;\n",
       "    }\n",
       "\n",
       "    .dataframe thead th {\n",
       "        text-align: right;\n",
       "    }\n",
       "</style>\n",
       "<table border=\"1\" class=\"dataframe\">\n",
       "  <thead>\n",
       "    <tr style=\"text-align: right;\">\n",
       "      <th></th>\n",
       "      <th>id</th>\n",
       "      <th>athleteId</th>\n",
       "      <th>recruitType</th>\n",
       "      <th>year</th>\n",
       "      <th>ranking</th>\n",
       "      <th>name</th>\n",
       "      <th>school</th>\n",
       "      <th>committedTo</th>\n",
       "      <th>position</th>\n",
       "      <th>height</th>\n",
       "      <th>...</th>\n",
       "      <th>hometownInfo.latitude</th>\n",
       "      <th>hometownInfo.longitude</th>\n",
       "      <th>hometownInfo.fipsCode</th>\n",
       "      <th>lat_adj</th>\n",
       "      <th>lng_adj</th>\n",
       "      <th>primary_city</th>\n",
       "      <th>state</th>\n",
       "      <th>adj_lat</th>\n",
       "      <th>adj_lng</th>\n",
       "      <th>Average Income</th>\n",
       "    </tr>\n",
       "  </thead>\n",
       "  <tbody>\n",
       "    <tr>\n",
       "      <th>42998</th>\n",
       "      <td>94925</td>\n",
       "      <td>None</td>\n",
       "      <td>HighSchool</td>\n",
       "      <td>2023</td>\n",
       "      <td>2148.0</td>\n",
       "      <td>Tell Wade</td>\n",
       "      <td>Wray</td>\n",
       "      <td>Wyoming</td>\n",
       "      <td>DL</td>\n",
       "      <td>74.0</td>\n",
       "      <td>...</td>\n",
       "      <td>40.0758231</td>\n",
       "      <td>-102.2232494</td>\n",
       "      <td>08125</td>\n",
       "      <td>40.0</td>\n",
       "      <td>-102.0</td>\n",
       "      <td>Wray</td>\n",
       "      <td>CO</td>\n",
       "      <td>40.0</td>\n",
       "      <td>-102.0</td>\n",
       "      <td>17264.0</td>\n",
       "    </tr>\n",
       "    <tr>\n",
       "      <th>42999</th>\n",
       "      <td>94242</td>\n",
       "      <td>None</td>\n",
       "      <td>HighSchool</td>\n",
       "      <td>2023</td>\n",
       "      <td>2180.0</td>\n",
       "      <td>Cedric Hawkins</td>\n",
       "      <td>Stuttgart</td>\n",
       "      <td>Arkansas State</td>\n",
       "      <td>RB</td>\n",
       "      <td>68.0</td>\n",
       "      <td>...</td>\n",
       "      <td>34.5003748</td>\n",
       "      <td>-91.5526281</td>\n",
       "      <td>05001</td>\n",
       "      <td>34.0</td>\n",
       "      <td>-91.0</td>\n",
       "      <td>Stuttgart</td>\n",
       "      <td>AR</td>\n",
       "      <td>34.0</td>\n",
       "      <td>-91.0</td>\n",
       "      <td>42326.0</td>\n",
       "    </tr>\n",
       "    <tr>\n",
       "      <th>43000</th>\n",
       "      <td>94603</td>\n",
       "      <td>None</td>\n",
       "      <td>HighSchool</td>\n",
       "      <td>2023</td>\n",
       "      <td>2198.0</td>\n",
       "      <td>Maurice Long</td>\n",
       "      <td>South Point</td>\n",
       "      <td>Akron</td>\n",
       "      <td>OT</td>\n",
       "      <td>78.0</td>\n",
       "      <td>...</td>\n",
       "      <td>38.4178597</td>\n",
       "      <td>-82.5862699</td>\n",
       "      <td>39087</td>\n",
       "      <td>38.0</td>\n",
       "      <td>-82.0</td>\n",
       "      <td>South Point</td>\n",
       "      <td>OH</td>\n",
       "      <td>38.0</td>\n",
       "      <td>-82.0</td>\n",
       "      <td>42809.0</td>\n",
       "    </tr>\n",
       "    <tr>\n",
       "      <th>43001</th>\n",
       "      <td>94608</td>\n",
       "      <td>None</td>\n",
       "      <td>HighSchool</td>\n",
       "      <td>2023</td>\n",
       "      <td>2230.0</td>\n",
       "      <td>Rory Callahan</td>\n",
       "      <td>Huron</td>\n",
       "      <td>Central Michigan</td>\n",
       "      <td>TE</td>\n",
       "      <td>76.0</td>\n",
       "      <td>...</td>\n",
       "      <td>42.1625408</td>\n",
       "      <td>-83.4029885</td>\n",
       "      <td>26163</td>\n",
       "      <td>42.0</td>\n",
       "      <td>-83.0</td>\n",
       "      <td>New Boston</td>\n",
       "      <td>MI</td>\n",
       "      <td>42.0</td>\n",
       "      <td>-83.0</td>\n",
       "      <td>61554.0</td>\n",
       "    </tr>\n",
       "    <tr>\n",
       "      <th>43002</th>\n",
       "      <td>94619</td>\n",
       "      <td>None</td>\n",
       "      <td>HighSchool</td>\n",
       "      <td>2023</td>\n",
       "      <td>2273.0</td>\n",
       "      <td>John Burke</td>\n",
       "      <td>Sault Area</td>\n",
       "      <td>Central Michigan</td>\n",
       "      <td>IOL</td>\n",
       "      <td>75.0</td>\n",
       "      <td>...</td>\n",
       "      <td>46.490586</td>\n",
       "      <td>-84.359269</td>\n",
       "      <td>26033</td>\n",
       "      <td>46.0</td>\n",
       "      <td>-84.0</td>\n",
       "      <td>Sault Sainte Marie</td>\n",
       "      <td>MI</td>\n",
       "      <td>46.0</td>\n",
       "      <td>-84.0</td>\n",
       "      <td>73104.0</td>\n",
       "    </tr>\n",
       "  </tbody>\n",
       "</table>\n",
       "<p>5 rows × 26 columns</p>\n",
       "</div>"
      ],
      "text/plain": [
       "          id athleteId recruitType  year  ranking            name  \\\n",
       "42998  94925      None  HighSchool  2023   2148.0       Tell Wade   \n",
       "42999  94242      None  HighSchool  2023   2180.0  Cedric Hawkins   \n",
       "43000  94603      None  HighSchool  2023   2198.0    Maurice Long   \n",
       "43001  94608      None  HighSchool  2023   2230.0   Rory Callahan   \n",
       "43002  94619      None  HighSchool  2023   2273.0      John Burke   \n",
       "\n",
       "            school       committedTo position  height  ...  \\\n",
       "42998         Wray           Wyoming       DL    74.0  ...   \n",
       "42999    Stuttgart    Arkansas State       RB    68.0  ...   \n",
       "43000  South Point             Akron       OT    78.0  ...   \n",
       "43001        Huron  Central Michigan       TE    76.0  ...   \n",
       "43002   Sault Area  Central Michigan      IOL    75.0  ...   \n",
       "\n",
       "       hometownInfo.latitude  hometownInfo.longitude  hometownInfo.fipsCode  \\\n",
       "42998             40.0758231            -102.2232494                  08125   \n",
       "42999             34.5003748             -91.5526281                  05001   \n",
       "43000             38.4178597             -82.5862699                  39087   \n",
       "43001             42.1625408             -83.4029885                  26163   \n",
       "43002              46.490586              -84.359269                  26033   \n",
       "\n",
       "      lat_adj lng_adj        primary_city state adj_lat adj_lng  \\\n",
       "42998    40.0  -102.0                Wray    CO    40.0  -102.0   \n",
       "42999    34.0   -91.0           Stuttgart    AR    34.0   -91.0   \n",
       "43000    38.0   -82.0         South Point    OH    38.0   -82.0   \n",
       "43001    42.0   -83.0          New Boston    MI    42.0   -83.0   \n",
       "43002    46.0   -84.0  Sault Sainte Marie    MI    46.0   -84.0   \n",
       "\n",
       "       Average Income  \n",
       "42998         17264.0  \n",
       "42999         42326.0  \n",
       "43000         42809.0  \n",
       "43001         61554.0  \n",
       "43002         73104.0  \n",
       "\n",
       "[5 rows x 26 columns]"
      ]
     },
     "execution_count": 125,
     "metadata": {},
     "output_type": "execute_result"
    }
   ],
   "source": [
    "# Review final df\n",
    "final.tail()"
   ]
  },
  {
   "cell_type": "code",
   "execution_count": 126,
   "metadata": {},
   "outputs": [
    {
     "data": {
      "text/plain": [
       "Index(['id', 'athleteId', 'recruitType', 'year', 'ranking', 'name', 'school',\n",
       "       'committedTo', 'position', 'height', 'weight', 'stars', 'rating',\n",
       "       'city', 'stateProvince', 'country', 'hometownInfo.latitude',\n",
       "       'hometownInfo.longitude', 'hometownInfo.fipsCode', 'lat_adj', 'lng_adj',\n",
       "       'primary_city', 'state', 'adj_lat', 'adj_lng', 'Average Income'],\n",
       "      dtype='object')"
      ]
     },
     "execution_count": 126,
     "metadata": {},
     "output_type": "execute_result"
    }
   ],
   "source": [
    "# Review columns in final df\n",
    "final.columns"
   ]
  },
  {
   "cell_type": "markdown",
   "metadata": {},
   "source": [
    "#  Part 2.  In-Depth Positional And Team Analysis"
   ]
  },
  {
   "cell_type": "markdown",
   "metadata": {
    "id": "044RHrWzlKvl"
   },
   "source": [
    "# Create a new  income_level column and use it to calculate the number of players in each third/quartile/decile based on the following brackets:\n",
    "\n",
    "\"High\" Income = Greater than 156,600, \"Middle\" Income = Between 52,200 - 156,600, \"Low\" Income = Less than 52,200 "
   ]
  },
  {
   "cell_type": "code",
   "execution_count": 127,
   "metadata": {
    "executionInfo": {
     "elapsed": 298,
     "status": "ok",
     "timestamp": 1674913038375,
     "user": {
      "displayName": "Tawfiq Zureiq",
      "userId": "14019299954665518022"
     },
     "user_tz": -180
    },
    "id": "iTM9qN02vuaX"
   },
   "outputs": [],
   "source": [
    "import numpy as np\n",
    "#making an income level column that has either 'high','medium' or 'low'  ('high' is greater than 156600) ('low' is less than 52200)\n",
    "\n",
    "income_level = np.where(final['Average Income'] >156600, 'high',np.where(final['Average Income'] < 52200,'low','middle' ))\n",
    "final['income_level'] = income_level"
   ]
  },
  {
   "cell_type": "markdown",
   "metadata": {
    "id": "rwCY9aQxmPME"
   },
   "source": [
    "# Show the number of players based on specified income levels"
   ]
  },
  {
   "cell_type": "code",
   "execution_count": 128,
   "metadata": {
    "colab": {
     "base_uri": "https://localhost:8080/"
    },
    "executionInfo": {
     "elapsed": 275,
     "status": "ok",
     "timestamp": 1674913038962,
     "user": {
      "displayName": "Tawfiq Zureiq",
      "userId": "14019299954665518022"
     },
     "user_tz": -180
    },
    "id": "iuoxMj1Gwqz0",
    "outputId": "7266ec19-769f-48fa-a9a2-054ce7658a8a"
   },
   "outputs": [
    {
     "name": "stdout",
     "output_type": "stream",
     "text": [
      "number of players in low income households:  4176\n",
      "number of players in middle income households:  14973\n",
      "number of players in high income households:  23854\n"
     ]
    }
   ],
   "source": [
    "# calculating how many players got recruited with specified income_level \n",
    "print(\"number of players in low income households: \" ,len(final[final['income_level'] == 'low']))\n",
    "print(\"number of players in middle income households: \", len(final[final['income_level'] == 'middle']))\n",
    "print(\"number of players in high income households: \", len(final[final['income_level'] == 'high']))"
   ]
  },
  {
   "cell_type": "code",
   "execution_count": 129,
   "metadata": {
    "colab": {
     "base_uri": "https://localhost:8080/",
     "height": 403
    },
    "executionInfo": {
     "elapsed": 3,
     "status": "ok",
     "timestamp": 1674913040049,
     "user": {
      "displayName": "Tawfiq Zureiq",
      "userId": "14019299954665518022"
     },
     "user_tz": -180
    },
    "id": "wlY39KoXxl8P",
    "outputId": "00ab95ed-d8b9-4b70-9fe7-9cb0fb116749"
   },
   "outputs": [
    {
     "data": {
      "text/html": [
       "<div>\n",
       "<style scoped>\n",
       "    .dataframe tbody tr th:only-of-type {\n",
       "        vertical-align: middle;\n",
       "    }\n",
       "\n",
       "    .dataframe tbody tr th {\n",
       "        vertical-align: top;\n",
       "    }\n",
       "\n",
       "    .dataframe thead th {\n",
       "        text-align: right;\n",
       "    }\n",
       "</style>\n",
       "<table border=\"1\" class=\"dataframe\">\n",
       "  <thead>\n",
       "    <tr style=\"text-align: right;\">\n",
       "      <th></th>\n",
       "      <th>id</th>\n",
       "      <th>athleteId</th>\n",
       "      <th>recruitType</th>\n",
       "      <th>year</th>\n",
       "      <th>ranking</th>\n",
       "      <th>name</th>\n",
       "      <th>school</th>\n",
       "      <th>committedTo</th>\n",
       "      <th>position</th>\n",
       "      <th>height</th>\n",
       "      <th>...</th>\n",
       "      <th>hometownInfo.longitude</th>\n",
       "      <th>hometownInfo.fipsCode</th>\n",
       "      <th>lat_adj</th>\n",
       "      <th>lng_adj</th>\n",
       "      <th>primary_city</th>\n",
       "      <th>state</th>\n",
       "      <th>adj_lat</th>\n",
       "      <th>adj_lng</th>\n",
       "      <th>Average Income</th>\n",
       "      <th>income_level</th>\n",
       "    </tr>\n",
       "  </thead>\n",
       "  <tbody>\n",
       "    <tr>\n",
       "      <th>0</th>\n",
       "      <td>19571</td>\n",
       "      <td>-1032080</td>\n",
       "      <td>HighSchool</td>\n",
       "      <td>2011</td>\n",
       "      <td>1.0</td>\n",
       "      <td>Jadeveon Clowney</td>\n",
       "      <td>South Pointe</td>\n",
       "      <td>South Carolina</td>\n",
       "      <td>WDE</td>\n",
       "      <td>77.0</td>\n",
       "      <td>...</td>\n",
       "      <td>-81.0250784</td>\n",
       "      <td>45091</td>\n",
       "      <td>34.0</td>\n",
       "      <td>-81.0</td>\n",
       "      <td>Rock Hill</td>\n",
       "      <td>SC</td>\n",
       "      <td>34.0</td>\n",
       "      <td>-81.0</td>\n",
       "      <td>269076.0</td>\n",
       "      <td>high</td>\n",
       "    </tr>\n",
       "    <tr>\n",
       "      <th>1</th>\n",
       "      <td>20160</td>\n",
       "      <td>512424</td>\n",
       "      <td>HighSchool</td>\n",
       "      <td>2011</td>\n",
       "      <td>591.0</td>\n",
       "      <td>Justin Worley</td>\n",
       "      <td>Northwestern</td>\n",
       "      <td>Tennessee</td>\n",
       "      <td>PRO</td>\n",
       "      <td>76.0</td>\n",
       "      <td>...</td>\n",
       "      <td>-81.0250784</td>\n",
       "      <td>45091</td>\n",
       "      <td>34.0</td>\n",
       "      <td>-81.0</td>\n",
       "      <td>Rock Hill</td>\n",
       "      <td>SC</td>\n",
       "      <td>34.0</td>\n",
       "      <td>-81.0</td>\n",
       "      <td>269076.0</td>\n",
       "      <td>high</td>\n",
       "    </tr>\n",
       "    <tr>\n",
       "      <th>2</th>\n",
       "      <td>20244</td>\n",
       "      <td>-1007350</td>\n",
       "      <td>HighSchool</td>\n",
       "      <td>2011</td>\n",
       "      <td>676.0</td>\n",
       "      <td>Roderick Byers</td>\n",
       "      <td>Northwestern</td>\n",
       "      <td>Clemson</td>\n",
       "      <td>SDE</td>\n",
       "      <td>75.0</td>\n",
       "      <td>...</td>\n",
       "      <td>-81.0250784</td>\n",
       "      <td>45091</td>\n",
       "      <td>34.0</td>\n",
       "      <td>-81.0</td>\n",
       "      <td>Rock Hill</td>\n",
       "      <td>SC</td>\n",
       "      <td>34.0</td>\n",
       "      <td>-81.0</td>\n",
       "      <td>269076.0</td>\n",
       "      <td>high</td>\n",
       "    </tr>\n",
       "    <tr>\n",
       "      <th>3</th>\n",
       "      <td>20875</td>\n",
       "      <td>-1032025</td>\n",
       "      <td>HighSchool</td>\n",
       "      <td>2011</td>\n",
       "      <td>1345.0</td>\n",
       "      <td>Gerald Dixon Jr.</td>\n",
       "      <td>Northwestern</td>\n",
       "      <td>South Carolina</td>\n",
       "      <td>DT</td>\n",
       "      <td>74.0</td>\n",
       "      <td>...</td>\n",
       "      <td>-81.0250784</td>\n",
       "      <td>45091</td>\n",
       "      <td>34.0</td>\n",
       "      <td>-81.0</td>\n",
       "      <td>Rock Hill</td>\n",
       "      <td>SC</td>\n",
       "      <td>34.0</td>\n",
       "      <td>-81.0</td>\n",
       "      <td>269076.0</td>\n",
       "      <td>high</td>\n",
       "    </tr>\n",
       "    <tr>\n",
       "      <th>4</th>\n",
       "      <td>21202</td>\n",
       "      <td>-1032025</td>\n",
       "      <td>HighSchool</td>\n",
       "      <td>2011</td>\n",
       "      <td>1672.0</td>\n",
       "      <td>Gerald Dixon</td>\n",
       "      <td>South Pointe</td>\n",
       "      <td>South Carolina</td>\n",
       "      <td>SDE</td>\n",
       "      <td>74.0</td>\n",
       "      <td>...</td>\n",
       "      <td>-81.0250784</td>\n",
       "      <td>45091</td>\n",
       "      <td>34.0</td>\n",
       "      <td>-81.0</td>\n",
       "      <td>Rock Hill</td>\n",
       "      <td>SC</td>\n",
       "      <td>34.0</td>\n",
       "      <td>-81.0</td>\n",
       "      <td>269076.0</td>\n",
       "      <td>high</td>\n",
       "    </tr>\n",
       "  </tbody>\n",
       "</table>\n",
       "<p>5 rows × 27 columns</p>\n",
       "</div>"
      ],
      "text/plain": [
       "      id athleteId recruitType  year  ranking              name        school  \\\n",
       "0  19571  -1032080  HighSchool  2011      1.0  Jadeveon Clowney  South Pointe   \n",
       "1  20160    512424  HighSchool  2011    591.0     Justin Worley  Northwestern   \n",
       "2  20244  -1007350  HighSchool  2011    676.0    Roderick Byers  Northwestern   \n",
       "3  20875  -1032025  HighSchool  2011   1345.0  Gerald Dixon Jr.  Northwestern   \n",
       "4  21202  -1032025  HighSchool  2011   1672.0      Gerald Dixon  South Pointe   \n",
       "\n",
       "      committedTo position  height  ...  hometownInfo.longitude  \\\n",
       "0  South Carolina      WDE    77.0  ...             -81.0250784   \n",
       "1       Tennessee      PRO    76.0  ...             -81.0250784   \n",
       "2         Clemson      SDE    75.0  ...             -81.0250784   \n",
       "3  South Carolina       DT    74.0  ...             -81.0250784   \n",
       "4  South Carolina      SDE    74.0  ...             -81.0250784   \n",
       "\n",
       "   hometownInfo.fipsCode  lat_adj lng_adj primary_city state adj_lat adj_lng  \\\n",
       "0                  45091     34.0   -81.0    Rock Hill    SC    34.0   -81.0   \n",
       "1                  45091     34.0   -81.0    Rock Hill    SC    34.0   -81.0   \n",
       "2                  45091     34.0   -81.0    Rock Hill    SC    34.0   -81.0   \n",
       "3                  45091     34.0   -81.0    Rock Hill    SC    34.0   -81.0   \n",
       "4                  45091     34.0   -81.0    Rock Hill    SC    34.0   -81.0   \n",
       "\n",
       "  Average Income  income_level  \n",
       "0       269076.0          high  \n",
       "1       269076.0          high  \n",
       "2       269076.0          high  \n",
       "3       269076.0          high  \n",
       "4       269076.0          high  \n",
       "\n",
       "[5 rows x 27 columns]"
      ]
     },
     "execution_count": 129,
     "metadata": {},
     "output_type": "execute_result"
    }
   ],
   "source": [
    "final.head()"
   ]
  },
  {
   "cell_type": "code",
   "execution_count": 130,
   "metadata": {},
   "outputs": [],
   "source": [
    "# Create copy of final df\n",
    "final_q = final.copy()"
   ]
  },
  {
   "cell_type": "markdown",
   "metadata": {},
   "source": [
    "# Quick snapshot of total recruits in df and annual totals"
   ]
  },
  {
   "cell_type": "code",
   "execution_count": 131,
   "metadata": {},
   "outputs": [
    {
     "name": "stdout",
     "output_type": "stream",
     "text": [
      "43003\n"
     ]
    },
    {
     "data": {
      "text/plain": [
       "2017    4189\n",
       "2019    3972\n",
       "2020    3948\n",
       "2016    3911\n",
       "2018    3760\n",
       "2014    3738\n",
       "2015    3478\n",
       "2013    3378\n",
       "2012    2993\n",
       "2011    2599\n",
       "2021    2597\n",
       "2023    2310\n",
       "2022    2130\n",
       "Name: year, dtype: int64"
      ]
     },
     "execution_count": 131,
     "metadata": {},
     "output_type": "execute_result"
    }
   ],
   "source": [
    "# Print total number of observations in dataset\n",
    "print(len(final_q))\n",
    "\n",
    "# Review how many entries there are for each year\n",
    "final_q['year'].value_counts()"
   ]
  },
  {
   "cell_type": "code",
   "execution_count": 132,
   "metadata": {},
   "outputs": [
    {
     "name": "stdout",
     "output_type": "stream",
     "text": [
      "NaNs in 'stars' column:  0\n",
      "NaNs in 'position' column:  19\n",
      "NaNs in 'adj_lat' column:  0\n",
      "NaNs in 'adj_lng' column:  0\n",
      "NaNs in 'committedTo' column:  7831\n",
      "NaNs in 'id' column:  0\n"
     ]
    }
   ],
   "source": [
    "# Check how many NaNs there are in key columns -- stars, id, and geometry are most important\n",
    "\n",
    "print(\"NaNs in 'stars' column: \",final_q['stars'].isna().sum())\n",
    "\n",
    "print(\"NaNs in 'position' column: \",final_q['position'].isna().sum())\n",
    "\n",
    "print(\"NaNs in 'adj_lat' column: \",final_q['adj_lat'].isna().sum())\n",
    "\n",
    "print(\"NaNs in 'adj_lng' column: \",final_q['adj_lng'].isna().sum())\n",
    "\n",
    "print(\"NaNs in 'committedTo' column: \",final_q['committedTo'].isna().sum())\n",
    "\n",
    "print(\"NaNs in 'id' column: \",final_q['id'].isna().sum())"
   ]
  },
  {
   "cell_type": "markdown",
   "metadata": {},
   "source": [
    "# What income thresholds separate the U.S. income quartiles (and the Top 10%)?"
   ]
  },
  {
   "cell_type": "code",
   "execution_count": 133,
   "metadata": {},
   "outputs": [
    {
     "name": "stdout",
     "output_type": "stream",
     "text": [
      "Top 10% 385092.0\n",
      "Top 25% 257369.0\n",
      "Top 50% 168956.0\n",
      "Top 75% 102327.0\n",
      "Top 90% 53132.59999999999\n"
     ]
    },
    {
     "data": {
      "text/plain": [
       "<AxesSubplot:ylabel='Density'>"
      ]
     },
     "execution_count": 133,
     "metadata": {},
     "output_type": "execute_result"
    },
    {
     "data": {
      "image/png": "[encoded data removed]",
      "text/plain": [
       "<Figure size 432x288 with 1 Axes>"
      ]
     },
     "metadata": {
      "needs_background": "light"
     },
     "output_type": "display_data"
    }
   ],
   "source": [
    "# Calculate levels of income for various Income Quartiles\n",
    "\n",
    "top_10 = final_q['Average Income'].quantile(0.9)\n",
    "print(\"Top 10%\", top_10)\n",
    "\n",
    "top_25 = final['Average Income'].quantile(0.75)\n",
    "print(\"Top 25%\", top_25)\n",
    "\n",
    "top_50 = final['Average Income'].quantile(0.5)\n",
    "print(\"Top 50%\", top_50)\n",
    "\n",
    "top_75 = final['Average Income'].quantile(0.25)\n",
    "print(\"Top 75%\", top_75)\n",
    "\n",
    "top_90 = final['Average Income'].quantile(0.1)\n",
    "print(\"Top 90%\", top_90)\n",
    "\n",
    "# Plot distribution of Average Income\n",
    "final['Average Income'].plot(kind='kde')"
   ]
  },
  {
   "cell_type": "markdown",
   "metadata": {},
   "source": [
    "# Add a column with quartile labels (and the top 10%)"
   ]
  },
  {
   "cell_type": "code",
   "execution_count": 134,
   "metadata": {},
   "outputs": [
    {
     "data": {
      "text/html": [
       "<div>\n",
       "<style scoped>\n",
       "    .dataframe tbody tr th:only-of-type {\n",
       "        vertical-align: middle;\n",
       "    }\n",
       "\n",
       "    .dataframe tbody tr th {\n",
       "        vertical-align: top;\n",
       "    }\n",
       "\n",
       "    .dataframe thead th {\n",
       "        text-align: right;\n",
       "    }\n",
       "</style>\n",
       "<table border=\"1\" class=\"dataframe\">\n",
       "  <thead>\n",
       "    <tr style=\"text-align: right;\">\n",
       "      <th></th>\n",
       "      <th>id</th>\n",
       "      <th>athleteId</th>\n",
       "      <th>recruitType</th>\n",
       "      <th>year</th>\n",
       "      <th>ranking</th>\n",
       "      <th>name</th>\n",
       "      <th>school</th>\n",
       "      <th>committedTo</th>\n",
       "      <th>position</th>\n",
       "      <th>height</th>\n",
       "      <th>...</th>\n",
       "      <th>hometownInfo.fipsCode</th>\n",
       "      <th>lat_adj</th>\n",
       "      <th>lng_adj</th>\n",
       "      <th>primary_city</th>\n",
       "      <th>state</th>\n",
       "      <th>adj_lat</th>\n",
       "      <th>adj_lng</th>\n",
       "      <th>Average Income</th>\n",
       "      <th>income_level</th>\n",
       "      <th>quartile level</th>\n",
       "    </tr>\n",
       "  </thead>\n",
       "  <tbody>\n",
       "    <tr>\n",
       "      <th>0</th>\n",
       "      <td>19571</td>\n",
       "      <td>-1032080</td>\n",
       "      <td>HighSchool</td>\n",
       "      <td>2011</td>\n",
       "      <td>1.0</td>\n",
       "      <td>Jadeveon Clowney</td>\n",
       "      <td>South Pointe</td>\n",
       "      <td>South Carolina</td>\n",
       "      <td>WDE</td>\n",
       "      <td>77.0</td>\n",
       "      <td>...</td>\n",
       "      <td>45091</td>\n",
       "      <td>34.0</td>\n",
       "      <td>-81.0</td>\n",
       "      <td>Rock Hill</td>\n",
       "      <td>SC</td>\n",
       "      <td>34.0</td>\n",
       "      <td>-81.0</td>\n",
       "      <td>269076.0</td>\n",
       "      <td>high</td>\n",
       "      <td>top quartile</td>\n",
       "    </tr>\n",
       "    <tr>\n",
       "      <th>1</th>\n",
       "      <td>20160</td>\n",
       "      <td>512424</td>\n",
       "      <td>HighSchool</td>\n",
       "      <td>2011</td>\n",
       "      <td>591.0</td>\n",
       "      <td>Justin Worley</td>\n",
       "      <td>Northwestern</td>\n",
       "      <td>Tennessee</td>\n",
       "      <td>PRO</td>\n",
       "      <td>76.0</td>\n",
       "      <td>...</td>\n",
       "      <td>45091</td>\n",
       "      <td>34.0</td>\n",
       "      <td>-81.0</td>\n",
       "      <td>Rock Hill</td>\n",
       "      <td>SC</td>\n",
       "      <td>34.0</td>\n",
       "      <td>-81.0</td>\n",
       "      <td>269076.0</td>\n",
       "      <td>high</td>\n",
       "      <td>top quartile</td>\n",
       "    </tr>\n",
       "    <tr>\n",
       "      <th>2</th>\n",
       "      <td>20244</td>\n",
       "      <td>-1007350</td>\n",
       "      <td>HighSchool</td>\n",
       "      <td>2011</td>\n",
       "      <td>676.0</td>\n",
       "      <td>Roderick Byers</td>\n",
       "      <td>Northwestern</td>\n",
       "      <td>Clemson</td>\n",
       "      <td>SDE</td>\n",
       "      <td>75.0</td>\n",
       "      <td>...</td>\n",
       "      <td>45091</td>\n",
       "      <td>34.0</td>\n",
       "      <td>-81.0</td>\n",
       "      <td>Rock Hill</td>\n",
       "      <td>SC</td>\n",
       "      <td>34.0</td>\n",
       "      <td>-81.0</td>\n",
       "      <td>269076.0</td>\n",
       "      <td>high</td>\n",
       "      <td>top quartile</td>\n",
       "    </tr>\n",
       "    <tr>\n",
       "      <th>3</th>\n",
       "      <td>20875</td>\n",
       "      <td>-1032025</td>\n",
       "      <td>HighSchool</td>\n",
       "      <td>2011</td>\n",
       "      <td>1345.0</td>\n",
       "      <td>Gerald Dixon Jr.</td>\n",
       "      <td>Northwestern</td>\n",
       "      <td>South Carolina</td>\n",
       "      <td>DT</td>\n",
       "      <td>74.0</td>\n",
       "      <td>...</td>\n",
       "      <td>45091</td>\n",
       "      <td>34.0</td>\n",
       "      <td>-81.0</td>\n",
       "      <td>Rock Hill</td>\n",
       "      <td>SC</td>\n",
       "      <td>34.0</td>\n",
       "      <td>-81.0</td>\n",
       "      <td>269076.0</td>\n",
       "      <td>high</td>\n",
       "      <td>top quartile</td>\n",
       "    </tr>\n",
       "    <tr>\n",
       "      <th>4</th>\n",
       "      <td>21202</td>\n",
       "      <td>-1032025</td>\n",
       "      <td>HighSchool</td>\n",
       "      <td>2011</td>\n",
       "      <td>1672.0</td>\n",
       "      <td>Gerald Dixon</td>\n",
       "      <td>South Pointe</td>\n",
       "      <td>South Carolina</td>\n",
       "      <td>SDE</td>\n",
       "      <td>74.0</td>\n",
       "      <td>...</td>\n",
       "      <td>45091</td>\n",
       "      <td>34.0</td>\n",
       "      <td>-81.0</td>\n",
       "      <td>Rock Hill</td>\n",
       "      <td>SC</td>\n",
       "      <td>34.0</td>\n",
       "      <td>-81.0</td>\n",
       "      <td>269076.0</td>\n",
       "      <td>high</td>\n",
       "      <td>top quartile</td>\n",
       "    </tr>\n",
       "  </tbody>\n",
       "</table>\n",
       "<p>5 rows × 28 columns</p>\n",
       "</div>"
      ],
      "text/plain": [
       "      id athleteId recruitType  year  ranking              name        school  \\\n",
       "0  19571  -1032080  HighSchool  2011      1.0  Jadeveon Clowney  South Pointe   \n",
       "1  20160    512424  HighSchool  2011    591.0     Justin Worley  Northwestern   \n",
       "2  20244  -1007350  HighSchool  2011    676.0    Roderick Byers  Northwestern   \n",
       "3  20875  -1032025  HighSchool  2011   1345.0  Gerald Dixon Jr.  Northwestern   \n",
       "4  21202  -1032025  HighSchool  2011   1672.0      Gerald Dixon  South Pointe   \n",
       "\n",
       "      committedTo position  height  ...  hometownInfo.fipsCode  lat_adj  \\\n",
       "0  South Carolina      WDE    77.0  ...                  45091     34.0   \n",
       "1       Tennessee      PRO    76.0  ...                  45091     34.0   \n",
       "2         Clemson      SDE    75.0  ...                  45091     34.0   \n",
       "3  South Carolina       DT    74.0  ...                  45091     34.0   \n",
       "4  South Carolina      SDE    74.0  ...                  45091     34.0   \n",
       "\n",
       "   lng_adj primary_city state adj_lat adj_lng Average Income income_level  \\\n",
       "0    -81.0    Rock Hill    SC    34.0   -81.0       269076.0         high   \n",
       "1    -81.0    Rock Hill    SC    34.0   -81.0       269076.0         high   \n",
       "2    -81.0    Rock Hill    SC    34.0   -81.0       269076.0         high   \n",
       "3    -81.0    Rock Hill    SC    34.0   -81.0       269076.0         high   \n",
       "4    -81.0    Rock Hill    SC    34.0   -81.0       269076.0         high   \n",
       "\n",
       "   quartile level  \n",
       "0    top quartile  \n",
       "1    top quartile  \n",
       "2    top quartile  \n",
       "3    top quartile  \n",
       "4    top quartile  \n",
       "\n",
       "[5 rows x 28 columns]"
      ]
     },
     "execution_count": 134,
     "metadata": {},
     "output_type": "execute_result"
    }
   ],
   "source": [
    "# Add column to df based on Average Income quartile (and top 10%)\n",
    "\n",
    "# Set conditions based on Average Income column\n",
    "col = 'Average Income'\n",
    "conditions = [final_q[col]>=top_10,\n",
    "              (final_q[col]<top_10)&(final[col]>=top_25),\n",
    "              (final_q[col]<top_25)&(final[col]>=top_50),\n",
    "             (final_q[col]<top_50)&(final[col]>=top_75),\n",
    "            final_q[col]<top_75]\n",
    "\n",
    "# Create names for conditions\n",
    "choices = ['top 10 pct', \"top quartile\", \"second quartile\", 'third quartile','fourth quartile']\n",
    "\n",
    "# Create quartile column\n",
    "final_q['quartile level'] = np.select(conditions,choices, default=np.nan)\n",
    "\n",
    "# Review df\n",
    "final_q.head()"
   ]
  },
  {
   "cell_type": "code",
   "execution_count": 135,
   "metadata": {},
   "outputs": [
    {
     "data": {
      "text/plain": [
       "count    43003.000000\n",
       "mean         0.822681\n",
       "std          0.057294\n",
       "min          0.615400\n",
       "25%          0.779700\n",
       "50%          0.820400\n",
       "75%          0.856500\n",
       "max          1.000000\n",
       "Name: rating, dtype: float64"
      ]
     },
     "execution_count": 135,
     "metadata": {},
     "output_type": "execute_result"
    }
   ],
   "source": [
    "# Review distribution of final rating col\n",
    "final_q['rating'].describe()"
   ]
  },
  {
   "cell_type": "markdown",
   "metadata": {},
   "source": [
    "# On average, how many prospects fall into each star rating category?"
   ]
  },
  {
   "cell_type": "code",
   "execution_count": 136,
   "metadata": {},
   "outputs": [
    {
     "name": "stdout",
     "output_type": "stream",
     "text": [
      "Average total prospects per year id    3324.0\n",
      "dtype: float64\n"
     ]
    },
    {
     "data": {
      "text/html": [
       "<div>\n",
       "<style scoped>\n",
       "    .dataframe tbody tr th:only-of-type {\n",
       "        vertical-align: middle;\n",
       "    }\n",
       "\n",
       "    .dataframe tbody tr th {\n",
       "        vertical-align: top;\n",
       "    }\n",
       "\n",
       "    .dataframe thead th {\n",
       "        text-align: right;\n",
       "    }\n",
       "</style>\n",
       "<table border=\"1\" class=\"dataframe\">\n",
       "  <thead>\n",
       "    <tr style=\"text-align: right;\">\n",
       "      <th></th>\n",
       "      <th>id</th>\n",
       "    </tr>\n",
       "    <tr>\n",
       "      <th>stars</th>\n",
       "      <th></th>\n",
       "    </tr>\n",
       "  </thead>\n",
       "  <tbody>\n",
       "    <tr>\n",
       "      <th>1</th>\n",
       "      <td>74.0</td>\n",
       "    </tr>\n",
       "    <tr>\n",
       "      <th>2</th>\n",
       "      <td>1115.0</td>\n",
       "    </tr>\n",
       "    <tr>\n",
       "      <th>3</th>\n",
       "      <td>1775.0</td>\n",
       "    </tr>\n",
       "    <tr>\n",
       "      <th>4</th>\n",
       "      <td>328.0</td>\n",
       "    </tr>\n",
       "    <tr>\n",
       "      <th>5</th>\n",
       "      <td>32.0</td>\n",
       "    </tr>\n",
       "  </tbody>\n",
       "</table>\n",
       "</div>"
      ],
      "text/plain": [
       "           id\n",
       "stars        \n",
       "1        74.0\n",
       "2      1115.0\n",
       "3      1775.0\n",
       "4       328.0\n",
       "5        32.0"
      ]
     },
     "execution_count": 136,
     "metadata": {},
     "output_type": "execute_result"
    }
   ],
   "source": [
    "# Calculate Total and Average prospects per year by star ranking\n",
    "\n",
    "# Get total counts for each star level\n",
    "yearly = final_q.groupby(['year','stars'])['id'].count()\n",
    "\n",
    "# Convert into df\n",
    "yearly_df = pd.DataFrame(yearly)\n",
    "\n",
    "# Review yearly totals\n",
    "yearly_df.tail(15)\n",
    "\n",
    "# Calculate average number of prospects per year for each star ranking\n",
    "yr_avg = pd.DataFrame(yearly_df.groupby(['stars'])['id'].mean().round(0))\n",
    "\n",
    "# Calculate average total number of prospects per year\n",
    "print('Average total prospects per year',yr_avg.sum())\n",
    "\n",
    "# Show averages by star ranking\n",
    "yr_avg"
   ]
  },
  {
   "cell_type": "code",
   "execution_count": 137,
   "metadata": {},
   "outputs": [
    {
     "name": "stdout",
     "output_type": "stream",
     "text": [
      "2130\n"
     ]
    },
    {
     "data": {
      "text/plain": [
       "3    1616\n",
       "4     387\n",
       "2      92\n",
       "5      35\n",
       "Name: stars, dtype: int64"
      ]
     },
     "execution_count": 137,
     "metadata": {},
     "output_type": "execute_result"
    }
   ],
   "source": [
    "# Check counts for a given year\n",
    "\n",
    "# Subset df based on chosen year\n",
    "single_year = final_q[final_q['year']==2022]\n",
    "\n",
    "# Get number of entries\n",
    "print(len(single_year))\n",
    "\n",
    "# Review how many players are included for each star rating\n",
    "single_year['stars'].value_counts()"
   ]
  },
  {
   "cell_type": "markdown",
   "metadata": {},
   "source": [
    "# Given a particular quartile, is the average income different for each star rating?"
   ]
  },
  {
   "cell_type": "code",
   "execution_count": 138,
   "metadata": {},
   "outputs": [
    {
     "data": {
      "text/html": [
       "<div>\n",
       "<style scoped>\n",
       "    .dataframe tbody tr th:only-of-type {\n",
       "        vertical-align: middle;\n",
       "    }\n",
       "\n",
       "    .dataframe tbody tr th {\n",
       "        vertical-align: top;\n",
       "    }\n",
       "\n",
       "    .dataframe thead th {\n",
       "        text-align: right;\n",
       "    }\n",
       "</style>\n",
       "<table border=\"1\" class=\"dataframe\">\n",
       "  <thead>\n",
       "    <tr style=\"text-align: right;\">\n",
       "      <th>stars</th>\n",
       "      <th>5</th>\n",
       "      <th>4</th>\n",
       "      <th>3</th>\n",
       "      <th>2</th>\n",
       "      <th>1</th>\n",
       "    </tr>\n",
       "    <tr>\n",
       "      <th>quartile level</th>\n",
       "      <th></th>\n",
       "      <th></th>\n",
       "      <th></th>\n",
       "      <th></th>\n",
       "      <th></th>\n",
       "    </tr>\n",
       "  </thead>\n",
       "  <tbody>\n",
       "    <tr>\n",
       "      <th>top 10 pct</th>\n",
       "      <td>532.0</td>\n",
       "      <td>537.0</td>\n",
       "      <td>532.0</td>\n",
       "      <td>532.0</td>\n",
       "      <td>514.0</td>\n",
       "    </tr>\n",
       "    <tr>\n",
       "      <th>top quartile</th>\n",
       "      <td>301.0</td>\n",
       "      <td>306.0</td>\n",
       "      <td>306.0</td>\n",
       "      <td>307.0</td>\n",
       "      <td>308.0</td>\n",
       "    </tr>\n",
       "    <tr>\n",
       "      <th>second quartile</th>\n",
       "      <td>212.0</td>\n",
       "      <td>213.0</td>\n",
       "      <td>213.0</td>\n",
       "      <td>212.0</td>\n",
       "      <td>211.0</td>\n",
       "    </tr>\n",
       "    <tr>\n",
       "      <th>third quartile</th>\n",
       "      <td>134.0</td>\n",
       "      <td>136.0</td>\n",
       "      <td>136.0</td>\n",
       "      <td>137.0</td>\n",
       "      <td>135.0</td>\n",
       "    </tr>\n",
       "    <tr>\n",
       "      <th>fourth quartile</th>\n",
       "      <td>66.0</td>\n",
       "      <td>61.0</td>\n",
       "      <td>60.0</td>\n",
       "      <td>59.0</td>\n",
       "      <td>62.0</td>\n",
       "    </tr>\n",
       "  </tbody>\n",
       "</table>\n",
       "</div>"
      ],
      "text/plain": [
       "stars                5      4      3      2      1\n",
       "quartile level                                    \n",
       "top 10 pct       532.0  537.0  532.0  532.0  514.0\n",
       "top quartile     301.0  306.0  306.0  307.0  308.0\n",
       "second quartile  212.0  213.0  213.0  212.0  211.0\n",
       "third quartile   134.0  136.0  136.0  137.0  135.0\n",
       "fourth quartile   66.0   61.0   60.0   59.0   62.0"
      ]
     },
     "execution_count": 138,
     "metadata": {},
     "output_type": "execute_result"
    }
   ],
   "source": [
    "# Average Income by star rating based on quartiles\n",
    "\n",
    "# Groupby quartiles and stars, get mean income\n",
    "stars_v_income = np.round(pd.DataFrame(final_q.groupby(['quartile level','stars'])['Average Income'].mean()).unstack('stars').divide(1000))\n",
    "\n",
    "# Get rid of multi index\n",
    "stars_v_income.columns = stars_v_income.columns.get_level_values(1)\n",
    "\n",
    "# Sort in descending order\n",
    "stars_v_income.sort_values(by=1,ascending=False,inplace=True)\n",
    "\n",
    "# Reverse order of columns so 5 star is first\n",
    "stars_v_income.iloc[:,::-1]\n",
    "#stars_v_income"
   ]
  },
  {
   "cell_type": "markdown",
   "metadata": {},
   "source": [
    "# How many 5, 4 and 3-star recruits are there by position group?"
   ]
  },
  {
   "cell_type": "code",
   "execution_count": 139,
   "metadata": {},
   "outputs": [],
   "source": [
    "# Create position group mapping\n",
    "\n",
    "position_map = {'QB':'Quarterback','DUAL':'Quarterback','PRO':'Quarterback',\n",
    "                'RB':'Running Back','FB':'Running Back','APB':'Running Back',\n",
    "                'WR':'Wide Receiver','TE':'Wide Receiver',\n",
    "                'IOL':'Offensive Line','OC':'Offensive Line','OG':'Offensive Line','OT':'Offensive Line',\n",
    "                'EDGE':'Def Line','DL':'Def Line','WDE':'Def Line','SDE':'Def Line','DT':\"Def Line\",\n",
    "                'LB':'Linebacker','ILB':'Linebacker','OLB':'Linebacker',\n",
    "                'S':'Cornerback','CB':'Cornerback'\n",
    "               }"
   ]
  },
  {
   "cell_type": "code",
   "execution_count": 140,
   "metadata": {
    "scrolled": true
   },
   "outputs": [
    {
     "name": "stdout",
     "output_type": "stream",
     "text": [
      "Total 5 star Recruits (all positions):  422\n",
      "Total 4 star Recruits (all positions):  4261\n",
      "Total 3 star Recruits (all positions):  23077\n"
     ]
    },
    {
     "data": {
      "text/html": [
       "<div>\n",
       "<style scoped>\n",
       "    .dataframe tbody tr th:only-of-type {\n",
       "        vertical-align: middle;\n",
       "    }\n",
       "\n",
       "    .dataframe tbody tr th {\n",
       "        vertical-align: top;\n",
       "    }\n",
       "\n",
       "    .dataframe thead th {\n",
       "        text-align: right;\n",
       "    }\n",
       "</style>\n",
       "<table border=\"1\" class=\"dataframe\">\n",
       "  <thead>\n",
       "    <tr style=\"text-align: right;\">\n",
       "      <th></th>\n",
       "      <th>mapped_position</th>\n",
       "      <th>Total 5 star</th>\n",
       "      <th>Total 4 star</th>\n",
       "      <th>Total 3 star</th>\n",
       "    </tr>\n",
       "  </thead>\n",
       "  <tbody>\n",
       "    <tr>\n",
       "      <th>0</th>\n",
       "      <td>Cornerback</td>\n",
       "      <td>63</td>\n",
       "      <td>694</td>\n",
       "      <td>3763</td>\n",
       "    </tr>\n",
       "    <tr>\n",
       "      <th>1</th>\n",
       "      <td>Def Line</td>\n",
       "      <td>110</td>\n",
       "      <td>779</td>\n",
       "      <td>3671</td>\n",
       "    </tr>\n",
       "    <tr>\n",
       "      <th>2</th>\n",
       "      <td>Linebacker</td>\n",
       "      <td>43</td>\n",
       "      <td>469</td>\n",
       "      <td>2543</td>\n",
       "    </tr>\n",
       "    <tr>\n",
       "      <th>3</th>\n",
       "      <td>Offensive Line</td>\n",
       "      <td>55</td>\n",
       "      <td>635</td>\n",
       "      <td>3579</td>\n",
       "    </tr>\n",
       "    <tr>\n",
       "      <th>4</th>\n",
       "      <td>Quarterback</td>\n",
       "      <td>36</td>\n",
       "      <td>297</td>\n",
       "      <td>1432</td>\n",
       "    </tr>\n",
       "    <tr>\n",
       "      <th>5</th>\n",
       "      <td>Running Back</td>\n",
       "      <td>44</td>\n",
       "      <td>337</td>\n",
       "      <td>1847</td>\n",
       "    </tr>\n",
       "    <tr>\n",
       "      <th>6</th>\n",
       "      <td>Wide Receiver</td>\n",
       "      <td>50</td>\n",
       "      <td>791</td>\n",
       "      <td>4082</td>\n",
       "    </tr>\n",
       "  </tbody>\n",
       "</table>\n",
       "</div>"
      ],
      "text/plain": [
       "  mapped_position  Total 5 star  Total 4 star  Total 3 star\n",
       "0      Cornerback            63           694          3763\n",
       "1        Def Line           110           779          3671\n",
       "2      Linebacker            43           469          2543\n",
       "3  Offensive Line            55           635          3579\n",
       "4     Quarterback            36           297          1432\n",
       "5    Running Back            44           337          1847\n",
       "6   Wide Receiver            50           791          4082"
      ]
     },
     "execution_count": 140,
     "metadata": {},
     "output_type": "execute_result"
    }
   ],
   "source": [
    "# Map position groups dictionary to 'position' column and create new 'mapped position' column\n",
    "\n",
    "# Create copy of df\n",
    "df_mapped_positions = final_q.copy()\n",
    "\n",
    "# Map position group names to position column\n",
    "df_mapped_positions['mapped_position'] = df_mapped_positions['position'].map(position_map)\n",
    "#df_mapped_positions.head()\n",
    "\n",
    "# 5-star recruits ------------------------------------------\n",
    "\n",
    "# Get subset of data for only 5-star recruits\n",
    "stars_5 = df_mapped_positions[df_mapped_positions['stars']==5]\n",
    "print(\"Total 5 star Recruits (all positions): \",len(stars_5))\n",
    "\n",
    "# Get counts by position\n",
    "position_5 = stars_5.groupby('mapped_position')['mapped_position'].count()\n",
    "#position_5\n",
    "\n",
    "# 4-star recruits ------------------------------------------\n",
    "\n",
    "# Get subset of data for only 4-star recruits\n",
    "stars_4 = df_mapped_positions[df_mapped_positions['stars']==4]\n",
    "print(\"Total 4 star Recruits (all positions): \",len(stars_4))\n",
    "\n",
    "# Get counts by position\n",
    "position_4 = stars_4.groupby('mapped_position')['mapped_position'].agg('count')\n",
    "#position_4\n",
    "\n",
    "# 3-star recruits ------------------------------------------\n",
    "\n",
    "# Get subset of data for only 3-star recruits\n",
    "stars_3 = df_mapped_positions[df_mapped_positions['stars']==3]\n",
    "print(\"Total 3 star Recruits (all positions): \",len(stars_3))\n",
    "\n",
    "# Get counts by position\n",
    "position_3 = stars_3.groupby('mapped_position')['mapped_position'].count()\n",
    "#position_3\n",
    "\n",
    "# Combine 5, 4 and 3 star data ------------------------------\n",
    "\n",
    "all_ranking = pd.DataFrame([position_5,position_4,\n",
    "                                 position_3])\n",
    "\n",
    "# Transpose to get star rankings as columns\n",
    "all_rankings_T = all_ranking.T\n",
    "\n",
    "# Add column names\n",
    "all_rankings_T.columns = ['Total 5 star','Total 4 star','Total 3 star']\n",
    "all_rankings_T.reset_index(inplace=True)\n",
    "\n",
    "# Show data\n",
    "all_rankings_T"
   ]
  },
  {
   "cell_type": "code",
   "execution_count": 141,
   "metadata": {},
   "outputs": [
    {
     "data": {
      "image/png": "[encoded data removed]",
      "text/plain": [
       "<Figure size 1008x360 with 1 Axes>"
      ]
     },
     "metadata": {
      "needs_background": "light"
     },
     "output_type": "display_data"
    }
   ],
   "source": [
    "# Create bar chart for numbers of 5 and 4 star prospects\n",
    "\n",
    "\n",
    "# Create ordered list of position labels for x-axis\n",
    "labels = ['Quarterback','Running Back','Wide Receiver','Offensive Line','Def Line','Linebacker','Cornerback']\n",
    "\n",
    "# Copy all_rankings_T df\n",
    "bar_chart_df = all_rankings_T.copy()\n",
    "\n",
    "# Create mapping based on order of labels\n",
    "bar_chart_df['mapped_position'] = pd.Categorical(bar_chart_df['mapped_position'],categories=labels)\n",
    "\n",
    "# Sort df by ordered labels\n",
    "bar_chart_df.sort_values(by='mapped_position',inplace=True)\n",
    "#bar_chart_df\n",
    "\n",
    "# Create plot\n",
    "fig, ax = plt.subplots(figsize=(14,5))\n",
    "\n",
    "# Create list of labels for x-axis\n",
    "x = np.arange(len(labels))\n",
    "\n",
    "# Set width of bars\n",
    "width = 0.4\n",
    "\n",
    "# Create 5 and 4 star bars separately\n",
    "rects1 = ax.bar(x - width/2,bar_chart_df['Total 5 star'],width,label='5-star')\n",
    "rects2 = ax.bar(x + width/2,bar_chart_df['Total 4 star'],width,label='4-star')\n",
    "\n",
    "# Format chart\n",
    "ax.set_ylabel('Total Players',fontsize=24)\n",
    "ax.set_xlabel('Position',fontsize=24)\n",
    "ax.set_ylim(0,800)\n",
    "\n",
    "ax.set_xticks(x)\n",
    "ax.set_xticklabels(labels)\n",
    "ax.set_xlabel('Position', fontsize=24)\n",
    "ax.tick_params(labelsize=16)\n",
    "\n",
    "\n",
    "# Create legend\n",
    "ax.legend(loc='best',bbox_to_anchor=(0.075, 0.25, 0.75, 0.75),fontsize=24)\n",
    "\n",
    "# Remove lines at top and right of chart\n",
    "ax.spines[['right', 'top']].set_visible(False)\n",
    "\n",
    "# Add values above bars\n",
    "ax.bar_label(rects1, padding=3,fontsize=26)\n",
    "ax.bar_label(rects2, padding=3,fontsize=26)\n",
    "\n",
    "fig.tight_layout()\n",
    "\n",
    "# Save chart to png file\n",
    "plt.savefig('5&4 grouped bar.png')\n",
    "\n",
    "# Show plot\n",
    "plt.show()"
   ]
  },
  {
   "cell_type": "markdown",
   "metadata": {},
   "source": [
    "# Calculate total number of recruits from each state"
   ]
  },
  {
   "cell_type": "code",
   "execution_count": 142,
   "metadata": {},
   "outputs": [
    {
     "name": "stdout",
     "output_type": "stream",
     "text": [
      "43003\n"
     ]
    },
    {
     "data": {
      "text/html": [
       "<div>\n",
       "<style scoped>\n",
       "    .dataframe tbody tr th:only-of-type {\n",
       "        vertical-align: middle;\n",
       "    }\n",
       "\n",
       "    .dataframe tbody tr th {\n",
       "        vertical-align: top;\n",
       "    }\n",
       "\n",
       "    .dataframe thead th {\n",
       "        text-align: right;\n",
       "    }\n",
       "</style>\n",
       "<table border=\"1\" class=\"dataframe\">\n",
       "  <thead>\n",
       "    <tr style=\"text-align: right;\">\n",
       "      <th>stars</th>\n",
       "      <th>state</th>\n",
       "      <th>1</th>\n",
       "      <th>2</th>\n",
       "      <th>3</th>\n",
       "      <th>4</th>\n",
       "      <th>5</th>\n",
       "      <th>total recruits</th>\n",
       "      <th>% of total recruits</th>\n",
       "      <th>5 % of total</th>\n",
       "    </tr>\n",
       "  </thead>\n",
       "  <tbody>\n",
       "    <tr>\n",
       "      <th>0</th>\n",
       "      <td>TX</td>\n",
       "      <td>45.0</td>\n",
       "      <td>1839.0</td>\n",
       "      <td>3235.0</td>\n",
       "      <td>600.0</td>\n",
       "      <td>63.0</td>\n",
       "      <td>5782.0</td>\n",
       "      <td>13.4</td>\n",
       "      <td>1.09</td>\n",
       "    </tr>\n",
       "    <tr>\n",
       "      <th>1</th>\n",
       "      <td>FL</td>\n",
       "      <td>93.0</td>\n",
       "      <td>1666.0</td>\n",
       "      <td>3198.0</td>\n",
       "      <td>597.0</td>\n",
       "      <td>81.0</td>\n",
       "      <td>5635.0</td>\n",
       "      <td>13.1</td>\n",
       "      <td>1.44</td>\n",
       "    </tr>\n",
       "    <tr>\n",
       "      <th>2</th>\n",
       "      <td>CA</td>\n",
       "      <td>66.0</td>\n",
       "      <td>1466.0</td>\n",
       "      <td>2275.0</td>\n",
       "      <td>449.0</td>\n",
       "      <td>44.0</td>\n",
       "      <td>4300.0</td>\n",
       "      <td>10.0</td>\n",
       "      <td>1.02</td>\n",
       "    </tr>\n",
       "    <tr>\n",
       "      <th>3</th>\n",
       "      <td>GA</td>\n",
       "      <td>59.0</td>\n",
       "      <td>925.0</td>\n",
       "      <td>1987.0</td>\n",
       "      <td>384.0</td>\n",
       "      <td>47.0</td>\n",
       "      <td>3402.0</td>\n",
       "      <td>7.9</td>\n",
       "      <td>1.38</td>\n",
       "    </tr>\n",
       "    <tr>\n",
       "      <th>4</th>\n",
       "      <td>OH</td>\n",
       "      <td>13.0</td>\n",
       "      <td>656.0</td>\n",
       "      <td>1026.0</td>\n",
       "      <td>173.0</td>\n",
       "      <td>12.0</td>\n",
       "      <td>1880.0</td>\n",
       "      <td>4.4</td>\n",
       "      <td>0.64</td>\n",
       "    </tr>\n",
       "  </tbody>\n",
       "</table>\n",
       "</div>"
      ],
      "text/plain": [
       "stars state     1       2       3      4     5  total recruits  \\\n",
       "0        TX  45.0  1839.0  3235.0  600.0  63.0          5782.0   \n",
       "1        FL  93.0  1666.0  3198.0  597.0  81.0          5635.0   \n",
       "2        CA  66.0  1466.0  2275.0  449.0  44.0          4300.0   \n",
       "3        GA  59.0   925.0  1987.0  384.0  47.0          3402.0   \n",
       "4        OH  13.0   656.0  1026.0  173.0  12.0          1880.0   \n",
       "\n",
       "stars  % of total recruits  5 % of total  \n",
       "0                     13.4          1.09  \n",
       "1                     13.1          1.44  \n",
       "2                     10.0          1.02  \n",
       "3                      7.9          1.38  \n",
       "4                      4.4          0.64  "
      ]
     },
     "execution_count": 142,
     "metadata": {},
     "output_type": "execute_result"
    }
   ],
   "source": [
    "# Groupby state -- how many 5/4/3 star recruits from each state?\n",
    "\n",
    "# Groupby to get counts by state\n",
    "state = final_q.groupby(['state','stars'])['stars'].count()\n",
    "print(len(final_q))\n",
    "\n",
    "# Turn into df\n",
    "state_df = pd.DataFrame(state)\n",
    "\n",
    "# Rename columns\n",
    "state_df = state_df.rename(columns={'stars':'total players'})\n",
    "\n",
    "# Reset index\n",
    "state_df.reset_index('stars',inplace=True)\n",
    "\n",
    "# Review df\n",
    "#state_df.head(5)\n",
    "\n",
    "# Pivot df so star ratings become columns\n",
    "state_pivot = state_df.pivot(columns='stars')\n",
    "\n",
    "# Flatten df\n",
    "state_pivot.columns = state_pivot.columns.get_level_values(1)\n",
    "\n",
    "# Add sum of each state\n",
    "state_pivot['total recruits'] = state_pivot.sum(axis=1)\n",
    "\n",
    "# Sort by total number of recruits\n",
    "most_stars = state_pivot.sort_values(by='total recruits',ascending=False)\n",
    "\n",
    "# Reset index\n",
    "most_stars.reset_index(inplace=True)\n",
    "\n",
    "# Calculate each state's % of total recruits\n",
    "most_stars['% of total recruits'] = (most_stars['total recruits']/sum(most_stars['total recruits'])).multiply(100).round(1)\n",
    "\n",
    "# Calculate % of each state's recruits that are 5 star\n",
    "most_stars['5 % of total'] = (most_stars[5] / most_stars['total recruits']).multiply(100).round(2)\n",
    "\n",
    "# Show table\n",
    "most_stars.head()"
   ]
  },
  {
   "cell_type": "markdown",
   "metadata": {},
   "source": [
    "# Check at individual position level (rather than position group level) whether there are any trends showing that average income is significantly higher for higher star ratings."
   ]
  },
  {
   "cell_type": "code",
   "execution_count": 143,
   "metadata": {},
   "outputs": [
    {
     "name": "stdout",
     "output_type": "stream",
     "text": [
      "Total 5 star Recruits (all positions):  422\n",
      "Total 4 star Recruits (all positions):  4261\n",
      "Total 3 star Recruits (all positions):  23077\n"
     ]
    },
    {
     "data": {
      "text/html": [
       "<div>\n",
       "<style scoped>\n",
       "    .dataframe tbody tr th:only-of-type {\n",
       "        vertical-align: middle;\n",
       "    }\n",
       "\n",
       "    .dataframe tbody tr th {\n",
       "        vertical-align: top;\n",
       "    }\n",
       "\n",
       "    .dataframe thead th {\n",
       "        text-align: right;\n",
       "    }\n",
       "</style>\n",
       "<table border=\"1\" class=\"dataframe\">\n",
       "  <thead>\n",
       "    <tr style=\"text-align: right;\">\n",
       "      <th></th>\n",
       "      <th>Total 5 star</th>\n",
       "      <th>Total 4 star</th>\n",
       "      <th>Total 3 star</th>\n",
       "    </tr>\n",
       "  </thead>\n",
       "  <tbody>\n",
       "    <tr>\n",
       "      <th>APB</th>\n",
       "      <td>7.0</td>\n",
       "      <td>74.0</td>\n",
       "      <td>287.0</td>\n",
       "    </tr>\n",
       "    <tr>\n",
       "      <th>ATH</th>\n",
       "      <td>21.0</td>\n",
       "      <td>259.0</td>\n",
       "      <td>1874.0</td>\n",
       "    </tr>\n",
       "    <tr>\n",
       "      <th>CB</th>\n",
       "      <td>39.0</td>\n",
       "      <td>377.0</td>\n",
       "      <td>1966.0</td>\n",
       "    </tr>\n",
       "    <tr>\n",
       "      <th>DL</th>\n",
       "      <td>12.0</td>\n",
       "      <td>99.0</td>\n",
       "      <td>346.0</td>\n",
       "    </tr>\n",
       "    <tr>\n",
       "      <th>DT</th>\n",
       "      <td>38.0</td>\n",
       "      <td>252.0</td>\n",
       "      <td>1170.0</td>\n",
       "    </tr>\n",
       "  </tbody>\n",
       "</table>\n",
       "</div>"
      ],
      "text/plain": [
       "     Total 5 star  Total 4 star  Total 3 star\n",
       "APB           7.0          74.0         287.0\n",
       "ATH          21.0         259.0        1874.0\n",
       "CB           39.0         377.0        1966.0\n",
       "DL           12.0          99.0         346.0\n",
       "DT           38.0         252.0        1170.0"
      ]
     },
     "execution_count": 143,
     "metadata": {},
     "output_type": "execute_result"
    }
   ],
   "source": [
    "# Part A: Count total number of 5, 4, 3 star prospects for each individual position\n",
    "\n",
    "# 5 star recruits ------------------------------------------------------\n",
    "\n",
    "# Take subset of df for only 5-star propsects\n",
    "x_stars_5 = final_q[final_q['stars']==5]\n",
    "print(\"Total 5 star Recruits (all positions): \",len(x_stars_5))\n",
    "\n",
    "# Groupby position and count\n",
    "position_totals_5 = x_stars_5.groupby('position')['position'].count()\n",
    "\n",
    "\n",
    "# 4 star recruits ------------------------------------------------------\n",
    "\n",
    "# Take subset of df for only 4-star propsects\n",
    "x_stars_4 = final_q[final_q['stars']==4]\n",
    "print(\"Total 4 star Recruits (all positions): \",len(x_stars_4))\n",
    "\n",
    "# Groupby position and count\n",
    "position_totals_4 = x_stars_4.groupby('position')['position'].agg('count')\n",
    "\n",
    "\n",
    "# 3 star recruits ------------------------------------------------------\n",
    "\n",
    "# Take subset of df for only 3-star propsects\n",
    "x_stars_3 = final_q[final_q['stars']==3]\n",
    "print(\"Total 3 star Recruits (all positions): \",len(x_stars_3))\n",
    "\n",
    "# Groupby position and count\n",
    "position_totals_3 = x_stars_3.groupby('position')['position'].count()\n",
    "\n",
    "\n",
    "# Combine 5, 4 and 3 star data-------------------------------------------------- \n",
    "all_star_ranking = pd.DataFrame([position_totals_5,position_totals_4,\n",
    "                                 position_totals_3])\n",
    "\n",
    "# Transpose to get star rankings in columns\n",
    "all_star_rankings_T = all_star_ranking.T\n",
    "\n",
    "# Add column names\n",
    "all_star_rankings_T.columns = ['Total 5 star','Total 4 star','Total 3 star']\n",
    "\n",
    "# Show results\n",
    "all_star_rankings_T.head()"
   ]
  },
  {
   "cell_type": "code",
   "execution_count": 144,
   "metadata": {},
   "outputs": [
    {
     "data": {
      "text/html": [
       "<div>\n",
       "<style scoped>\n",
       "    .dataframe tbody tr th:only-of-type {\n",
       "        vertical-align: middle;\n",
       "    }\n",
       "\n",
       "    .dataframe tbody tr th {\n",
       "        vertical-align: top;\n",
       "    }\n",
       "\n",
       "    .dataframe thead th {\n",
       "        text-align: right;\n",
       "    }\n",
       "</style>\n",
       "<table border=\"1\" class=\"dataframe\">\n",
       "  <thead>\n",
       "    <tr style=\"text-align: right;\">\n",
       "      <th></th>\n",
       "      <th>id</th>\n",
       "      <th>athleteId</th>\n",
       "      <th>recruitType</th>\n",
       "      <th>year</th>\n",
       "      <th>ranking</th>\n",
       "      <th>name</th>\n",
       "      <th>school</th>\n",
       "      <th>committedTo</th>\n",
       "      <th>position</th>\n",
       "      <th>height</th>\n",
       "      <th>...</th>\n",
       "      <th>hometownInfo.fipsCode</th>\n",
       "      <th>lat_adj</th>\n",
       "      <th>lng_adj</th>\n",
       "      <th>primary_city</th>\n",
       "      <th>state</th>\n",
       "      <th>adj_lat</th>\n",
       "      <th>adj_lng</th>\n",
       "      <th>Average Income</th>\n",
       "      <th>income_level</th>\n",
       "      <th>quartile level</th>\n",
       "    </tr>\n",
       "  </thead>\n",
       "  <tbody>\n",
       "    <tr>\n",
       "      <th>2661</th>\n",
       "      <td>24967</td>\n",
       "      <td>546415</td>\n",
       "      <td>HighSchool</td>\n",
       "      <td>2013</td>\n",
       "      <td>11.0</td>\n",
       "      <td>Max Browne</td>\n",
       "      <td>Skyline</td>\n",
       "      <td>USC</td>\n",
       "      <td>PRO</td>\n",
       "      <td>77.0</td>\n",
       "      <td>...</td>\n",
       "      <td>53033</td>\n",
       "      <td>47.0</td>\n",
       "      <td>-122.0</td>\n",
       "      <td>Sammamish</td>\n",
       "      <td>WA</td>\n",
       "      <td>47.0</td>\n",
       "      <td>-122.0</td>\n",
       "      <td>504884.0</td>\n",
       "      <td>high</td>\n",
       "      <td>top 10 pct</td>\n",
       "    </tr>\n",
       "    <tr>\n",
       "      <th>4792</th>\n",
       "      <td>35187</td>\n",
       "      <td>4035292</td>\n",
       "      <td>HighSchool</td>\n",
       "      <td>2016</td>\n",
       "      <td>4.0</td>\n",
       "      <td>Shea Patterson</td>\n",
       "      <td>IMG Academy</td>\n",
       "      <td>Ole Miss</td>\n",
       "      <td>PRO</td>\n",
       "      <td>73.5</td>\n",
       "      <td>...</td>\n",
       "      <td>12081</td>\n",
       "      <td>27.0</td>\n",
       "      <td>-82.0</td>\n",
       "      <td>Bradenton</td>\n",
       "      <td>FL</td>\n",
       "      <td>27.0</td>\n",
       "      <td>-82.0</td>\n",
       "      <td>179001.0</td>\n",
       "      <td>high</td>\n",
       "      <td>second quartile</td>\n",
       "    </tr>\n",
       "    <tr>\n",
       "      <th>6100</th>\n",
       "      <td>42923</td>\n",
       "      <td>4374303</td>\n",
       "      <td>HighSchool</td>\n",
       "      <td>2018</td>\n",
       "      <td>16.0</td>\n",
       "      <td>JT Daniels</td>\n",
       "      <td>Mater Dei</td>\n",
       "      <td>USC</td>\n",
       "      <td>PRO</td>\n",
       "      <td>74.0</td>\n",
       "      <td>...</td>\n",
       "      <td>06059</td>\n",
       "      <td>33.0</td>\n",
       "      <td>-117.0</td>\n",
       "      <td>Santa Ana</td>\n",
       "      <td>CA</td>\n",
       "      <td>33.0</td>\n",
       "      <td>-117.0</td>\n",
       "      <td>244681.0</td>\n",
       "      <td>high</td>\n",
       "      <td>second quartile</td>\n",
       "    </tr>\n",
       "    <tr>\n",
       "      <th>7135</th>\n",
       "      <td>28218</td>\n",
       "      <td>559681</td>\n",
       "      <td>HighSchool</td>\n",
       "      <td>2014</td>\n",
       "      <td>8.0</td>\n",
       "      <td>Kyle Allen</td>\n",
       "      <td>Desert Mountain</td>\n",
       "      <td>Texas A&amp;M</td>\n",
       "      <td>PRO</td>\n",
       "      <td>75.0</td>\n",
       "      <td>...</td>\n",
       "      <td>04013</td>\n",
       "      <td>33.0</td>\n",
       "      <td>-111.0</td>\n",
       "      <td>Scottsdale</td>\n",
       "      <td>AZ</td>\n",
       "      <td>33.0</td>\n",
       "      <td>-111.0</td>\n",
       "      <td>365571.0</td>\n",
       "      <td>high</td>\n",
       "      <td>top quartile</td>\n",
       "    </tr>\n",
       "    <tr>\n",
       "      <th>13797</th>\n",
       "      <td>71482</td>\n",
       "      <td>4433971</td>\n",
       "      <td>HighSchool</td>\n",
       "      <td>2021</td>\n",
       "      <td>27.0</td>\n",
       "      <td>Kyle McCord</td>\n",
       "      <td>St. Joseph's</td>\n",
       "      <td>Ohio State</td>\n",
       "      <td>PRO</td>\n",
       "      <td>75.0</td>\n",
       "      <td>...</td>\n",
       "      <td>42101</td>\n",
       "      <td>39.0</td>\n",
       "      <td>-75.0</td>\n",
       "      <td>Philadelphia</td>\n",
       "      <td>PA</td>\n",
       "      <td>39.0</td>\n",
       "      <td>-75.0</td>\n",
       "      <td>163429.0</td>\n",
       "      <td>high</td>\n",
       "      <td>third quartile</td>\n",
       "    </tr>\n",
       "  </tbody>\n",
       "</table>\n",
       "<p>5 rows × 28 columns</p>\n",
       "</div>"
      ],
      "text/plain": [
       "          id athleteId recruitType  year  ranking            name  \\\n",
       "2661   24967    546415  HighSchool  2013     11.0      Max Browne   \n",
       "4792   35187   4035292  HighSchool  2016      4.0  Shea Patterson   \n",
       "6100   42923   4374303  HighSchool  2018     16.0      JT Daniels   \n",
       "7135   28218    559681  HighSchool  2014      8.0      Kyle Allen   \n",
       "13797  71482   4433971  HighSchool  2021     27.0     Kyle McCord   \n",
       "\n",
       "                school committedTo position  height  ...  \\\n",
       "2661           Skyline         USC      PRO    77.0  ...   \n",
       "4792       IMG Academy    Ole Miss      PRO    73.5  ...   \n",
       "6100         Mater Dei         USC      PRO    74.0  ...   \n",
       "7135   Desert Mountain   Texas A&M      PRO    75.0  ...   \n",
       "13797     St. Joseph's  Ohio State      PRO    75.0  ...   \n",
       "\n",
       "       hometownInfo.fipsCode  lat_adj  lng_adj  primary_city state adj_lat  \\\n",
       "2661                   53033     47.0   -122.0     Sammamish    WA    47.0   \n",
       "4792                   12081     27.0    -82.0     Bradenton    FL    27.0   \n",
       "6100                   06059     33.0   -117.0     Santa Ana    CA    33.0   \n",
       "7135                   04013     33.0   -111.0    Scottsdale    AZ    33.0   \n",
       "13797                  42101     39.0    -75.0  Philadelphia    PA    39.0   \n",
       "\n",
       "      adj_lng Average Income income_level   quartile level  \n",
       "2661   -122.0       504884.0         high       top 10 pct  \n",
       "4792    -82.0       179001.0         high  second quartile  \n",
       "6100   -117.0       244681.0         high  second quartile  \n",
       "7135   -111.0       365571.0         high     top quartile  \n",
       "13797   -75.0       163429.0         high   third quartile  \n",
       "\n",
       "[5 rows x 28 columns]"
      ]
     },
     "execution_count": 144,
     "metadata": {},
     "output_type": "execute_result"
    }
   ],
   "source": [
    "# Spot check 5-star, PRO quarterbacks\n",
    "\n",
    "# Take subset of all PRO-style QBs\n",
    "only_qb = final_q[final_q['position']=='PRO']\n",
    "\n",
    "# Get 5-star PRO qbs only\n",
    "five_qb = only_qb[only_qb['stars']==5]\n",
    "\n",
    "# Review list\n",
    "five_qb.head()"
   ]
  },
  {
   "cell_type": "code",
   "execution_count": 145,
   "metadata": {},
   "outputs": [
    {
     "data": {
      "text/html": [
       "<div>\n",
       "<style scoped>\n",
       "    .dataframe tbody tr th:only-of-type {\n",
       "        vertical-align: middle;\n",
       "    }\n",
       "\n",
       "    .dataframe tbody tr th {\n",
       "        vertical-align: top;\n",
       "    }\n",
       "\n",
       "    .dataframe thead th {\n",
       "        text-align: right;\n",
       "    }\n",
       "</style>\n",
       "<table border=\"1\" class=\"dataframe\">\n",
       "  <thead>\n",
       "    <tr style=\"text-align: right;\">\n",
       "      <th></th>\n",
       "      <th>5 star mean inc</th>\n",
       "      <th>4 star mean inc</th>\n",
       "      <th>3 star mean inc</th>\n",
       "      <th>5 v 4</th>\n",
       "      <th>4 v 3</th>\n",
       "    </tr>\n",
       "  </thead>\n",
       "  <tbody>\n",
       "    <tr>\n",
       "      <th>APB</th>\n",
       "      <td>275.43</td>\n",
       "      <td>209.24</td>\n",
       "      <td>209.70</td>\n",
       "      <td>0.32</td>\n",
       "      <td>-0.00</td>\n",
       "    </tr>\n",
       "    <tr>\n",
       "      <th>ATH</th>\n",
       "      <td>161.25</td>\n",
       "      <td>181.62</td>\n",
       "      <td>176.83</td>\n",
       "      <td>-0.11</td>\n",
       "      <td>0.03</td>\n",
       "    </tr>\n",
       "    <tr>\n",
       "      <th>CB</th>\n",
       "      <td>226.70</td>\n",
       "      <td>213.01</td>\n",
       "      <td>202.07</td>\n",
       "      <td>0.06</td>\n",
       "      <td>0.05</td>\n",
       "    </tr>\n",
       "    <tr>\n",
       "      <th>DL</th>\n",
       "      <td>244.80</td>\n",
       "      <td>197.94</td>\n",
       "      <td>203.73</td>\n",
       "      <td>0.24</td>\n",
       "      <td>-0.03</td>\n",
       "    </tr>\n",
       "    <tr>\n",
       "      <th>DT</th>\n",
       "      <td>160.35</td>\n",
       "      <td>180.49</td>\n",
       "      <td>191.38</td>\n",
       "      <td>-0.11</td>\n",
       "      <td>-0.06</td>\n",
       "    </tr>\n",
       "  </tbody>\n",
       "</table>\n",
       "</div>"
      ],
      "text/plain": [
       "     5 star mean inc  4 star mean inc  3 star mean inc  5 v 4  4 v 3\n",
       "APB           275.43           209.24           209.70   0.32  -0.00\n",
       "ATH           161.25           181.62           176.83  -0.11   0.03\n",
       "CB            226.70           213.01           202.07   0.06   0.05\n",
       "DL            244.80           197.94           203.73   0.24  -0.03\n",
       "DT            160.35           180.49           191.38  -0.11  -0.06"
      ]
     },
     "execution_count": 145,
     "metadata": {},
     "output_type": "execute_result"
    }
   ],
   "source": [
    "# Part B -- Calculate average income by star ranking\n",
    "\n",
    "# 5 star----------------------------------------------------\n",
    "\n",
    "# Get subset of 5-star recruits\n",
    "x_stars_5 = final_q[final_q['stars']==5]\n",
    "\n",
    "# Group by position, get mean Average Income\n",
    "position_income_5_mean = (pd.DataFrame(x_stars_5.groupby(['position'])['Average Income'].mean().divide(1000))).round(2)\n",
    "\n",
    "# Rename column\n",
    "position_income_5_mean.columns = ['5 star mean inc']\n",
    "#position_income_5_mean\n",
    "\n",
    "# 4 star----------------------------------------------------\n",
    "\n",
    "# Get subset of 4-star recruits\n",
    "x_stars_4 = final_q[final_q['stars']==4]\n",
    "\n",
    "# Group by position, get mean Average Income\n",
    "position_income_4_mean = (pd.DataFrame(x_stars_4.groupby(['position'])['Average Income'].mean().divide(1000))).round(2)\n",
    "\n",
    "# Rename column\n",
    "position_income_4_mean.columns = ['4 star mean inc']\n",
    "#position_income_4_mean\n",
    "\n",
    "# 3 star----------------------------------------------------\n",
    "\n",
    "# Get subset of 3-star recruits\n",
    "x_stars_3 = final_q[final_q['stars']==3]\n",
    "\n",
    "# Group by position, get mean Average Income\n",
    "position_income_3_mean = (pd.DataFrame(x_stars_3.groupby(['position'])['Average Income'].mean().divide(1000))).round(2)\n",
    "\n",
    "# Rename column\n",
    "position_income_3_mean.columns = ['3 star mean inc']\n",
    "#position_income_3_mean\n",
    "\n",
    "# Combine 5,4 and 3 star rankings --------------------------\n",
    "\n",
    "# Combine data for 5, 4 and 4 star rankings\n",
    "position_avg_inc_all = pd.concat([position_income_5_mean,position_income_4_mean,position_income_3_mean],axis=1)\n",
    "\n",
    "# Calculate % change between Average Income of 5 star v 4 star, and 4 star v 3 star\n",
    "position_avg_inc_all['5 v 4'] = (position_avg_inc_all['5 star mean inc'] / position_avg_inc_all['4 star mean inc']-1).round(2)\n",
    "position_avg_inc_all['4 v 3'] = (position_avg_inc_all['4 star mean inc'] / position_avg_inc_all['3 star mean inc']-1).round(2)\n",
    "\n",
    "# Review data                          \n",
    "position_avg_inc_all.head()"
   ]
  },
  {
   "cell_type": "code",
   "execution_count": 146,
   "metadata": {},
   "outputs": [
    {
     "data": {
      "text/html": [
       "<div>\n",
       "<style scoped>\n",
       "    .dataframe tbody tr th:only-of-type {\n",
       "        vertical-align: middle;\n",
       "    }\n",
       "\n",
       "    .dataframe tbody tr th {\n",
       "        vertical-align: top;\n",
       "    }\n",
       "\n",
       "    .dataframe thead th {\n",
       "        text-align: right;\n",
       "    }\n",
       "</style>\n",
       "<table border=\"1\" class=\"dataframe\">\n",
       "  <thead>\n",
       "    <tr style=\"text-align: right;\">\n",
       "      <th></th>\n",
       "      <th>Total 5 star</th>\n",
       "      <th>Total 4 star</th>\n",
       "      <th>Total 3 star</th>\n",
       "      <th>5 star mean inc</th>\n",
       "      <th>4 star mean inc</th>\n",
       "      <th>3 star mean inc</th>\n",
       "      <th>5 v 4</th>\n",
       "      <th>4 v 3</th>\n",
       "    </tr>\n",
       "  </thead>\n",
       "  <tbody>\n",
       "    <tr>\n",
       "      <th>APB</th>\n",
       "      <td>7.0</td>\n",
       "      <td>74.0</td>\n",
       "      <td>287.0</td>\n",
       "      <td>275.43</td>\n",
       "      <td>209.24</td>\n",
       "      <td>209.70</td>\n",
       "      <td>0.32</td>\n",
       "      <td>-0.00</td>\n",
       "    </tr>\n",
       "    <tr>\n",
       "      <th>ATH</th>\n",
       "      <td>21.0</td>\n",
       "      <td>259.0</td>\n",
       "      <td>1874.0</td>\n",
       "      <td>161.25</td>\n",
       "      <td>181.62</td>\n",
       "      <td>176.83</td>\n",
       "      <td>-0.11</td>\n",
       "      <td>0.03</td>\n",
       "    </tr>\n",
       "    <tr>\n",
       "      <th>CB</th>\n",
       "      <td>39.0</td>\n",
       "      <td>377.0</td>\n",
       "      <td>1966.0</td>\n",
       "      <td>226.70</td>\n",
       "      <td>213.01</td>\n",
       "      <td>202.07</td>\n",
       "      <td>0.06</td>\n",
       "      <td>0.05</td>\n",
       "    </tr>\n",
       "    <tr>\n",
       "      <th>DL</th>\n",
       "      <td>12.0</td>\n",
       "      <td>99.0</td>\n",
       "      <td>346.0</td>\n",
       "      <td>244.80</td>\n",
       "      <td>197.94</td>\n",
       "      <td>203.73</td>\n",
       "      <td>0.24</td>\n",
       "      <td>-0.03</td>\n",
       "    </tr>\n",
       "    <tr>\n",
       "      <th>DT</th>\n",
       "      <td>38.0</td>\n",
       "      <td>252.0</td>\n",
       "      <td>1170.0</td>\n",
       "      <td>160.35</td>\n",
       "      <td>180.49</td>\n",
       "      <td>191.38</td>\n",
       "      <td>-0.11</td>\n",
       "      <td>-0.06</td>\n",
       "    </tr>\n",
       "  </tbody>\n",
       "</table>\n",
       "</div>"
      ],
      "text/plain": [
       "     Total 5 star  Total 4 star  Total 3 star  5 star mean inc  \\\n",
       "APB           7.0          74.0         287.0           275.43   \n",
       "ATH          21.0         259.0        1874.0           161.25   \n",
       "CB           39.0         377.0        1966.0           226.70   \n",
       "DL           12.0          99.0         346.0           244.80   \n",
       "DT           38.0         252.0        1170.0           160.35   \n",
       "\n",
       "     4 star mean inc  3 star mean inc  5 v 4  4 v 3  \n",
       "APB           209.24           209.70   0.32  -0.00  \n",
       "ATH           181.62           176.83  -0.11   0.03  \n",
       "CB            213.01           202.07   0.06   0.05  \n",
       "DL            197.94           203.73   0.24  -0.03  \n",
       "DT            180.49           191.38  -0.11  -0.06  "
      ]
     },
     "execution_count": 146,
     "metadata": {},
     "output_type": "execute_result"
    }
   ],
   "source": [
    "# Part C Combine Results -- total number of 5,4,3 star prospects AND mean income \n",
    "# for each position, plus % changes btw 5 and 4-star avg inc and 4 and 3-star avg inc\n",
    "\n",
    "# Combine df from Part A (# of recruits) with Part B (Avg Inc)\n",
    "player_avg_inc = pd.concat([all_star_rankings_T,position_avg_inc_all],axis=1)\n",
    "\n",
    "# Sort df by 4-star mean income\n",
    "player_avg_inc.sort_values(by='4 star mean inc',ascending=False)\n",
    "\n",
    "# Review first few items\n",
    "player_avg_inc.head()"
   ]
  },
  {
   "cell_type": "markdown",
   "metadata": {},
   "source": [
    "# Aggregate level analysis -- Check distribution of recruits across each star rating and income quartile"
   ]
  },
  {
   "cell_type": "code",
   "execution_count": 147,
   "metadata": {},
   "outputs": [
    {
     "data": {
      "text/html": [
       "<div>\n",
       "<style scoped>\n",
       "    .dataframe tbody tr th:only-of-type {\n",
       "        vertical-align: middle;\n",
       "    }\n",
       "\n",
       "    .dataframe tbody tr th {\n",
       "        vertical-align: top;\n",
       "    }\n",
       "\n",
       "    .dataframe thead th {\n",
       "        text-align: right;\n",
       "    }\n",
       "</style>\n",
       "<table border=\"1\" class=\"dataframe\">\n",
       "  <thead>\n",
       "    <tr style=\"text-align: right;\">\n",
       "      <th></th>\n",
       "      <th></th>\n",
       "      <th>quartile level</th>\n",
       "      <th>Pct</th>\n",
       "    </tr>\n",
       "    <tr>\n",
       "      <th>stars</th>\n",
       "      <th>quartile level</th>\n",
       "      <th></th>\n",
       "      <th></th>\n",
       "    </tr>\n",
       "  </thead>\n",
       "  <tbody>\n",
       "    <tr>\n",
       "      <th rowspan=\"5\" valign=\"top\">4</th>\n",
       "      <th>fourth quartile</th>\n",
       "      <td>991</td>\n",
       "      <td>0.23</td>\n",
       "    </tr>\n",
       "    <tr>\n",
       "      <th>second quartile</th>\n",
       "      <td>1079</td>\n",
       "      <td>0.25</td>\n",
       "    </tr>\n",
       "    <tr>\n",
       "      <th>third quartile</th>\n",
       "      <td>1061</td>\n",
       "      <td>0.25</td>\n",
       "    </tr>\n",
       "    <tr>\n",
       "      <th>top 10 pct</th>\n",
       "      <td>469</td>\n",
       "      <td>0.11</td>\n",
       "    </tr>\n",
       "    <tr>\n",
       "      <th>top quartile</th>\n",
       "      <td>661</td>\n",
       "      <td>0.16</td>\n",
       "    </tr>\n",
       "    <tr>\n",
       "      <th rowspan=\"5\" valign=\"top\">5</th>\n",
       "      <th>fourth quartile</th>\n",
       "      <td>100</td>\n",
       "      <td>0.24</td>\n",
       "    </tr>\n",
       "    <tr>\n",
       "      <th>second quartile</th>\n",
       "      <td>114</td>\n",
       "      <td>0.27</td>\n",
       "    </tr>\n",
       "    <tr>\n",
       "      <th>third quartile</th>\n",
       "      <td>108</td>\n",
       "      <td>0.26</td>\n",
       "    </tr>\n",
       "    <tr>\n",
       "      <th>top 10 pct</th>\n",
       "      <td>43</td>\n",
       "      <td>0.10</td>\n",
       "    </tr>\n",
       "    <tr>\n",
       "      <th>top quartile</th>\n",
       "      <td>57</td>\n",
       "      <td>0.14</td>\n",
       "    </tr>\n",
       "  </tbody>\n",
       "</table>\n",
       "</div>"
      ],
      "text/plain": [
       "                       quartile level   Pct\n",
       "stars quartile level                       \n",
       "4     fourth quartile             991  0.23\n",
       "      second quartile            1079  0.25\n",
       "      third quartile             1061  0.25\n",
       "      top 10 pct                  469  0.11\n",
       "      top quartile                661  0.16\n",
       "5     fourth quartile             100  0.24\n",
       "      second quartile             114  0.27\n",
       "      third quartile              108  0.26\n",
       "      top 10 pct                   43  0.10\n",
       "      top quartile                 57  0.14"
      ]
     },
     "execution_count": 147,
     "metadata": {},
     "output_type": "execute_result"
    }
   ],
   "source": [
    "# Aggregate level data -- all positions\n",
    "\n",
    "# Group by quintiles and stars, then get counts\n",
    "all_positions = (pd.DataFrame(final_q.groupby(['stars','quartile level'])['quartile level'].count()))\n",
    "\n",
    "# Add % of each subgroup column\n",
    "all_positions['Pct'] = (all_positions['quartile level'] / \\\n",
    "all_positions.groupby('stars')['quartile level'].transform('sum')).round(2)\n",
    "\n",
    "# Show only 5 and 4 star recruit data\n",
    "all_positions.tail(10)"
   ]
  },
  {
   "cell_type": "markdown",
   "metadata": {},
   "source": [
    "# Calculate same breakdown of star rankings and income quartiles at position group level"
   ]
  },
  {
   "cell_type": "markdown",
   "metadata": {},
   "source": [
    "Create function to calculate number of recruits at each star level and income bracket.    Also calculate what % of recruits are from a particular income quartile for a given star level."
   ]
  },
  {
   "cell_type": "code",
   "execution_count": 148,
   "metadata": {},
   "outputs": [],
   "source": [
    "def star_quartile_by_position(indf,indiv_positions):\n",
    "\n",
    "    # Filter by position\n",
    "    position_df = indf[indf['position'].isin(indiv_positions)]\n",
    "    print(\"Total number in position group:\",len(position_df))\n",
    "\n",
    "    # Show value counts by star ranking for reference\n",
    "    print(position_df['stars'].value_counts())\n",
    "\n",
    "    # Groupby quartiles and stars, get counts of number of recruits in each combination of star & quartile\n",
    "    position_quartiles_stars = (pd.DataFrame(position_df.groupby(['stars','quartile level'])['quartile level'].count()))\n",
    "\n",
    "    # Add column to show % of recruits from each income quartile within each star level\n",
    "    position_quartiles_stars['Pct'] = (position_quartiles_stars['quartile level'] / \\\n",
    "    position_quartiles_stars.groupby('stars')['quartile level'].transform('sum')).round(2)\n",
    "\n",
    "    return position_quartiles_stars"
   ]
  },
  {
   "cell_type": "markdown",
   "metadata": {},
   "source": [
    "# Offensive Position Groups"
   ]
  },
  {
   "cell_type": "code",
   "execution_count": 149,
   "metadata": {},
   "outputs": [
    {
     "name": "stdout",
     "output_type": "stream",
     "text": [
      "Total number in position group: 2802\n",
      "3    1432\n",
      "2     977\n",
      "4     297\n",
      "1      60\n",
      "5      36\n",
      "Name: stars, dtype: int64\n"
     ]
    },
    {
     "data": {
      "text/html": [
       "<div>\n",
       "<style scoped>\n",
       "    .dataframe tbody tr th:only-of-type {\n",
       "        vertical-align: middle;\n",
       "    }\n",
       "\n",
       "    .dataframe tbody tr th {\n",
       "        vertical-align: top;\n",
       "    }\n",
       "\n",
       "    .dataframe thead th {\n",
       "        text-align: right;\n",
       "    }\n",
       "</style>\n",
       "<table border=\"1\" class=\"dataframe\">\n",
       "  <thead>\n",
       "    <tr style=\"text-align: right;\">\n",
       "      <th></th>\n",
       "      <th></th>\n",
       "      <th>quartile level</th>\n",
       "      <th>Pct</th>\n",
       "    </tr>\n",
       "    <tr>\n",
       "      <th>stars</th>\n",
       "      <th>quartile level</th>\n",
       "      <th></th>\n",
       "      <th></th>\n",
       "    </tr>\n",
       "  </thead>\n",
       "  <tbody>\n",
       "    <tr>\n",
       "      <th rowspan=\"5\" valign=\"top\">4</th>\n",
       "      <th>fourth quartile</th>\n",
       "      <td>54</td>\n",
       "      <td>0.18</td>\n",
       "    </tr>\n",
       "    <tr>\n",
       "      <th>second quartile</th>\n",
       "      <td>61</td>\n",
       "      <td>0.21</td>\n",
       "    </tr>\n",
       "    <tr>\n",
       "      <th>third quartile</th>\n",
       "      <td>71</td>\n",
       "      <td>0.24</td>\n",
       "    </tr>\n",
       "    <tr>\n",
       "      <th>top 10 pct</th>\n",
       "      <td>53</td>\n",
       "      <td>0.18</td>\n",
       "    </tr>\n",
       "    <tr>\n",
       "      <th>top quartile</th>\n",
       "      <td>58</td>\n",
       "      <td>0.20</td>\n",
       "    </tr>\n",
       "    <tr>\n",
       "      <th rowspan=\"5\" valign=\"top\">5</th>\n",
       "      <th>fourth quartile</th>\n",
       "      <td>6</td>\n",
       "      <td>0.17</td>\n",
       "    </tr>\n",
       "    <tr>\n",
       "      <th>second quartile</th>\n",
       "      <td>9</td>\n",
       "      <td>0.25</td>\n",
       "    </tr>\n",
       "    <tr>\n",
       "      <th>third quartile</th>\n",
       "      <td>7</td>\n",
       "      <td>0.19</td>\n",
       "    </tr>\n",
       "    <tr>\n",
       "      <th>top 10 pct</th>\n",
       "      <td>5</td>\n",
       "      <td>0.14</td>\n",
       "    </tr>\n",
       "    <tr>\n",
       "      <th>top quartile</th>\n",
       "      <td>9</td>\n",
       "      <td>0.25</td>\n",
       "    </tr>\n",
       "  </tbody>\n",
       "</table>\n",
       "</div>"
      ],
      "text/plain": [
       "                       quartile level   Pct\n",
       "stars quartile level                       \n",
       "4     fourth quartile              54  0.18\n",
       "      second quartile              61  0.21\n",
       "      third quartile               71  0.24\n",
       "      top 10 pct                   53  0.18\n",
       "      top quartile                 58  0.20\n",
       "5     fourth quartile               6  0.17\n",
       "      second quartile               9  0.25\n",
       "      third quartile                7  0.19\n",
       "      top 10 pct                    5  0.14\n",
       "      top quartile                  9  0.25"
      ]
     },
     "execution_count": 149,
     "metadata": {},
     "output_type": "execute_result"
    }
   ],
   "source": [
    "# Get value counts by star ranking, totals in each income quartile and % for QB\n",
    "qb_stars_quartiles = star_quartile_by_position(final_q,['QB','DUAL','PRO'])\n",
    "\n",
    "# Show 5 and 4-star data only\n",
    "qb_stars_quartiles[-10:]"
   ]
  },
  {
   "cell_type": "markdown",
   "metadata": {},
   "source": [
    "# Tests of Statistical Significance"
   ]
  },
  {
   "cell_type": "markdown",
   "metadata": {},
   "source": [
    "# T-Test --- is distribution of QB data significantly different from the rest of the data?"
   ]
  },
  {
   "cell_type": "markdown",
   "metadata": {},
   "source": [
    "# Create function to run t-test for a given position group"
   ]
  },
  {
   "cell_type": "code",
   "execution_count": 150,
   "metadata": {},
   "outputs": [],
   "source": [
    "def t_test_calc(indf,indiv_positions):\n",
    "    \n",
    "    # Calc mean Average Income for all players at chosen position\n",
    "    avg_inc_for_position = indf['Average Income'].mean()\n",
    "    print(\"Average Income for Position: \", avg_inc_for_position)\n",
    "\n",
    "    # Make copy of final_q df\n",
    "    final_q_copy = final_q.copy()\n",
    "\n",
    "    # Exclude all players at chosen position from broader df\n",
    "    exclude_position_df = final_q_copy[~final_q_copy['position'].isin(indiv_positions)]\n",
    "\n",
    "    # Calc mean of avg inc for all remaining prospects\n",
    "    exclude_position_avg_inc = exclude_position_df['Average Income'].mean()\n",
    "    print(\"All Mean: \", exclude_position_avg_inc)\n",
    "\n",
    "    # Use t-test to see if means are equal (Ho) \n",
    "    \n",
    "    # Import ttest\n",
    "    from scipy.stats import ttest_rel, ttest_ind\n",
    "    \n",
    "    # Calculate test stat and p-value\n",
    "    stat,p = ttest_ind(indf['Average Income'],exclude_position_df['Average Income'])\n",
    "    print(\"T-stat\",stat,\"p-value\",p)\n",
    "\n",
    "    # Interpretation\n",
    "    alpha = 0.05\n",
    "\n",
    "    if p > alpha:\n",
    "        print(\"Same distributions (fail to reject Ho)\")\n",
    "    else:\n",
    "        print(\"Different dist (reject Ho)\")\n"
   ]
  },
  {
   "cell_type": "code",
   "execution_count": 151,
   "metadata": {},
   "outputs": [
    {
     "name": "stdout",
     "output_type": "stream",
     "text": [
      "2802\n"
     ]
    }
   ],
   "source": [
    "# Create subset of only QBs\n",
    "all_qb_df = final_q[final_q['position'].isin(['QB','DUAL','PRO'])]\n",
    "\n",
    "# Review df\n",
    "all_qb_df.head()\n",
    "\n",
    "# Get length of df\n",
    "print(len(all_qb_df))"
   ]
  },
  {
   "cell_type": "code",
   "execution_count": 152,
   "metadata": {},
   "outputs": [
    {
     "name": "stdout",
     "output_type": "stream",
     "text": [
      "Average Income for Position:  220121.10492505354\n",
      "All Mean:  200568.96413024553\n",
      "T-stat 6.847424546992484 p-value 7.619895128099995e-12\n",
      "Different dist (reject Ho)\n"
     ]
    }
   ],
   "source": [
    "# Run t-test for Quarterbacks\n",
    "qb_ttest = t_test_calc(all_qb_df,['QB','DUAL','PRO'])\n",
    "qb_ttest"
   ]
  },
  {
   "cell_type": "code",
   "execution_count": 153,
   "metadata": {},
   "outputs": [],
   "source": [
    "# Also test using Mann-Whitney U test -- More suitable for non-normally distributed data\n",
    "\n",
    "from scipy.stats import mannwhitneyu\n",
    "\n",
    "def mann_whitney_calc(indf,indiv_positions):\n",
    "    \n",
    "    # Calculate mean Average Income for all players at chosen position\n",
    "    avg_inc_for_position = indf['Average Income'].mean()\n",
    "    print(\"Average Income for Position: \", avg_inc_for_position)\n",
    "\n",
    "    # Make copy of final_q df\n",
    "    final_q_copy = final_q.copy()\n",
    "\n",
    "    # Exclude all players at chosen position from broader df\n",
    "    exclude_position_df = final_q_copy[~final_q_copy['position'].isin(indiv_positions)]\n",
    "\n",
    "    # Calc mean of Average Income for all remaining prospects\n",
    "    exclude_position_avg_inc = exclude_position_df['Average Income'].mean()\n",
    "    print(\"All Mean: \", exclude_position_avg_inc)\n",
    "\n",
    "    # Use t-test to see if means are equal (Ho) \n",
    "\n",
    "    # Import ttest\n",
    "    from scipy.stats import ttest_rel, ttest_ind\n",
    "    \n",
    "    # Calculate test stat and p value\n",
    "    stat,p = mannwhitneyu(indf['Average Income'],exclude_position_df['Average Income'])\n",
    "    print(\"Mann-Whitney Stat\",stat,\"p-value\",p)\n",
    "\n",
    "    # Interpretation\n",
    "    alpha = 0.05\n",
    "\n",
    "    if p > alpha:\n",
    "        print(\"Same distributions (fail to reject Ho)\")\n",
    "    else:\n",
    "        print(\"Different dist (reject Ho)\")"
   ]
  },
  {
   "cell_type": "code",
   "execution_count": 154,
   "metadata": {},
   "outputs": [
    {
     "name": "stdout",
     "output_type": "stream",
     "text": [
      "Average Income for Position:  220121.10492505354\n",
      "All Mean:  200568.96413024553\n",
      "Mann-Whitney Stat 60288405.5 p-value 4.2791435953507994e-10\n",
      "Different dist (reject Ho)\n"
     ]
    }
   ],
   "source": [
    "# Run t-test for Quarterbacks\n",
    "qb_mann = mann_whitney_calc(all_qb_df,['QB','DUAL','PRO'])\n",
    "qb_mann"
   ]
  },
  {
   "cell_type": "markdown",
   "metadata": {},
   "source": [
    "# Confirm graphically whether the distribution of income for QBs looks different compared to all other recruits"
   ]
  },
  {
   "cell_type": "code",
   "execution_count": 155,
   "metadata": {},
   "outputs": [],
   "source": [
    "def inc_dist_comparison(indf,indiv_positions):\n",
    "    \n",
    "    # Get subset of players at chosen position\n",
    "    position_subset_df = indf[indf['position'].isin(indiv_positions)]\n",
    "    \n",
    "    # Make copy of final_q df\n",
    "    final_q_copy = final_q.copy()\n",
    "\n",
    "    # Exclude all players at chosen position from broader df\n",
    "    all_other_positions_df = final_q_copy[~final_q_copy['position'].isin(indiv_positions)]\n",
    "    \n",
    "    # Create chart\n",
    "    \n",
    "    # Create figure\n",
    "    fig,ax = plt.subplots(figsize=(15,5))\n",
    "\n",
    "    # Income Distribution of all players EXCLUDING chosen position\n",
    "    all_other_position_inc_dist = all_other_positions_df['Average Income'].plot(kind='kde',ax=ax,linewidth=5,color='blue')\n",
    "\n",
    "    # Set up second axis\n",
    "    ax2 = ax.twinx()\n",
    "\n",
    "    # Income Distibution for chosen position\n",
    "    position_inc_dist = position_subset_df['Average Income'].plot(kind='kde',ax=ax2,ls='--',color='red',linewidth=3)\n",
    "\n",
    "    # Format chart and show\n",
    "    plt.legend(loc='upper right')\n",
    "    fig.tight_layout()\n",
    "    plt.show()"
   ]
  },
  {
   "cell_type": "code",
   "execution_count": 156,
   "metadata": {},
   "outputs": [
    {
     "data": {
      "image/png": "[encoded data removed]",
      "text/plain": [
       "<Figure size 1080x360 with 2 Axes>"
      ]
     },
     "metadata": {
      "needs_background": "light"
     },
     "output_type": "display_data"
    }
   ],
   "source": [
    "# Compare distribution of income for Quarterbacks vs all other players\n",
    "qb_inc_chart = inc_dist_comparison(final_q,['QB','PRO','DUAL'])"
   ]
  },
  {
   "cell_type": "code",
   "execution_count": 157,
   "metadata": {},
   "outputs": [
    {
     "name": "stdout",
     "output_type": "stream",
     "text": [
      "Total number in position group: 3542\n",
      "3    1847\n",
      "2    1223\n",
      "4     337\n",
      "1      91\n",
      "5      44\n",
      "Name: stars, dtype: int64\n"
     ]
    },
    {
     "data": {
      "text/html": [
       "<div>\n",
       "<style scoped>\n",
       "    .dataframe tbody tr th:only-of-type {\n",
       "        vertical-align: middle;\n",
       "    }\n",
       "\n",
       "    .dataframe tbody tr th {\n",
       "        vertical-align: top;\n",
       "    }\n",
       "\n",
       "    .dataframe thead th {\n",
       "        text-align: right;\n",
       "    }\n",
       "</style>\n",
       "<table border=\"1\" class=\"dataframe\">\n",
       "  <thead>\n",
       "    <tr style=\"text-align: right;\">\n",
       "      <th></th>\n",
       "      <th></th>\n",
       "      <th>quartile level</th>\n",
       "      <th>Pct</th>\n",
       "    </tr>\n",
       "    <tr>\n",
       "      <th>stars</th>\n",
       "      <th>quartile level</th>\n",
       "      <th></th>\n",
       "      <th></th>\n",
       "    </tr>\n",
       "  </thead>\n",
       "  <tbody>\n",
       "    <tr>\n",
       "      <th rowspan=\"5\" valign=\"top\">4</th>\n",
       "      <th>fourth quartile</th>\n",
       "      <td>93</td>\n",
       "      <td>0.28</td>\n",
       "    </tr>\n",
       "    <tr>\n",
       "      <th>second quartile</th>\n",
       "      <td>82</td>\n",
       "      <td>0.24</td>\n",
       "    </tr>\n",
       "    <tr>\n",
       "      <th>third quartile</th>\n",
       "      <td>83</td>\n",
       "      <td>0.25</td>\n",
       "    </tr>\n",
       "    <tr>\n",
       "      <th>top 10 pct</th>\n",
       "      <td>28</td>\n",
       "      <td>0.08</td>\n",
       "    </tr>\n",
       "    <tr>\n",
       "      <th>top quartile</th>\n",
       "      <td>51</td>\n",
       "      <td>0.15</td>\n",
       "    </tr>\n",
       "    <tr>\n",
       "      <th rowspan=\"5\" valign=\"top\">5</th>\n",
       "      <th>fourth quartile</th>\n",
       "      <td>12</td>\n",
       "      <td>0.27</td>\n",
       "    </tr>\n",
       "    <tr>\n",
       "      <th>second quartile</th>\n",
       "      <td>11</td>\n",
       "      <td>0.25</td>\n",
       "    </tr>\n",
       "    <tr>\n",
       "      <th>third quartile</th>\n",
       "      <td>11</td>\n",
       "      <td>0.25</td>\n",
       "    </tr>\n",
       "    <tr>\n",
       "      <th>top 10 pct</th>\n",
       "      <td>4</td>\n",
       "      <td>0.09</td>\n",
       "    </tr>\n",
       "    <tr>\n",
       "      <th>top quartile</th>\n",
       "      <td>6</td>\n",
       "      <td>0.14</td>\n",
       "    </tr>\n",
       "  </tbody>\n",
       "</table>\n",
       "</div>"
      ],
      "text/plain": [
       "                       quartile level   Pct\n",
       "stars quartile level                       \n",
       "4     fourth quartile              93  0.28\n",
       "      second quartile              82  0.24\n",
       "      third quartile               83  0.25\n",
       "      top 10 pct                   28  0.08\n",
       "      top quartile                 51  0.15\n",
       "5     fourth quartile              12  0.27\n",
       "      second quartile              11  0.25\n",
       "      third quartile               11  0.25\n",
       "      top 10 pct                    4  0.09\n",
       "      top quartile                  6  0.14"
      ]
     },
     "execution_count": 157,
     "metadata": {},
     "output_type": "execute_result"
    }
   ],
   "source": [
    "# Get value counts by star ranking, totals in each income quartile and % for Running Backs\n",
    "rb_stars_quartiles = star_quartile_by_position(final_q,['RB','FB','APB'])\n",
    "\n",
    "# Show 5 and 4 star data\n",
    "rb_stars_quartiles[-10:]"
   ]
  },
  {
   "cell_type": "code",
   "execution_count": 158,
   "metadata": {},
   "outputs": [
    {
     "name": "stdout",
     "output_type": "stream",
     "text": [
      "3542\n"
     ]
    }
   ],
   "source": [
    "# Create subset of only RBs\n",
    "all_rb_df = final_q[final_q['position'].isin(['RB','FB','APB'])]\n",
    "\n",
    "# Review df\n",
    "all_rb_df.head()\n",
    "\n",
    "# Get length of df\n",
    "print(len(all_rb_df))"
   ]
  },
  {
   "cell_type": "code",
   "execution_count": 159,
   "metadata": {},
   "outputs": [
    {
     "name": "stdout",
     "output_type": "stream",
     "text": [
      "Average Income for Position:  193264.86645962732\n",
      "All Mean:  202612.91163427182\n",
      "T-stat -3.6453566263338204 p-value 0.0002673358175786091\n",
      "Different dist (reject Ho)\n"
     ]
    }
   ],
   "source": [
    "# Calculate t-test for Running Backs\n",
    "rb_ttest = t_test_calc(all_rb_df,['RB','FB','APB'])\n",
    "rb_ttest"
   ]
  },
  {
   "cell_type": "code",
   "execution_count": 160,
   "metadata": {},
   "outputs": [
    {
     "name": "stdout",
     "output_type": "stream",
     "text": [
      "Average Income for Position:  193264.86645962732\n",
      "All Mean:  202612.91163427182\n",
      "Mann-Whitney Stat 67001610.0 p-value 4.6067354258201134e-05\n",
      "Different dist (reject Ho)\n"
     ]
    }
   ],
   "source": [
    "# Calculate Mann-Whitney U test for Running Backs\n",
    "rb_mann = mann_whitney_calc(all_rb_df,['RB','FB','APB'])\n",
    "rb_mann"
   ]
  },
  {
   "cell_type": "code",
   "execution_count": 161,
   "metadata": {},
   "outputs": [
    {
     "name": "stdout",
     "output_type": "stream",
     "text": [
      "Total number in position group: 7479\n",
      "3    4082\n",
      "2    2453\n",
      "4     791\n",
      "1     103\n",
      "5      50\n",
      "Name: stars, dtype: int64\n"
     ]
    },
    {
     "data": {
      "text/html": [
       "<div>\n",
       "<style scoped>\n",
       "    .dataframe tbody tr th:only-of-type {\n",
       "        vertical-align: middle;\n",
       "    }\n",
       "\n",
       "    .dataframe tbody tr th {\n",
       "        vertical-align: top;\n",
       "    }\n",
       "\n",
       "    .dataframe thead th {\n",
       "        text-align: right;\n",
       "    }\n",
       "</style>\n",
       "<table border=\"1\" class=\"dataframe\">\n",
       "  <thead>\n",
       "    <tr style=\"text-align: right;\">\n",
       "      <th></th>\n",
       "      <th></th>\n",
       "      <th>quartile level</th>\n",
       "      <th>Pct</th>\n",
       "    </tr>\n",
       "    <tr>\n",
       "      <th>stars</th>\n",
       "      <th>quartile level</th>\n",
       "      <th></th>\n",
       "      <th></th>\n",
       "    </tr>\n",
       "  </thead>\n",
       "  <tbody>\n",
       "    <tr>\n",
       "      <th rowspan=\"5\" valign=\"top\">4</th>\n",
       "      <th>fourth quartile</th>\n",
       "      <td>165</td>\n",
       "      <td>0.21</td>\n",
       "    </tr>\n",
       "    <tr>\n",
       "      <th>second quartile</th>\n",
       "      <td>232</td>\n",
       "      <td>0.29</td>\n",
       "    </tr>\n",
       "    <tr>\n",
       "      <th>third quartile</th>\n",
       "      <td>173</td>\n",
       "      <td>0.22</td>\n",
       "    </tr>\n",
       "    <tr>\n",
       "      <th>top 10 pct</th>\n",
       "      <td>89</td>\n",
       "      <td>0.11</td>\n",
       "    </tr>\n",
       "    <tr>\n",
       "      <th>top quartile</th>\n",
       "      <td>132</td>\n",
       "      <td>0.17</td>\n",
       "    </tr>\n",
       "    <tr>\n",
       "      <th rowspan=\"5\" valign=\"top\">5</th>\n",
       "      <th>fourth quartile</th>\n",
       "      <td>11</td>\n",
       "      <td>0.22</td>\n",
       "    </tr>\n",
       "    <tr>\n",
       "      <th>second quartile</th>\n",
       "      <td>13</td>\n",
       "      <td>0.26</td>\n",
       "    </tr>\n",
       "    <tr>\n",
       "      <th>third quartile</th>\n",
       "      <td>14</td>\n",
       "      <td>0.28</td>\n",
       "    </tr>\n",
       "    <tr>\n",
       "      <th>top 10 pct</th>\n",
       "      <td>4</td>\n",
       "      <td>0.08</td>\n",
       "    </tr>\n",
       "    <tr>\n",
       "      <th>top quartile</th>\n",
       "      <td>8</td>\n",
       "      <td>0.16</td>\n",
       "    </tr>\n",
       "  </tbody>\n",
       "</table>\n",
       "</div>"
      ],
      "text/plain": [
       "                       quartile level   Pct\n",
       "stars quartile level                       \n",
       "4     fourth quartile             165  0.21\n",
       "      second quartile             232  0.29\n",
       "      third quartile              173  0.22\n",
       "      top 10 pct                   89  0.11\n",
       "      top quartile                132  0.17\n",
       "5     fourth quartile              11  0.22\n",
       "      second quartile              13  0.26\n",
       "      third quartile               14  0.28\n",
       "      top 10 pct                    4  0.08\n",
       "      top quartile                  8  0.16"
      ]
     },
     "execution_count": 161,
     "metadata": {},
     "output_type": "execute_result"
    }
   ],
   "source": [
    "# Get value counts by star ranking, totals in each income quartile and % for Wide Receivers\n",
    "wr_stars_quartiles = star_quartile_by_position(final_q,['WR','TE'])\n",
    " \n",
    "# Show results for 5 and 4 star recruits only\n",
    "wr_stars_quartiles[-10:]"
   ]
  },
  {
   "cell_type": "code",
   "execution_count": 162,
   "metadata": {},
   "outputs": [
    {
     "name": "stdout",
     "output_type": "stream",
     "text": [
      "7479\n"
     ]
    }
   ],
   "source": [
    "# Create subset of only Wide Receivers\n",
    "all_wr_df = final_q[final_q['position'].isin(['WR','TE'])]\n",
    "\n",
    "# Review df\n",
    "all_wr_df.head()\n",
    "\n",
    "# Get length of df\n",
    "print(len(all_wr_df))"
   ]
  },
  {
   "cell_type": "code",
   "execution_count": 163,
   "metadata": {},
   "outputs": [
    {
     "name": "stdout",
     "output_type": "stream",
     "text": [
      "Average Income for Position:  205965.9649685787\n",
      "All Mean:  200974.91304470217\n",
      "T-stat 2.6832117183540394 p-value 0.00729467053331541\n",
      "Different dist (reject Ho)\n"
     ]
    }
   ],
   "source": [
    "# Calculate t-test for Wide Receivers\n",
    "wr_ttest = t_test_calc(all_wr_df,['WR','TE'])\n",
    "wr_ttest"
   ]
  },
  {
   "cell_type": "code",
   "execution_count": 164,
   "metadata": {},
   "outputs": [
    {
     "name": "stdout",
     "output_type": "stream",
     "text": [
      "Average Income for Position:  205965.9649685787\n",
      "All Mean:  200974.91304470217\n",
      "Mann-Whitney Stat 135920713.0 p-value 0.0016039218825468964\n",
      "Different dist (reject Ho)\n"
     ]
    }
   ],
   "source": [
    "# Calculate Mann-Whitney U test for Wide Receivers\n",
    "wr_mann = mann_whitney_calc(all_wr_df,['WR','TE'])\n",
    "wr_mann"
   ]
  },
  {
   "cell_type": "code",
   "execution_count": 165,
   "metadata": {},
   "outputs": [
    {
     "name": "stdout",
     "output_type": "stream",
     "text": [
      "Total number in position group: 6621\n",
      "3    3579\n",
      "2    2236\n",
      "4     635\n",
      "1     116\n",
      "5      55\n",
      "Name: stars, dtype: int64\n"
     ]
    },
    {
     "data": {
      "text/html": [
       "<div>\n",
       "<style scoped>\n",
       "    .dataframe tbody tr th:only-of-type {\n",
       "        vertical-align: middle;\n",
       "    }\n",
       "\n",
       "    .dataframe tbody tr th {\n",
       "        vertical-align: top;\n",
       "    }\n",
       "\n",
       "    .dataframe thead th {\n",
       "        text-align: right;\n",
       "    }\n",
       "</style>\n",
       "<table border=\"1\" class=\"dataframe\">\n",
       "  <thead>\n",
       "    <tr style=\"text-align: right;\">\n",
       "      <th></th>\n",
       "      <th></th>\n",
       "      <th>quartile level</th>\n",
       "      <th>Pct</th>\n",
       "    </tr>\n",
       "    <tr>\n",
       "      <th>stars</th>\n",
       "      <th>quartile level</th>\n",
       "      <th></th>\n",
       "      <th></th>\n",
       "    </tr>\n",
       "  </thead>\n",
       "  <tbody>\n",
       "    <tr>\n",
       "      <th rowspan=\"5\" valign=\"top\">4</th>\n",
       "      <th>fourth quartile</th>\n",
       "      <td>142</td>\n",
       "      <td>0.22</td>\n",
       "    </tr>\n",
       "    <tr>\n",
       "      <th>second quartile</th>\n",
       "      <td>149</td>\n",
       "      <td>0.23</td>\n",
       "    </tr>\n",
       "    <tr>\n",
       "      <th>third quartile</th>\n",
       "      <td>150</td>\n",
       "      <td>0.24</td>\n",
       "    </tr>\n",
       "    <tr>\n",
       "      <th>top 10 pct</th>\n",
       "      <td>82</td>\n",
       "      <td>0.13</td>\n",
       "    </tr>\n",
       "    <tr>\n",
       "      <th>top quartile</th>\n",
       "      <td>112</td>\n",
       "      <td>0.18</td>\n",
       "    </tr>\n",
       "    <tr>\n",
       "      <th rowspan=\"5\" valign=\"top\">5</th>\n",
       "      <th>fourth quartile</th>\n",
       "      <td>8</td>\n",
       "      <td>0.15</td>\n",
       "    </tr>\n",
       "    <tr>\n",
       "      <th>second quartile</th>\n",
       "      <td>14</td>\n",
       "      <td>0.25</td>\n",
       "    </tr>\n",
       "    <tr>\n",
       "      <th>third quartile</th>\n",
       "      <td>13</td>\n",
       "      <td>0.24</td>\n",
       "    </tr>\n",
       "    <tr>\n",
       "      <th>top 10 pct</th>\n",
       "      <td>9</td>\n",
       "      <td>0.16</td>\n",
       "    </tr>\n",
       "    <tr>\n",
       "      <th>top quartile</th>\n",
       "      <td>11</td>\n",
       "      <td>0.20</td>\n",
       "    </tr>\n",
       "  </tbody>\n",
       "</table>\n",
       "</div>"
      ],
      "text/plain": [
       "                       quartile level   Pct\n",
       "stars quartile level                       \n",
       "4     fourth quartile             142  0.22\n",
       "      second quartile             149  0.23\n",
       "      third quartile              150  0.24\n",
       "      top 10 pct                   82  0.13\n",
       "      top quartile                112  0.18\n",
       "5     fourth quartile               8  0.15\n",
       "      second quartile              14  0.25\n",
       "      third quartile               13  0.24\n",
       "      top 10 pct                    9  0.16\n",
       "      top quartile                 11  0.20"
      ]
     },
     "execution_count": 165,
     "metadata": {},
     "output_type": "execute_result"
    }
   ],
   "source": [
    "# Get value counts by star ranking, totals in each income quartile and % for Offensive Linemen\n",
    "ol_stars_quartiles = star_quartile_by_position(final_q,['IOL','OC','OG','OT'])\n",
    "\n",
    "# Show results for 5 and 4 star recruits only\n",
    "ol_stars_quartiles[-10:]"
   ]
  },
  {
   "cell_type": "code",
   "execution_count": 166,
   "metadata": {},
   "outputs": [
    {
     "name": "stdout",
     "output_type": "stream",
     "text": [
      "6621\n"
     ]
    }
   ],
   "source": [
    "# Create subset of only Offensive Linemen\n",
    "all_ol_df = final_q[final_q['position'].isin(['IOL','OC','OG','OT'])]\n",
    "\n",
    "# Review df\n",
    "all_ol_df.head()\n",
    "\n",
    "# Get length of df\n",
    "print(len(all_ol_df))"
   ]
  },
  {
   "cell_type": "code",
   "execution_count": 167,
   "metadata": {},
   "outputs": [
    {
     "name": "stdout",
     "output_type": "stream",
     "text": [
      "Average Income for Position:  207611.67301011932\n",
      "All Mean:  200793.1223132318\n",
      "T-stat 3.49061922161481 p-value 0.0004823852604298276\n",
      "Different dist (reject Ho)\n"
     ]
    }
   ],
   "source": [
    "# Calculate t-test for Offensive Linemen\n",
    "ol_ttest = t_test_calc(all_ol_df,['IOL','OC','OG','OT'])\n",
    "ol_ttest"
   ]
  },
  {
   "cell_type": "code",
   "execution_count": 168,
   "metadata": {},
   "outputs": [
    {
     "name": "stdout",
     "output_type": "stream",
     "text": [
      "Average Income for Position:  207611.67301011932\n",
      "All Mean:  200793.1223132318\n",
      "Mann-Whitney Stat 122014768.5 p-value 0.09062396430508905\n",
      "Same distributions (fail to reject Ho)\n"
     ]
    }
   ],
   "source": [
    "# Calculate Mann-Whitney U test for Offensive Linemen\n",
    "ol_mann = mann_whitney_calc(all_ol_df,['IOL','OC','OG','OT'])\n",
    "ol_mann"
   ]
  },
  {
   "cell_type": "code",
   "execution_count": 169,
   "metadata": {},
   "outputs": [
    {
     "data": {
      "image/png": "[encoded data removed]",
      "text/plain": [
       "<Figure size 1080x360 with 2 Axes>"
      ]
     },
     "metadata": {
      "needs_background": "light"
     },
     "output_type": "display_data"
    }
   ],
   "source": [
    "# Compare distribution of income for Offensive Linemen vs all other players\n",
    "ol_inc_chart = inc_dist_comparison(final_q,['IOL','OC','OG','OT'])"
   ]
  },
  {
   "cell_type": "code",
   "execution_count": 170,
   "metadata": {},
   "outputs": [
    {
     "data": {
      "text/html": [
       "<div>\n",
       "<style scoped>\n",
       "    .dataframe tbody tr th:only-of-type {\n",
       "        vertical-align: middle;\n",
       "    }\n",
       "\n",
       "    .dataframe tbody tr th {\n",
       "        vertical-align: top;\n",
       "    }\n",
       "\n",
       "    .dataframe thead th {\n",
       "        text-align: right;\n",
       "    }\n",
       "</style>\n",
       "<table border=\"1\" class=\"dataframe\">\n",
       "  <thead>\n",
       "    <tr style=\"text-align: right;\">\n",
       "      <th></th>\n",
       "      <th></th>\n",
       "      <th>QB Total</th>\n",
       "      <th>QB %</th>\n",
       "      <th>RB Total</th>\n",
       "      <th>RB %</th>\n",
       "      <th>WR Total</th>\n",
       "      <th>WR %</th>\n",
       "      <th>OL Total</th>\n",
       "      <th>OL %</th>\n",
       "    </tr>\n",
       "    <tr>\n",
       "      <th>stars</th>\n",
       "      <th>quartile level</th>\n",
       "      <th></th>\n",
       "      <th></th>\n",
       "      <th></th>\n",
       "      <th></th>\n",
       "      <th></th>\n",
       "      <th></th>\n",
       "      <th></th>\n",
       "      <th></th>\n",
       "    </tr>\n",
       "  </thead>\n",
       "  <tbody>\n",
       "    <tr>\n",
       "      <th rowspan=\"5\" valign=\"top\">4</th>\n",
       "      <th>fourth quartile</th>\n",
       "      <td>54</td>\n",
       "      <td>0.18</td>\n",
       "      <td>93</td>\n",
       "      <td>0.28</td>\n",
       "      <td>165</td>\n",
       "      <td>0.21</td>\n",
       "      <td>142</td>\n",
       "      <td>0.22</td>\n",
       "    </tr>\n",
       "    <tr>\n",
       "      <th>second quartile</th>\n",
       "      <td>61</td>\n",
       "      <td>0.21</td>\n",
       "      <td>82</td>\n",
       "      <td>0.24</td>\n",
       "      <td>232</td>\n",
       "      <td>0.29</td>\n",
       "      <td>149</td>\n",
       "      <td>0.23</td>\n",
       "    </tr>\n",
       "    <tr>\n",
       "      <th>third quartile</th>\n",
       "      <td>71</td>\n",
       "      <td>0.24</td>\n",
       "      <td>83</td>\n",
       "      <td>0.25</td>\n",
       "      <td>173</td>\n",
       "      <td>0.22</td>\n",
       "      <td>150</td>\n",
       "      <td>0.24</td>\n",
       "    </tr>\n",
       "    <tr>\n",
       "      <th>top 10 pct</th>\n",
       "      <td>53</td>\n",
       "      <td>0.18</td>\n",
       "      <td>28</td>\n",
       "      <td>0.08</td>\n",
       "      <td>89</td>\n",
       "      <td>0.11</td>\n",
       "      <td>82</td>\n",
       "      <td>0.13</td>\n",
       "    </tr>\n",
       "    <tr>\n",
       "      <th>top quartile</th>\n",
       "      <td>58</td>\n",
       "      <td>0.20</td>\n",
       "      <td>51</td>\n",
       "      <td>0.15</td>\n",
       "      <td>132</td>\n",
       "      <td>0.17</td>\n",
       "      <td>112</td>\n",
       "      <td>0.18</td>\n",
       "    </tr>\n",
       "    <tr>\n",
       "      <th rowspan=\"5\" valign=\"top\">5</th>\n",
       "      <th>fourth quartile</th>\n",
       "      <td>6</td>\n",
       "      <td>0.17</td>\n",
       "      <td>12</td>\n",
       "      <td>0.27</td>\n",
       "      <td>11</td>\n",
       "      <td>0.22</td>\n",
       "      <td>8</td>\n",
       "      <td>0.15</td>\n",
       "    </tr>\n",
       "    <tr>\n",
       "      <th>second quartile</th>\n",
       "      <td>9</td>\n",
       "      <td>0.25</td>\n",
       "      <td>11</td>\n",
       "      <td>0.25</td>\n",
       "      <td>13</td>\n",
       "      <td>0.26</td>\n",
       "      <td>14</td>\n",
       "      <td>0.25</td>\n",
       "    </tr>\n",
       "    <tr>\n",
       "      <th>third quartile</th>\n",
       "      <td>7</td>\n",
       "      <td>0.19</td>\n",
       "      <td>11</td>\n",
       "      <td>0.25</td>\n",
       "      <td>14</td>\n",
       "      <td>0.28</td>\n",
       "      <td>13</td>\n",
       "      <td>0.24</td>\n",
       "    </tr>\n",
       "    <tr>\n",
       "      <th>top 10 pct</th>\n",
       "      <td>5</td>\n",
       "      <td>0.14</td>\n",
       "      <td>4</td>\n",
       "      <td>0.09</td>\n",
       "      <td>4</td>\n",
       "      <td>0.08</td>\n",
       "      <td>9</td>\n",
       "      <td>0.16</td>\n",
       "    </tr>\n",
       "    <tr>\n",
       "      <th>top quartile</th>\n",
       "      <td>9</td>\n",
       "      <td>0.25</td>\n",
       "      <td>6</td>\n",
       "      <td>0.14</td>\n",
       "      <td>8</td>\n",
       "      <td>0.16</td>\n",
       "      <td>11</td>\n",
       "      <td>0.20</td>\n",
       "    </tr>\n",
       "  </tbody>\n",
       "</table>\n",
       "</div>"
      ],
      "text/plain": [
       "                       QB Total  QB %  RB Total  RB %  WR Total  WR %  \\\n",
       "stars quartile level                                                    \n",
       "4     fourth quartile        54  0.18        93  0.28       165  0.21   \n",
       "      second quartile        61  0.21        82  0.24       232  0.29   \n",
       "      third quartile         71  0.24        83  0.25       173  0.22   \n",
       "      top 10 pct             53  0.18        28  0.08        89  0.11   \n",
       "      top quartile           58  0.20        51  0.15       132  0.17   \n",
       "5     fourth quartile         6  0.17        12  0.27        11  0.22   \n",
       "      second quartile         9  0.25        11  0.25        13  0.26   \n",
       "      third quartile          7  0.19        11  0.25        14  0.28   \n",
       "      top 10 pct              5  0.14         4  0.09         4  0.08   \n",
       "      top quartile            9  0.25         6  0.14         8  0.16   \n",
       "\n",
       "                       OL Total  OL %  \n",
       "stars quartile level                   \n",
       "4     fourth quartile       142  0.22  \n",
       "      second quartile       149  0.23  \n",
       "      third quartile        150  0.24  \n",
       "      top 10 pct             82  0.13  \n",
       "      top quartile          112  0.18  \n",
       "5     fourth quartile         8  0.15  \n",
       "      second quartile        14  0.25  \n",
       "      third quartile         13  0.24  \n",
       "      top 10 pct              9  0.16  \n",
       "      top quartile           11  0.20  "
      ]
     },
     "execution_count": 170,
     "metadata": {},
     "output_type": "execute_result"
    }
   ],
   "source": [
    "# Combine all offensive position groups - QB, RB, WR and OL\n",
    "\n",
    "# Combine results from QB, RB, WR and OL analysis\n",
    "combined_positions_off = pd.concat([qb_stars_quartiles,rb_stars_quartiles,wr_stars_quartiles,ol_stars_quartiles],axis=1)\n",
    "\n",
    "# Add column names\n",
    "combined_positions_off.columns = ['QB Total','QB %','RB Total','RB %','WR Total','WR %','OL Total','OL %']\n",
    "\n",
    "# Show only 5 and 4 star data\n",
    "combined_positions_off.tail(10)"
   ]
  },
  {
   "cell_type": "markdown",
   "metadata": {},
   "source": [
    "# Defensive position groups"
   ]
  },
  {
   "cell_type": "code",
   "execution_count": 171,
   "metadata": {},
   "outputs": [
    {
     "name": "stdout",
     "output_type": "stream",
     "text": [
      "Total number in position group: 6660\n",
      "3    3671\n",
      "2    2035\n",
      "4     779\n",
      "5     110\n",
      "1      65\n",
      "Name: stars, dtype: int64\n"
     ]
    }
   ],
   "source": [
    "# Get value counts by star ranking, totals in each income quartile and % for Defensive Linemen\n",
    "dl_stars_quartiles = star_quartile_by_position(final_q,['EDGE','DL','WDE','SDE','DT'])\n",
    "#dl_stars_quartiles"
   ]
  },
  {
   "cell_type": "code",
   "execution_count": 172,
   "metadata": {},
   "outputs": [
    {
     "name": "stdout",
     "output_type": "stream",
     "text": [
      "6660\n"
     ]
    }
   ],
   "source": [
    "# Create subset of only Defensive Linemen\n",
    "all_dl_df = final_q[final_q['position'].isin(['EDGE','DL','WDE','SDE','DT'])]\n",
    "\n",
    "# Review df\n",
    "all_dl_df.head()\n",
    "\n",
    "# Get length of df\n",
    "print(len(all_dl_df))"
   ]
  },
  {
   "cell_type": "code",
   "execution_count": 173,
   "metadata": {},
   "outputs": [
    {
     "name": "stdout",
     "output_type": "stream",
     "text": [
      "Average Income for Position:  196290.76471471472\n",
      "All Mean:  202860.4069559475\n",
      "T-stat -3.371245732534005 p-value 0.0007489493109277383\n",
      "Different dist (reject Ho)\n"
     ]
    }
   ],
   "source": [
    "# Calculate t-test for Defensive Linemen\n",
    "dl_ttest = t_test_calc(all_dl_df,['EDGE','DL','WDE','SDE','DT'])\n",
    "dl_ttest"
   ]
  },
  {
   "cell_type": "code",
   "execution_count": 174,
   "metadata": {},
   "outputs": [
    {
     "name": "stdout",
     "output_type": "stream",
     "text": [
      "Average Income for Position:  196290.76471471472\n",
      "All Mean:  202860.4069559475\n",
      "Mann-Whitney Stat 117272051.0 p-value 5.658812852002321e-05\n",
      "Different dist (reject Ho)\n"
     ]
    }
   ],
   "source": [
    "# Calculate Mann-Whitney U tset for Defensive Linemen\n",
    "dl_mann = mann_whitney_calc(all_dl_df,['EDGE','DL','WDE','SDE','DT'])\n",
    "dl_mann"
   ]
  },
  {
   "cell_type": "code",
   "execution_count": 175,
   "metadata": {},
   "outputs": [
    {
     "name": "stdout",
     "output_type": "stream",
     "text": [
      "Total number in position group: 4938\n",
      "3    2543\n",
      "2    1822\n",
      "4     469\n",
      "1      61\n",
      "5      43\n",
      "Name: stars, dtype: int64\n"
     ]
    }
   ],
   "source": [
    "# Get value counts by star ranking, totals in each income quartile and % for Linebackers\n",
    "lb_stars_quartiles = star_quartile_by_position(final_q,['LB','ILB','OLB'])\n",
    "#lb_stars_quartiles"
   ]
  },
  {
   "cell_type": "code",
   "execution_count": 176,
   "metadata": {},
   "outputs": [
    {
     "name": "stdout",
     "output_type": "stream",
     "text": [
      "4938\n"
     ]
    }
   ],
   "source": [
    "# Create subset of only Linebackers\n",
    "all_lb_df = final_q[final_q['position'].isin(['LB','ILB','OLB'])]\n",
    "\n",
    "# Review df\n",
    "all_lb_df.head()\n",
    "\n",
    "# Get length of df\n",
    "print(len(all_lb_df))"
   ]
  },
  {
   "cell_type": "code",
   "execution_count": 177,
   "metadata": {},
   "outputs": [
    {
     "name": "stdout",
     "output_type": "stream",
     "text": [
      "Average Income for Position:  204613.72600243014\n",
      "All Mean:  201483.50673847366\n",
      "T-stat 1.4153607191798185 p-value 0.1569700025232432\n",
      "Same distributions (fail to reject Ho)\n"
     ]
    }
   ],
   "source": [
    "# Calculate t-test for Linebackers\n",
    "lb_ttest = t_test_calc(all_lb_df,['LB','ILB','OLB'])\n",
    "lb_ttest"
   ]
  },
  {
   "cell_type": "code",
   "execution_count": 178,
   "metadata": {},
   "outputs": [
    {
     "name": "stdout",
     "output_type": "stream",
     "text": [
      "Average Income for Position:  204613.72600243014\n",
      "All Mean:  201483.50673847366\n",
      "Mann-Whitney Stat 95479088.0 p-value 0.06822681192992668\n",
      "Same distributions (fail to reject Ho)\n"
     ]
    }
   ],
   "source": [
    "# Calculate Mann-Whitney U test for Linebackers\n",
    "lb_mann = mann_whitney_calc(all_lb_df,['LB','ILB','OLB'])\n",
    "lb_mann"
   ]
  },
  {
   "cell_type": "code",
   "execution_count": 179,
   "metadata": {},
   "outputs": [
    {
     "data": {
      "image/png": "[encoded data removed]",
      "text/plain": [
       "<Figure size 1080x360 with 2 Axes>"
      ]
     },
     "metadata": {
      "needs_background": "light"
     },
     "output_type": "display_data"
    }
   ],
   "source": [
    "# Compare distribution of income for Linebackers vs all other players\n",
    "lb_inc_chart = inc_dist_comparison(final_q,['LB','ILB','OLB'])"
   ]
  },
  {
   "cell_type": "code",
   "execution_count": 180,
   "metadata": {},
   "outputs": [
    {
     "name": "stdout",
     "output_type": "stream",
     "text": [
      "Total number in position group: 6867\n",
      "3    3763\n",
      "2    2267\n",
      "4     694\n",
      "1      80\n",
      "5      63\n",
      "Name: stars, dtype: int64\n"
     ]
    }
   ],
   "source": [
    "# Get value counts by star ranking, totals in each income quartile and % for Cornerbacks\n",
    "cb_stars_quartiles = star_quartile_by_position(final_q,['S','CB'])\n",
    "\n",
    "# Show results for 5 and 4-star recruits only\n",
    "#cb_stars_quartiles[-10:]"
   ]
  },
  {
   "cell_type": "code",
   "execution_count": 181,
   "metadata": {},
   "outputs": [
    {
     "name": "stdout",
     "output_type": "stream",
     "text": [
      "6867\n"
     ]
    }
   ],
   "source": [
    "# Create subset of only Cornerbacks\n",
    "all_cb_df = final_q[final_q['position'].isin(['S','CB'])]\n",
    "\n",
    "# Review df\n",
    "all_cb_df.head()\n",
    "\n",
    "# Get length of df\n",
    "print(len(all_cb_df))"
   ]
  },
  {
   "cell_type": "code",
   "execution_count": 182,
   "metadata": {},
   "outputs": [
    {
     "name": "stdout",
     "output_type": "stream",
     "text": [
      "Average Income for Position:  201018.1508664628\n",
      "All Mean:  201999.6851062652\n",
      "T-stat -0.5099224496921401 p-value 0.6101084104475084\n",
      "Same distributions (fail to reject Ho)\n"
     ]
    }
   ],
   "source": [
    "# Calculate t-test for Cornerbacks\n",
    "cb_ttest = t_test_calc(all_cb_df,['S','CB'])\n",
    "cb_ttest"
   ]
  },
  {
   "cell_type": "code",
   "execution_count": 183,
   "metadata": {},
   "outputs": [
    {
     "name": "stdout",
     "output_type": "stream",
     "text": [
      "Average Income for Position:  201018.1508664628\n",
      "All Mean:  201999.6851062652\n",
      "Mann-Whitney Stat 126676193.0 p-value 0.005770008294557961\n",
      "Different dist (reject Ho)\n"
     ]
    }
   ],
   "source": [
    "# Calculate Mann-Whitney U test for Cornerbacks\n",
    "cb_mann = mann_whitney_calc(all_cb_df,['S','CB'])\n",
    "cb_mann"
   ]
  },
  {
   "cell_type": "code",
   "execution_count": 184,
   "metadata": {},
   "outputs": [
    {
     "data": {
      "image/png": "[encoded data removed]",
      "text/plain": [
       "<Figure size 1080x360 with 2 Axes>"
      ]
     },
     "metadata": {
      "needs_background": "light"
     },
     "output_type": "display_data"
    }
   ],
   "source": [
    "# Compare distribution of income for Cornerbacks vs all other players\n",
    "cb_inc_chart = inc_dist_comparison(final_q,['S','CB'])"
   ]
  },
  {
   "cell_type": "code",
   "execution_count": 185,
   "metadata": {},
   "outputs": [
    {
     "data": {
      "text/html": [
       "<div>\n",
       "<style scoped>\n",
       "    .dataframe tbody tr th:only-of-type {\n",
       "        vertical-align: middle;\n",
       "    }\n",
       "\n",
       "    .dataframe tbody tr th {\n",
       "        vertical-align: top;\n",
       "    }\n",
       "\n",
       "    .dataframe thead th {\n",
       "        text-align: right;\n",
       "    }\n",
       "</style>\n",
       "<table border=\"1\" class=\"dataframe\">\n",
       "  <thead>\n",
       "    <tr style=\"text-align: right;\">\n",
       "      <th></th>\n",
       "      <th></th>\n",
       "      <th>DL Total</th>\n",
       "      <th>DL %</th>\n",
       "      <th>LB Total</th>\n",
       "      <th>LB %</th>\n",
       "      <th>CB Total</th>\n",
       "      <th>CB %</th>\n",
       "    </tr>\n",
       "    <tr>\n",
       "      <th>stars</th>\n",
       "      <th>quartile level</th>\n",
       "      <th></th>\n",
       "      <th></th>\n",
       "      <th></th>\n",
       "      <th></th>\n",
       "      <th></th>\n",
       "      <th></th>\n",
       "    </tr>\n",
       "  </thead>\n",
       "  <tbody>\n",
       "    <tr>\n",
       "      <th rowspan=\"5\" valign=\"top\">4</th>\n",
       "      <th>fourth quartile</th>\n",
       "      <td>202</td>\n",
       "      <td>0.26</td>\n",
       "      <td>108</td>\n",
       "      <td>0.23</td>\n",
       "      <td>152</td>\n",
       "      <td>0.22</td>\n",
       "    </tr>\n",
       "    <tr>\n",
       "      <th>second quartile</th>\n",
       "      <td>188</td>\n",
       "      <td>0.24</td>\n",
       "      <td>120</td>\n",
       "      <td>0.26</td>\n",
       "      <td>187</td>\n",
       "      <td>0.27</td>\n",
       "    </tr>\n",
       "    <tr>\n",
       "      <th>third quartile</th>\n",
       "      <td>210</td>\n",
       "      <td>0.27</td>\n",
       "      <td>127</td>\n",
       "      <td>0.27</td>\n",
       "      <td>177</td>\n",
       "      <td>0.26</td>\n",
       "    </tr>\n",
       "    <tr>\n",
       "      <th>top 10 pct</th>\n",
       "      <td>75</td>\n",
       "      <td>0.10</td>\n",
       "      <td>51</td>\n",
       "      <td>0.11</td>\n",
       "      <td>75</td>\n",
       "      <td>0.11</td>\n",
       "    </tr>\n",
       "    <tr>\n",
       "      <th>top quartile</th>\n",
       "      <td>104</td>\n",
       "      <td>0.13</td>\n",
       "      <td>63</td>\n",
       "      <td>0.13</td>\n",
       "      <td>103</td>\n",
       "      <td>0.15</td>\n",
       "    </tr>\n",
       "    <tr>\n",
       "      <th rowspan=\"5\" valign=\"top\">5</th>\n",
       "      <th>fourth quartile</th>\n",
       "      <td>33</td>\n",
       "      <td>0.30</td>\n",
       "      <td>12</td>\n",
       "      <td>0.28</td>\n",
       "      <td>12</td>\n",
       "      <td>0.19</td>\n",
       "    </tr>\n",
       "    <tr>\n",
       "      <th>second quartile</th>\n",
       "      <td>29</td>\n",
       "      <td>0.26</td>\n",
       "      <td>12</td>\n",
       "      <td>0.28</td>\n",
       "      <td>20</td>\n",
       "      <td>0.32</td>\n",
       "    </tr>\n",
       "    <tr>\n",
       "      <th>third quartile</th>\n",
       "      <td>28</td>\n",
       "      <td>0.25</td>\n",
       "      <td>12</td>\n",
       "      <td>0.28</td>\n",
       "      <td>17</td>\n",
       "      <td>0.27</td>\n",
       "    </tr>\n",
       "    <tr>\n",
       "      <th>top 10 pct</th>\n",
       "      <td>10</td>\n",
       "      <td>0.09</td>\n",
       "      <td>5</td>\n",
       "      <td>0.12</td>\n",
       "      <td>6</td>\n",
       "      <td>0.10</td>\n",
       "    </tr>\n",
       "    <tr>\n",
       "      <th>top quartile</th>\n",
       "      <td>10</td>\n",
       "      <td>0.09</td>\n",
       "      <td>2</td>\n",
       "      <td>0.05</td>\n",
       "      <td>8</td>\n",
       "      <td>0.13</td>\n",
       "    </tr>\n",
       "  </tbody>\n",
       "</table>\n",
       "</div>"
      ],
      "text/plain": [
       "                       DL Total  DL %  LB Total  LB %  CB Total  CB %\n",
       "stars quartile level                                                 \n",
       "4     fourth quartile       202  0.26       108  0.23       152  0.22\n",
       "      second quartile       188  0.24       120  0.26       187  0.27\n",
       "      third quartile        210  0.27       127  0.27       177  0.26\n",
       "      top 10 pct             75  0.10        51  0.11        75  0.11\n",
       "      top quartile          104  0.13        63  0.13       103  0.15\n",
       "5     fourth quartile        33  0.30        12  0.28        12  0.19\n",
       "      second quartile        29  0.26        12  0.28        20  0.32\n",
       "      third quartile         28  0.25        12  0.28        17  0.27\n",
       "      top 10 pct             10  0.09         5  0.12         6  0.10\n",
       "      top quartile           10  0.09         2  0.05         8  0.13"
      ]
     },
     "execution_count": 185,
     "metadata": {},
     "output_type": "execute_result"
    }
   ],
   "source": [
    "# Combine all defensive position groups\n",
    "\n",
    "# Combine results from DL, LB and CB analysis\n",
    "combined_positions_def = pd.concat([dl_stars_quartiles,lb_stars_quartiles,cb_stars_quartiles],axis=1)\n",
    "\n",
    "# Add column names\n",
    "combined_positions_def.columns = ['DL Total','DL %','LB Total','LB %','CB Total','CB %']\n",
    "\n",
    "# Show only 5 and 4 star data\n",
    "combined_positions_def.tail(10)"
   ]
  },
  {
   "cell_type": "markdown",
   "metadata": {},
   "source": [
    "# Analyze income distribution by individual colleges or conferences"
   ]
  },
  {
   "cell_type": "markdown",
   "metadata": {},
   "source": [
    "# Create function to analyze any single college's recruits"
   ]
  },
  {
   "cell_type": "code",
   "execution_count": 186,
   "metadata": {},
   "outputs": [],
   "source": [
    "def indiv_college_analyzer(indf,college):\n",
    "\n",
    "    # Filter by school\n",
    "    school_x = indf[indf['committedTo']==college]\n",
    "    \n",
    "    # Show how many recruits chosen college has in total\n",
    "    print(\"Total of recruits for chosen school: \",len(school_x))\n",
    "    #school_x.head()\n",
    "\n",
    "    # Show value counts by star ranking for reference\n",
    "    print(school_x['stars'].value_counts())\n",
    "\n",
    "    # Groupby quintiles and stars and get counts\n",
    "    school_x_quintiles_stars = (pd.DataFrame(school_x.groupby(['stars','quartile level'])['quartile level'].count()))\n",
    "\n",
    "    # Add % of each subgroup\n",
    "    school_x_quintiles_stars['Pct'] = (school_x_quintiles_stars['quartile level'] / \\\n",
    "    school_x_quintiles_stars.groupby('stars')['quartile level'].transform('sum')).round(2)\n",
    "\n",
    "    return school_x_quintiles_stars"
   ]
  },
  {
   "cell_type": "code",
   "execution_count": 187,
   "metadata": {},
   "outputs": [
    {
     "name": "stdout",
     "output_type": "stream",
     "text": [
      "Total of recruits for chosen school:  313\n",
      "4    163\n",
      "3     98\n",
      "5     47\n",
      "2      5\n",
      "Name: stars, dtype: int64\n"
     ]
    },
    {
     "data": {
      "text/html": [
       "<div>\n",
       "<style scoped>\n",
       "    .dataframe tbody tr th:only-of-type {\n",
       "        vertical-align: middle;\n",
       "    }\n",
       "\n",
       "    .dataframe tbody tr th {\n",
       "        vertical-align: top;\n",
       "    }\n",
       "\n",
       "    .dataframe thead th {\n",
       "        text-align: right;\n",
       "    }\n",
       "</style>\n",
       "<table border=\"1\" class=\"dataframe\">\n",
       "  <thead>\n",
       "    <tr style=\"text-align: right;\">\n",
       "      <th></th>\n",
       "      <th></th>\n",
       "      <th>quartile level</th>\n",
       "      <th>Pct</th>\n",
       "    </tr>\n",
       "    <tr>\n",
       "      <th>stars</th>\n",
       "      <th>quartile level</th>\n",
       "      <th></th>\n",
       "      <th></th>\n",
       "    </tr>\n",
       "  </thead>\n",
       "  <tbody>\n",
       "    <tr>\n",
       "      <th rowspan=\"5\" valign=\"top\">4</th>\n",
       "      <th>fourth quartile</th>\n",
       "      <td>47</td>\n",
       "      <td>0.29</td>\n",
       "    </tr>\n",
       "    <tr>\n",
       "      <th>second quartile</th>\n",
       "      <td>50</td>\n",
       "      <td>0.31</td>\n",
       "    </tr>\n",
       "    <tr>\n",
       "      <th>third quartile</th>\n",
       "      <td>35</td>\n",
       "      <td>0.21</td>\n",
       "    </tr>\n",
       "    <tr>\n",
       "      <th>top 10 pct</th>\n",
       "      <td>8</td>\n",
       "      <td>0.05</td>\n",
       "    </tr>\n",
       "    <tr>\n",
       "      <th>top quartile</th>\n",
       "      <td>23</td>\n",
       "      <td>0.14</td>\n",
       "    </tr>\n",
       "    <tr>\n",
       "      <th rowspan=\"5\" valign=\"top\">5</th>\n",
       "      <th>fourth quartile</th>\n",
       "      <td>20</td>\n",
       "      <td>0.43</td>\n",
       "    </tr>\n",
       "    <tr>\n",
       "      <th>second quartile</th>\n",
       "      <td>12</td>\n",
       "      <td>0.26</td>\n",
       "    </tr>\n",
       "    <tr>\n",
       "      <th>third quartile</th>\n",
       "      <td>9</td>\n",
       "      <td>0.19</td>\n",
       "    </tr>\n",
       "    <tr>\n",
       "      <th>top 10 pct</th>\n",
       "      <td>2</td>\n",
       "      <td>0.04</td>\n",
       "    </tr>\n",
       "    <tr>\n",
       "      <th>top quartile</th>\n",
       "      <td>4</td>\n",
       "      <td>0.09</td>\n",
       "    </tr>\n",
       "  </tbody>\n",
       "</table>\n",
       "</div>"
      ],
      "text/plain": [
       "                       quartile level   Pct\n",
       "stars quartile level                       \n",
       "4     fourth quartile              47  0.29\n",
       "      second quartile              50  0.31\n",
       "      third quartile               35  0.21\n",
       "      top 10 pct                    8  0.05\n",
       "      top quartile                 23  0.14\n",
       "5     fourth quartile              20  0.43\n",
       "      second quartile              12  0.26\n",
       "      third quartile                9  0.19\n",
       "      top 10 pct                    2  0.04\n",
       "      top quartile                  4  0.09"
      ]
     },
     "execution_count": 187,
     "metadata": {},
     "output_type": "execute_result"
    }
   ],
   "source": [
    "# Calculate star / income quartile breakdown for an individual school\n",
    "georgia = indiv_college_analyzer(final_q,'Georgia')\n",
    "\n",
    "# Show only 5 and 4 star totals\n",
    "georgia[-10:]"
   ]
  },
  {
   "cell_type": "markdown",
   "metadata": {},
   "source": [
    "# Calculate more detailed breakdown at position rather then position group level"
   ]
  },
  {
   "cell_type": "code",
   "execution_count": 188,
   "metadata": {},
   "outputs": [
    {
     "name": "stdout",
     "output_type": "stream",
     "text": [
      "len of school 313\n",
      "4    163\n",
      "3     98\n",
      "5     47\n",
      "2      5\n",
      "Name: stars, dtype: int64\n"
     ]
    }
   ],
   "source": [
    "# Analyze a given school's recruits at position (not position group) level\n",
    "\n",
    "school = 'Georgia'\n",
    "\n",
    "# Filter by school\n",
    "school_x = final_q[final_q['committedTo']==school]\n",
    "print(\"len of school\",len(school_x))\n",
    "#school_x.head()\n",
    "\n",
    "# Show value counts by star ranking\n",
    "print(school_x['stars'].value_counts())\n",
    "\n",
    "# Groupby quintiles and stars, get mean income\n",
    "school_x_quintiles_stars = (pd.DataFrame(school_x.groupby(['stars','quartile level','position'])['quartile level'].count()))\n",
    "\n",
    "# Add % of each subgroup\n",
    "school_x_quintiles_stars['Pct'] = (school_x_quintiles_stars['quartile level'] / \\\n",
    "school_x_quintiles_stars.groupby('stars')['quartile level'].transform('sum')).round(2)\n",
    "\n",
    "#school_x_quintiles_stars[-50:]"
   ]
  },
  {
   "cell_type": "code",
   "execution_count": 189,
   "metadata": {},
   "outputs": [
    {
     "name": "stdout",
     "output_type": "stream",
     "text": [
      "Total of recruits for chosen school:  257\n",
      "3    150\n",
      "4     81\n",
      "2     17\n",
      "5      8\n",
      "1      1\n",
      "Name: stars, dtype: int64\n"
     ]
    },
    {
     "data": {
      "text/html": [
       "<div>\n",
       "<style scoped>\n",
       "    .dataframe tbody tr th:only-of-type {\n",
       "        vertical-align: middle;\n",
       "    }\n",
       "\n",
       "    .dataframe tbody tr th {\n",
       "        vertical-align: top;\n",
       "    }\n",
       "\n",
       "    .dataframe thead th {\n",
       "        text-align: right;\n",
       "    }\n",
       "</style>\n",
       "<table border=\"1\" class=\"dataframe\">\n",
       "  <thead>\n",
       "    <tr style=\"text-align: right;\">\n",
       "      <th></th>\n",
       "      <th></th>\n",
       "      <th>quartile level</th>\n",
       "      <th>Pct</th>\n",
       "    </tr>\n",
       "    <tr>\n",
       "      <th>stars</th>\n",
       "      <th>quartile level</th>\n",
       "      <th></th>\n",
       "      <th></th>\n",
       "    </tr>\n",
       "  </thead>\n",
       "  <tbody>\n",
       "    <tr>\n",
       "      <th rowspan=\"5\" valign=\"top\">4</th>\n",
       "      <th>fourth quartile</th>\n",
       "      <td>6</td>\n",
       "      <td>0.07</td>\n",
       "    </tr>\n",
       "    <tr>\n",
       "      <th>second quartile</th>\n",
       "      <td>22</td>\n",
       "      <td>0.27</td>\n",
       "    </tr>\n",
       "    <tr>\n",
       "      <th>third quartile</th>\n",
       "      <td>12</td>\n",
       "      <td>0.15</td>\n",
       "    </tr>\n",
       "    <tr>\n",
       "      <th>top 10 pct</th>\n",
       "      <td>15</td>\n",
       "      <td>0.19</td>\n",
       "    </tr>\n",
       "    <tr>\n",
       "      <th>top quartile</th>\n",
       "      <td>26</td>\n",
       "      <td>0.32</td>\n",
       "    </tr>\n",
       "    <tr>\n",
       "      <th rowspan=\"4\" valign=\"top\">5</th>\n",
       "      <th>fourth quartile</th>\n",
       "      <td>1</td>\n",
       "      <td>0.12</td>\n",
       "    </tr>\n",
       "    <tr>\n",
       "      <th>second quartile</th>\n",
       "      <td>3</td>\n",
       "      <td>0.38</td>\n",
       "    </tr>\n",
       "    <tr>\n",
       "      <th>top 10 pct</th>\n",
       "      <td>2</td>\n",
       "      <td>0.25</td>\n",
       "    </tr>\n",
       "    <tr>\n",
       "      <th>top quartile</th>\n",
       "      <td>2</td>\n",
       "      <td>0.25</td>\n",
       "    </tr>\n",
       "  </tbody>\n",
       "</table>\n",
       "</div>"
      ],
      "text/plain": [
       "                       quartile level   Pct\n",
       "stars quartile level                       \n",
       "4     fourth quartile               6  0.07\n",
       "      second quartile              22  0.27\n",
       "      third quartile               12  0.15\n",
       "      top 10 pct                   15  0.19\n",
       "      top quartile                 26  0.32\n",
       "5     fourth quartile               1  0.12\n",
       "      second quartile               3  0.38\n",
       "      top 10 pct                    2  0.25\n",
       "      top quartile                  2  0.25"
      ]
     },
     "execution_count": 189,
     "metadata": {},
     "output_type": "execute_result"
    }
   ],
   "source": [
    "# Calculate star / income quartile breakdown for an individual school\n",
    "ucla = indiv_college_analyzer(final_q,'UCLA')\n",
    "\n",
    "# Show only 5 and 4 star totals\n",
    "ucla[-9:]"
   ]
  },
  {
   "cell_type": "markdown",
   "metadata": {},
   "source": [
    "# Conference level analysis - check aggregate distribution of recruits across an entire athletic conference"
   ]
  },
  {
   "cell_type": "code",
   "execution_count": 190,
   "metadata": {},
   "outputs": [
    {
     "name": "stdout",
     "output_type": "stream",
     "text": [
      "3    2152\n",
      "4    1435\n",
      "5     204\n",
      "2     109\n",
      "1       2\n",
      "Name: stars, dtype: int64\n"
     ]
    },
    {
     "data": {
      "text/html": [
       "<div>\n",
       "<style scoped>\n",
       "    .dataframe tbody tr th:only-of-type {\n",
       "        vertical-align: middle;\n",
       "    }\n",
       "\n",
       "    .dataframe tbody tr th {\n",
       "        vertical-align: top;\n",
       "    }\n",
       "\n",
       "    .dataframe thead th {\n",
       "        text-align: right;\n",
       "    }\n",
       "</style>\n",
       "<table border=\"1\" class=\"dataframe\">\n",
       "  <thead>\n",
       "    <tr style=\"text-align: right;\">\n",
       "      <th></th>\n",
       "      <th></th>\n",
       "      <th>quartile level</th>\n",
       "      <th>Pct</th>\n",
       "    </tr>\n",
       "    <tr>\n",
       "      <th>stars</th>\n",
       "      <th>quartile level</th>\n",
       "      <th></th>\n",
       "      <th></th>\n",
       "    </tr>\n",
       "  </thead>\n",
       "  <tbody>\n",
       "    <tr>\n",
       "      <th rowspan=\"5\" valign=\"top\">4</th>\n",
       "      <th>fourth quartile</th>\n",
       "      <td>464</td>\n",
       "      <td>0.32</td>\n",
       "    </tr>\n",
       "    <tr>\n",
       "      <th>second quartile</th>\n",
       "      <td>345</td>\n",
       "      <td>0.24</td>\n",
       "    </tr>\n",
       "    <tr>\n",
       "      <th>third quartile</th>\n",
       "      <td>379</td>\n",
       "      <td>0.26</td>\n",
       "    </tr>\n",
       "    <tr>\n",
       "      <th>top 10 pct</th>\n",
       "      <td>114</td>\n",
       "      <td>0.08</td>\n",
       "    </tr>\n",
       "    <tr>\n",
       "      <th>top quartile</th>\n",
       "      <td>133</td>\n",
       "      <td>0.09</td>\n",
       "    </tr>\n",
       "    <tr>\n",
       "      <th rowspan=\"5\" valign=\"top\">5</th>\n",
       "      <th>fourth quartile</th>\n",
       "      <td>66</td>\n",
       "      <td>0.32</td>\n",
       "    </tr>\n",
       "    <tr>\n",
       "      <th>second quartile</th>\n",
       "      <td>49</td>\n",
       "      <td>0.24</td>\n",
       "    </tr>\n",
       "    <tr>\n",
       "      <th>third quartile</th>\n",
       "      <td>46</td>\n",
       "      <td>0.23</td>\n",
       "    </tr>\n",
       "    <tr>\n",
       "      <th>top 10 pct</th>\n",
       "      <td>19</td>\n",
       "      <td>0.09</td>\n",
       "    </tr>\n",
       "    <tr>\n",
       "      <th>top quartile</th>\n",
       "      <td>24</td>\n",
       "      <td>0.12</td>\n",
       "    </tr>\n",
       "  </tbody>\n",
       "</table>\n",
       "</div>"
      ],
      "text/plain": [
       "                       quartile level   Pct\n",
       "stars quartile level                       \n",
       "4     fourth quartile             464  0.32\n",
       "      second quartile             345  0.24\n",
       "      third quartile              379  0.26\n",
       "      top 10 pct                  114  0.08\n",
       "      top quartile                133  0.09\n",
       "5     fourth quartile              66  0.32\n",
       "      second quartile              49  0.24\n",
       "      third quartile               46  0.23\n",
       "      top 10 pct                   19  0.09\n",
       "      top quartile                 24  0.12"
      ]
     },
     "execution_count": 190,
     "metadata": {},
     "output_type": "execute_result"
    }
   ],
   "source": [
    "# Create dictionary of SEC schools\n",
    "sec_schools = {'Alabama':'SEC',\n",
    "              'Georgia':'SEC',\n",
    "              'LSU':'SEC',\n",
    "              'Florida':'SEC',\n",
    "              'Tennessee':'SEC',\n",
    "              'South Carolina':'SEC',\n",
    "              'Vanderbilt':'SEC',\n",
    "              'Ole Miss':'SEC',\n",
    "              'Arkansas':'SEC',\n",
    "              'Auburn':'SEC',\n",
    "              'Mississippi State':'SEC',\n",
    "              'Kentucky':'SEC',\n",
    "              'Missouri':'SEC',\n",
    "              'Texas A&M':'SEC'}\n",
    "\n",
    "# Create dictionary of Pac12 schools\n",
    "pac12_schools = {'Arizona':'Pac12',\n",
    "              'Arizona State':'Pac12',\n",
    "              'Colorado':'Pac12',\n",
    "              'Oregon':'Pac12',\n",
    "              'Oregon State':'Pac12',\n",
    "              'UCLA':'Pac12',\n",
    "              'USC':'Pac12',\n",
    "              'Stanford':'Pac12',\n",
    "              'Utah':'Pac12',\n",
    "              'Washington':'Pac12',\n",
    "              'Washington State':'Pac12',\n",
    "              }\n",
    "\n",
    "\n",
    "# Create copy of df\n",
    "conf_df = final_q.copy()\n",
    "\n",
    "# Create new conference column and map school names\n",
    "conf_df['conference'] = conf_df['committedTo'].map(sec_schools)\n",
    "\n",
    "# Select conference to analyze\n",
    "conf = 'SEC'\n",
    "\n",
    "# Filter by teams in chosen conference\n",
    "conf_x = conf_df[conf_df['conference']==conf]\n",
    "\n",
    "# Show value counts by star ranking\n",
    "print(conf_x['stars'].value_counts())\n",
    "\n",
    "# Groupby quintiles and stars, get counts\n",
    "conf_x_quintiles_stars = (pd.DataFrame(conf_x.groupby(['stars','quartile level'])['quartile level'].count()))\n",
    "\n",
    "# Add % of each subgroup\n",
    "conf_x_quintiles_stars['Pct'] = (conf_x_quintiles_stars['quartile level'] / \\\n",
    "conf_x_quintiles_stars.groupby('stars')['quartile level'].transform('sum')).round(2)\n",
    "\n",
    "# Add % of each subgroup\n",
    "conf_x_quintiles_stars['Pct'] = (conf_x_quintiles_stars['quartile level'] / \\\n",
    "conf_x_quintiles_stars.groupby('stars')['quartile level'].transform('sum')).round(2)\n",
    "\n",
    "# Show results\n",
    "conf_x_quintiles_stars[-10:]\n"
   ]
  },
  {
   "cell_type": "markdown",
   "metadata": {},
   "source": [
    "# Analyze trends in average income profile of select schools over time"
   ]
  },
  {
   "cell_type": "code",
   "execution_count": 191,
   "metadata": {},
   "outputs": [
    {
     "data": {
      "text/plain": [
       "[None, None, None, None, None, None]"
      ]
     },
     "execution_count": 191,
     "metadata": {},
     "output_type": "execute_result"
    },
    {
     "data": {
      "image/png": "[encoded data removed]",
      "text/plain": [
       "<Figure size 1008x504 with 1 Axes>"
      ]
     },
     "metadata": {
      "needs_background": "light"
     },
     "output_type": "display_data"
    }
   ],
   "source": [
    "# Get Average Income of recruiting class for chosen colleges each year over time and make line plot\n",
    "\n",
    "# Groupby school and year, get median Average Income\n",
    "yearly = final.groupby(['committedTo','year'])['Average Income'].median()\n",
    "\n",
    "# Make into df\n",
    "yearly_df = pd.DataFrame(yearly)\n",
    "yearly_df.reset_index(inplace=True)\n",
    "\n",
    "# Pivot so that schools are in columns\n",
    "pivoted = yearly_df.pivot(index='year',columns='committedTo')\n",
    "\n",
    "# Get rid of multi-indexing\n",
    "pivoted.columns = pivoted.columns.get_level_values(1)\n",
    "\n",
    "# Select lists of schools to subset\n",
    "#schools = ['Georgia','Alabama','LSU']\n",
    "#schools = ['Stanford','Vanderbilt','Duke','Northwestern','Rice']\n",
    "schools = ['Georgia','UCLA','Vanderbilt']\n",
    "#schools = ['Ohio State','Michigan']\n",
    "#schools = ['UCLA','USC']\n",
    "#schools = ['Oklahoma','Texas']\n",
    "\n",
    "# Get schools for line plots based on list above\n",
    "subset = (pivoted[schools]).divide(1000).round(1)\n",
    "\n",
    "# Set col names to match school names\n",
    "subset.columns = schools\n",
    "#subset.head()\n",
    "\n",
    "# Create line plot for each school\n",
    "import seaborn as sns\n",
    "\n",
    "# Create figure\n",
    "fig, ax = plt.subplots(figsize=(14, 7))\n",
    "\n",
    "# Create line plots\n",
    "lines = sns.lineplot(data=subset,linewidth=5)\n",
    "\n",
    "# Create and format legend\n",
    "leg = ax.legend()\n",
    "for line in leg.get_lines():\n",
    "    line.set_linewidth(6.0)\n",
    "plt.setp(lines.get_legend().get_texts(), fontsize='30')"
   ]
  },
  {
   "cell_type": "code",
   "execution_count": 192,
   "metadata": {},
   "outputs": [
    {
     "data": {
      "text/html": [
       "<div>\n",
       "<style scoped>\n",
       "    .dataframe tbody tr th:only-of-type {\n",
       "        vertical-align: middle;\n",
       "    }\n",
       "\n",
       "    .dataframe tbody tr th {\n",
       "        vertical-align: top;\n",
       "    }\n",
       "\n",
       "    .dataframe thead th {\n",
       "        text-align: right;\n",
       "    }\n",
       "</style>\n",
       "<table border=\"1\" class=\"dataframe\">\n",
       "  <thead>\n",
       "    <tr style=\"text-align: right;\">\n",
       "      <th></th>\n",
       "      <th>committedTo</th>\n",
       "      <th>Average Income</th>\n",
       "    </tr>\n",
       "  </thead>\n",
       "  <tbody>\n",
       "    <tr>\n",
       "      <th>0</th>\n",
       "      <td>Pennsylvania</td>\n",
       "      <td>460.7</td>\n",
       "    </tr>\n",
       "    <tr>\n",
       "      <th>1</th>\n",
       "      <td>Central Arkansas</td>\n",
       "      <td>442.3</td>\n",
       "    </tr>\n",
       "    <tr>\n",
       "      <th>2</th>\n",
       "      <td>Harvard</td>\n",
       "      <td>437.5</td>\n",
       "    </tr>\n",
       "    <tr>\n",
       "      <th>3</th>\n",
       "      <td>Sacramento State</td>\n",
       "      <td>378.3</td>\n",
       "    </tr>\n",
       "    <tr>\n",
       "      <th>4</th>\n",
       "      <td>Weber State</td>\n",
       "      <td>376.5</td>\n",
       "    </tr>\n",
       "    <tr>\n",
       "      <th>5</th>\n",
       "      <td>San José State</td>\n",
       "      <td>345.5</td>\n",
       "    </tr>\n",
       "    <tr>\n",
       "      <th>6</th>\n",
       "      <td>Southern Illinois</td>\n",
       "      <td>327.6</td>\n",
       "    </tr>\n",
       "    <tr>\n",
       "      <th>7</th>\n",
       "      <td>Cal Poly</td>\n",
       "      <td>318.1</td>\n",
       "    </tr>\n",
       "    <tr>\n",
       "      <th>8</th>\n",
       "      <td>Hawai'i</td>\n",
       "      <td>312.9</td>\n",
       "    </tr>\n",
       "    <tr>\n",
       "      <th>9</th>\n",
       "      <td>Washington</td>\n",
       "      <td>304.3</td>\n",
       "    </tr>\n",
       "  </tbody>\n",
       "</table>\n",
       "</div>"
      ],
      "text/plain": [
       "         committedTo  Average Income\n",
       "0       Pennsylvania           460.7\n",
       "1   Central Arkansas           442.3\n",
       "2            Harvard           437.5\n",
       "3   Sacramento State           378.3\n",
       "4        Weber State           376.5\n",
       "5     San José State           345.5\n",
       "6  Southern Illinois           327.6\n",
       "7           Cal Poly           318.1\n",
       "8            Hawai'i           312.9\n",
       "9         Washington           304.3"
      ]
     },
     "execution_count": 192,
     "metadata": {},
     "output_type": "execute_result"
    }
   ],
   "source": [
    "# Calculate highest Average Income by school\n",
    "\n",
    "# Get data for most recent recruiting class available\n",
    "most_recent = final_q[final_q['year']==2023]\n",
    "\n",
    "# Groupby team, get mean Average Income\n",
    "avg_inc_sort = (most_recent.groupby('committedTo')['Average Income'].mean()).divide(1000).round(1)\n",
    "\n",
    "# Create df\n",
    "avg_inc_df = pd.DataFrame(avg_inc_sort.sort_values(ascending=False))\n",
    "avg_inc_df.reset_index(inplace=True)\n",
    "\n",
    "# Show top 10\n",
    "avg_inc_df.head(10)"
   ]
  },
  {
   "cell_type": "code",
   "execution_count": 193,
   "metadata": {},
   "outputs": [
    {
     "name": "stdout",
     "output_type": "stream",
     "text": [
      "Python:  3.8.3\n",
      "Pandas: 1.0.5\n",
      "Numpy: 1.23.5\n",
      "Altair: 4.2.0\n",
      "Seaborn: 0.10.1\n",
      "Matplotlib:  3.4.3\n"
     ]
    }
   ],
   "source": [
    "from platform import python_version\n",
    "print(\"Python: \",python_version())\n",
    "print(\"Pandas:\",pd.__version__)\n",
    "print(\"Numpy:\",np.__version__)\n",
    "print(\"Altair:\",alt.__version__)\n",
    "print(\"Seaborn:\",sns.__version__)\n",
    "#print(\"Plotly:\",plotly.__version__)\n",
    "import matplotlib as mpl\n",
    "print(\"Matplotlib: \",mpl.__version__)"
   ]
  },
  {
   "cell_type": "code",
   "execution_count": null,
   "metadata": {},
   "outputs": [],
   "source": []
  }
 ],
 "metadata": {
  "colab": {
   "provenance": []
  },
  "kernelspec": {
   "display_name": "Python 3",
   "language": "python",
   "name": "python3"
  },
  "language_info": {
   "codemirror_mode": {
    "name": "ipython",
    "version": 3
   },
   "file_extension": ".py",
   "mimetype": "text/x-python",
   "name": "python",
   "nbconvert_exporter": "python",
   "pygments_lexer": "ipython3",
   "version": "3.8.3"
  }
 },
 "nbformat": 4,
 "nbformat_minor": 1
}
