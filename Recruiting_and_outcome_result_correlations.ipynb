{
 "cells": [
  {
   "cell_type": "code",
   "execution_count": 1,
   "metadata": {},
   "outputs": [],
   "source": [
    "import pandas as pd\n",
    "import numpy as np\n",
    "import requests\n",
    "import matplotlib.pyplot as plt"
   ]
  },
  {
   "cell_type": "code",
   "execution_count": 2,
   "metadata": {},
   "outputs": [],
   "source": [
    "def get_data(year, url):\n",
    "    api = \"Bearer INSERT_KEY_HERE\"\n",
    "    header = {'Authorization':api}\n",
    "    params = {'year':year}\n",
    "\n",
    "\n",
    "    response = requests.get(f\"http://api.collegefootballdata.com/{url}\",\n",
    "                            headers=header,\n",
    "                            params=params)\n",
    "\n",
    "    response_json = response.json()\n",
    "\n",
    "    recruiting = pd.json_normalize(response_json)\n",
    "    \n",
    "    return recruiting"
   ]
  },
  {
   "cell_type": "code",
   "execution_count": 3,
   "metadata": {},
   "outputs": [],
   "source": [
    "BEGIN_YEAR = 2011\n",
    "END_YEAR = 2023"
   ]
  },
  {
   "cell_type": "code",
   "execution_count": 4,
   "metadata": {},
   "outputs": [],
   "source": [
    "# IRS income dataset\n",
    "income = pd.read_csv(\"INSERT_INCOME_FILE_HERE.csv\")\n",
    "\n",
    "# Coordinates with zip codes\n",
    "zips_coordinates = pd.read_csv(\"zip_code_database.csv\")\n",
    "\n",
    "zips_coordinates_og = zips_coordinates.copy()\n",
    "\n",
    "# replace \n",
    "cfb = pd.concat([get_data(year, \"recruiting/players\") for year in range(BEGIN_YEAR, END_YEAR, 1)])"
   ]
  },
  {
   "cell_type": "code",
   "execution_count": 5,
   "metadata": {},
   "outputs": [],
   "source": [
    "# data for win%\n",
    "cfb_results = pd.concat([get_data(year, \"records\") for year in range(BEGIN_YEAR, END_YEAR + 2)])"
   ]
  },
  {
   "cell_type": "code",
   "execution_count": 6,
   "metadata": {},
   "outputs": [],
   "source": [
    "# data for productivity metrics\n",
    "cfb_player_ppa = pd.concat([get_data(year, \"ppa/players/season\") for year in range(BEGIN_YEAR, END_YEAR + 2)])"
   ]
  },
  {
   "cell_type": "code",
   "execution_count": 7,
   "metadata": {},
   "outputs": [],
   "source": [
    "position_dict = {\n",
    "    'RET' : \"returner\",\n",
    "    \"FB\" : \"full back\",\n",
    "    \"LS\" : \"long snapper\",\n",
    "    \"EDGE\" : \"edge\",\n",
    "    \"QB\" : \"quarterback\",\n",
    "    \"IOL\" : \"interior offensive line\",\n",
    "    \"P\" : \"punter\",\n",
    "    \"LB\" : \"linebacker\",\n",
    "    \"DL\" : \"defensive lineman\",\n",
    "    \"K\" : \"kicker\",\n",
    "    \"APB\" : \"all purpose back\",\n",
    "    \"OC\" : \"center\",\n",
    "    \"DUAL\" : \"quarterback\",\n",
    "    \"PRO\" : \"quarterback\",\n",
    "    \"WDE\" : \"weak side defensive end\",\n",
    "    \"ILB\" : \"inside linebacker\",\n",
    "    \"SDE\" : \"strong side defensive end\", \n",
    "    \"TE\" : \"tight end\",\n",
    "    \"OG\" : \"offensive guard\",\n",
    "    \"DT\" : \"defensive tackle\",\n",
    "    \"OLB\" : \"outside linebacker\",\n",
    "    \"RB\" : \"running back\",\n",
    "    \"S\" : \"safety\",\n",
    "    \"ATH\" : \"athlete\",\n",
    "    \"OT\" : \"offensive tackle\",\n",
    "    \"CB\" : \"cornerback\",\n",
    "    \"WR\" : \"wide receiver\"\n",
    "}"
   ]
  },
  {
   "cell_type": "code",
   "execution_count": 8,
   "metadata": {},
   "outputs": [],
   "source": [
    "special_teams = ['RET', 'LS', 'P', 'K']\n",
    "defensive_line = ['EDGE', 'DL', 'WDE', 'SDE', 'DT']\n",
    "linebackers = [\"LB\", \"ILB\", \"OLB\"]\n",
    "secondary = [\"CB\", \"S\"]\n",
    "backs = ['FB', \"APB\", \"RB\"]\n",
    "receivers = [\"WR\", \"TE\"]\n",
    "offensive_line = [\"IOL\", \"OC\", \"OG\", \"OT\"]\n",
    "other = [\"ATH\"]\n",
    "qb = ['QB', 'DUAL', 'PRO']"
   ]
  },
  {
   "cell_type": "code",
   "execution_count": 9,
   "metadata": {},
   "outputs": [],
   "source": [
    "def assign_position_group(position):\n",
    "    if position in special_teams:\n",
    "        return \"special teams\"\n",
    "    \n",
    "    elif position in defensive_line:\n",
    "        return \"defensive line\"\n",
    "    \n",
    "    elif position in linebackers:\n",
    "        return \"linebackers\"\n",
    "    \n",
    "    elif position in secondary:\n",
    "        return \"secondary\"\n",
    "    \n",
    "    elif position in backs:\n",
    "        return \"backs\"\n",
    "    \n",
    "    elif position in receivers:\n",
    "        return \"receiver\"\n",
    "    \n",
    "    elif position in offensive_line:\n",
    "        return \"offensive line\"\n",
    "    \n",
    "    elif position in qb:\n",
    "        return \"quarterback\"\n",
    "    \n",
    "    else:\n",
    "        return \"other\""
   ]
  },
  {
   "cell_type": "code",
   "execution_count": 10,
   "metadata": {},
   "outputs": [],
   "source": [
    "cfb['position'] = cfb['position'].apply(lambda x: assign_position_group(x))"
   ]
  },
  {
   "cell_type": "code",
   "execution_count": 11,
   "metadata": {},
   "outputs": [],
   "source": [
    "# removing schools with little representation\n",
    "cfb = cfb[cfb['committedTo'].isin(cfb.groupby(\"committedTo\").size().sort_values().head(100).index) == False]"
   ]
  },
  {
   "cell_type": "code",
   "execution_count": 12,
   "metadata": {},
   "outputs": [],
   "source": [
    "# isolating and removing non-US recruits\n",
    "non_us_players = [cfb['hometownInfo.latitude'].isna()]\n",
    "cfb = cfb[cfb['hometownInfo.latitude'].isna() == False]"
   ]
  },
  {
   "cell_type": "code",
   "execution_count": 13,
   "metadata": {},
   "outputs": [],
   "source": [
    "# slimming down dfs for visual ease\n",
    "relevant_columns_income = ['STATE', 'zipcode', 'A02650']\n",
    "\n",
    "relevant_columns_linking_info = ['state', 'zip', 'primary_city', 'latitude', 'longitude']\n",
    "\n",
    "income = income[relevant_columns_income]\n",
    "\n",
    "zips_coordinates = zips_coordinates[relevant_columns_linking_info]"
   ]
  },
  {
   "cell_type": "code",
   "execution_count": 14,
   "metadata": {},
   "outputs": [
    {
     "data": {
      "text/html": [
       "<div>\n",
       "<style scoped>\n",
       "    .dataframe tbody tr th:only-of-type {\n",
       "        vertical-align: middle;\n",
       "    }\n",
       "\n",
       "    .dataframe tbody tr th {\n",
       "        vertical-align: top;\n",
       "    }\n",
       "\n",
       "    .dataframe thead th {\n",
       "        text-align: right;\n",
       "    }\n",
       "</style>\n",
       "<table border=\"1\" class=\"dataframe\">\n",
       "  <thead>\n",
       "    <tr style=\"text-align: right;\">\n",
       "      <th></th>\n",
       "      <th>state</th>\n",
       "      <th>zip</th>\n",
       "      <th>primary_city</th>\n",
       "      <th>latitude</th>\n",
       "      <th>longitude</th>\n",
       "    </tr>\n",
       "  </thead>\n",
       "  <tbody>\n",
       "    <tr>\n",
       "      <th>0</th>\n",
       "      <td>NY</td>\n",
       "      <td>501</td>\n",
       "      <td>Holtsville</td>\n",
       "      <td>40.81</td>\n",
       "      <td>-73.04</td>\n",
       "    </tr>\n",
       "    <tr>\n",
       "      <th>1</th>\n",
       "      <td>NY</td>\n",
       "      <td>544</td>\n",
       "      <td>Holtsville</td>\n",
       "      <td>40.81</td>\n",
       "      <td>-73.04</td>\n",
       "    </tr>\n",
       "    <tr>\n",
       "      <th>2</th>\n",
       "      <td>PR</td>\n",
       "      <td>601</td>\n",
       "      <td>Adjuntas</td>\n",
       "      <td>18.16</td>\n",
       "      <td>-66.72</td>\n",
       "    </tr>\n",
       "    <tr>\n",
       "      <th>3</th>\n",
       "      <td>PR</td>\n",
       "      <td>602</td>\n",
       "      <td>Aguada</td>\n",
       "      <td>18.38</td>\n",
       "      <td>-67.18</td>\n",
       "    </tr>\n",
       "    <tr>\n",
       "      <th>4</th>\n",
       "      <td>PR</td>\n",
       "      <td>603</td>\n",
       "      <td>Aguadilla</td>\n",
       "      <td>18.43</td>\n",
       "      <td>-67.15</td>\n",
       "    </tr>\n",
       "  </tbody>\n",
       "</table>\n",
       "</div>"
      ],
      "text/plain": [
       "  state  zip primary_city  latitude  longitude\n",
       "0    NY  501   Holtsville     40.81     -73.04\n",
       "1    NY  544   Holtsville     40.81     -73.04\n",
       "2    PR  601     Adjuntas     18.16     -66.72\n",
       "3    PR  602       Aguada     18.38     -67.18\n",
       "4    PR  603    Aguadilla     18.43     -67.15"
      ]
     },
     "execution_count": 14,
     "metadata": {},
     "output_type": "execute_result"
    }
   ],
   "source": [
    "# coordinates with zip\n",
    "zips_coordinates.head()"
   ]
  },
  {
   "cell_type": "code",
   "execution_count": 15,
   "metadata": {},
   "outputs": [
    {
     "data": {
      "text/html": [
       "<div>\n",
       "<style scoped>\n",
       "    .dataframe tbody tr th:only-of-type {\n",
       "        vertical-align: middle;\n",
       "    }\n",
       "\n",
       "    .dataframe tbody tr th {\n",
       "        vertical-align: top;\n",
       "    }\n",
       "\n",
       "    .dataframe thead th {\n",
       "        text-align: right;\n",
       "    }\n",
       "</style>\n",
       "<table border=\"1\" class=\"dataframe\">\n",
       "  <thead>\n",
       "    <tr style=\"text-align: right;\">\n",
       "      <th></th>\n",
       "      <th>STATE</th>\n",
       "      <th>zipcode</th>\n",
       "      <th>A02650</th>\n",
       "    </tr>\n",
       "  </thead>\n",
       "  <tbody>\n",
       "    <tr>\n",
       "      <th>0</th>\n",
       "      <td>AL</td>\n",
       "      <td>0</td>\n",
       "      <td>11036309.0</td>\n",
       "    </tr>\n",
       "    <tr>\n",
       "      <th>1</th>\n",
       "      <td>AL</td>\n",
       "      <td>0</td>\n",
       "      <td>17960153.0</td>\n",
       "    </tr>\n",
       "    <tr>\n",
       "      <th>2</th>\n",
       "      <td>AL</td>\n",
       "      <td>0</td>\n",
       "      <td>16216787.0</td>\n",
       "    </tr>\n",
       "    <tr>\n",
       "      <th>3</th>\n",
       "      <td>AL</td>\n",
       "      <td>0</td>\n",
       "      <td>14588959.0</td>\n",
       "    </tr>\n",
       "    <tr>\n",
       "      <th>4</th>\n",
       "      <td>AL</td>\n",
       "      <td>0</td>\n",
       "      <td>28985528.0</td>\n",
       "    </tr>\n",
       "  </tbody>\n",
       "</table>\n",
       "</div>"
      ],
      "text/plain": [
       "  STATE  zipcode      A02650\n",
       "0    AL        0  11036309.0\n",
       "1    AL        0  17960153.0\n",
       "2    AL        0  16216787.0\n",
       "3    AL        0  14588959.0\n",
       "4    AL        0  28985528.0"
      ]
     },
     "execution_count": 15,
     "metadata": {},
     "output_type": "execute_result"
    }
   ],
   "source": [
    "# income info\n",
    "income.head()"
   ]
  },
  {
   "cell_type": "code",
   "execution_count": 16,
   "metadata": {},
   "outputs": [],
   "source": [
    "# avg income by zipcode\n",
    "median_income_by_zipcode = income.merge(zips_coordinates, left_on=['zipcode'], right_on=['zip']).groupby(\"zipcode\").A02650.median().reset_index()\n"
   ]
  },
  {
   "cell_type": "code",
   "execution_count": 17,
   "metadata": {},
   "outputs": [],
   "source": [
    "# merging with other info\n",
    "merged_income_zipcor = zips_coordinates.merge(median_income_by_zipcode, left_on=['zip'], right_on=['zipcode'])"
   ]
  },
  {
   "cell_type": "code",
   "execution_count": 18,
   "metadata": {},
   "outputs": [],
   "source": [
    "# adjusting coordinates for merging\n",
    "merged_income_zipcor['adj_lat'] = merged_income_zipcor['latitude'].apply(lambda x: float(str(x).split(\".\")[0]))\n",
    "merged_income_zipcor['adj_lng'] = merged_income_zipcor['longitude'].apply(lambda x: float(str(x).split(\".\")[0]))"
   ]
  },
  {
   "cell_type": "code",
   "execution_count": 19,
   "metadata": {},
   "outputs": [],
   "source": [
    "# adjusting coordinates for merging\n",
    "zips_coordinates_og['adj_lat'] = zips_coordinates_og['latitude'].apply(lambda x: float(str(x).split(\".\")[0]))\n",
    "zips_coordinates_og['adj_lng'] = zips_coordinates_og['longitude'].apply(lambda x: float(str(x).split(\".\")[0]))"
   ]
  },
  {
   "cell_type": "code",
   "execution_count": 20,
   "metadata": {},
   "outputs": [],
   "source": [
    "# adjusting coordinates for merging\n",
    "cfb['lat_adj'] = cfb['hometownInfo.latitude'].apply(lambda x: float(str(x).split(\".\")[0]))\n",
    "cfb['lng_adj'] = cfb['hometownInfo.longitude'].apply(lambda x: float(str(x).split(\".\")[0]))"
   ]
  },
  {
   "cell_type": "code",
   "execution_count": 21,
   "metadata": {},
   "outputs": [],
   "source": [
    "# getting average income by city\n",
    "income_by_city_state_coord = merged_income_zipcor.groupby(['primary_city', 'state', 'adj_lat', 'adj_lng']).A02650.median().reset_index()\n",
    "income_by_city_state_coord['A02650'] = income_by_city_state_coord['A02650'].round()\n",
    "income_by_city_state_coord = income_by_city_state_coord.rename(columns={\"A02650\" : \"average_income\"})\n"
   ]
  },
  {
   "cell_type": "code",
   "execution_count": 22,
   "metadata": {},
   "outputs": [],
   "source": [
    "# getting average income by city **** FOR DISPLAYING DIFFERENCE IN USING ADJ COORD AND NOT *****\n",
    "income_by_city_state_coord_ = merged_income_zipcor.groupby(['primary_city', 'state']).A02650.median().reset_index()\n",
    "income_by_city_state_coord_['A02650'] = income_by_city_state_coord_['A02650'].round()\n",
    "income_by_city_state_coord_ = income_by_city_state_coord_.rename(columns={\"A02650\" : \"average_income\"})\n"
   ]
  },
  {
   "cell_type": "code",
   "execution_count": 23,
   "metadata": {},
   "outputs": [],
   "source": [
    "# joining together for final df\n",
    "final = cfb.merge(income_by_city_state_coord, left_on=['city', 'stateProvince', 'lat_adj', 'lng_adj'],\n",
    "                                       right_on=['primary_city', 'state', 'adj_lat', 'adj_lng'])"
   ]
  },
  {
   "cell_type": "code",
   "execution_count": 24,
   "metadata": {},
   "outputs": [],
   "source": [
    "# handling duplicates\n",
    "final = final.groupby(['name', 'committedTo']).first().reset_index()"
   ]
  },
  {
   "cell_type": "code",
   "execution_count": 25,
   "metadata": {},
   "outputs": [],
   "source": [
    "# removing unranked\n",
    "final = final[final['ranking'].isna() == False]"
   ]
  },
  {
   "cell_type": "code",
   "execution_count": 26,
   "metadata": {},
   "outputs": [],
   "source": [
    "# removing those with missing info\n",
    "final = final[(final['height'].isna() == False) & (final['weight'].isna() == False)]"
   ]
  },
  {
   "cell_type": "code",
   "execution_count": 27,
   "metadata": {},
   "outputs": [],
   "source": [
    "# final dupe check\n",
    "final = final[final[['name', 'hometownInfo.longitude']].duplicated() == False]"
   ]
  },
  {
   "cell_type": "code",
   "execution_count": 28,
   "metadata": {
    "scrolled": true
   },
   "outputs": [],
   "source": [
    "# new column for overall ranking across all years for players\n",
    "final['entire_dataset_ranking'] = final['rating'].rank(ascending=False)"
   ]
  },
  {
   "cell_type": "markdown",
   "metadata": {},
   "source": [
    "# Linking with team results"
   ]
  },
  {
   "cell_type": "code",
   "execution_count": 29,
   "metadata": {},
   "outputs": [],
   "source": [
    "cfb_results['win%'] = cfb_results['total.wins'] / cfb_results['total.games']"
   ]
  },
  {
   "cell_type": "code",
   "execution_count": 30,
   "metadata": {},
   "outputs": [],
   "source": [
    "final_with_results = final.merge(cfb_results[['team', 'year', 'conference', 'division', 'win%']],\n",
    "            left_on=['committedTo', 'year'], right_on=['team', 'year'], how='left')"
   ]
  },
  {
   "cell_type": "code",
   "execution_count": 31,
   "metadata": {},
   "outputs": [],
   "source": [
    "final_with_results = final_with_results[final_with_results['win%'].isna() == False]"
   ]
  },
  {
   "cell_type": "code",
   "execution_count": 32,
   "metadata": {
    "scrolled": true
   },
   "outputs": [
    {
     "data": {
      "text/html": [
       "<div>\n",
       "<style scoped>\n",
       "    .dataframe tbody tr th:only-of-type {\n",
       "        vertical-align: middle;\n",
       "    }\n",
       "\n",
       "    .dataframe tbody tr th {\n",
       "        vertical-align: top;\n",
       "    }\n",
       "\n",
       "    .dataframe thead th {\n",
       "        text-align: right;\n",
       "    }\n",
       "</style>\n",
       "<table border=\"1\" class=\"dataframe\">\n",
       "  <thead>\n",
       "    <tr style=\"text-align: right;\">\n",
       "      <th></th>\n",
       "      <th>win%</th>\n",
       "      <th>rating</th>\n",
       "      <th>stars</th>\n",
       "    </tr>\n",
       "  </thead>\n",
       "  <tbody>\n",
       "    <tr>\n",
       "      <th>win%</th>\n",
       "      <td>1.000000</td>\n",
       "      <td>0.586174</td>\n",
       "      <td>0.586701</td>\n",
       "    </tr>\n",
       "    <tr>\n",
       "      <th>rating</th>\n",
       "      <td>0.586174</td>\n",
       "      <td>1.000000</td>\n",
       "      <td>0.996709</td>\n",
       "    </tr>\n",
       "    <tr>\n",
       "      <th>stars</th>\n",
       "      <td>0.586701</td>\n",
       "      <td>0.996709</td>\n",
       "      <td>1.000000</td>\n",
       "    </tr>\n",
       "  </tbody>\n",
       "</table>\n",
       "</div>"
      ],
      "text/plain": [
       "            win%    rating     stars\n",
       "win%    1.000000  0.586174  0.586701\n",
       "rating  0.586174  1.000000  0.996709\n",
       "stars   0.586701  0.996709  1.000000"
      ]
     },
     "execution_count": 32,
     "metadata": {},
     "output_type": "execute_result"
    }
   ],
   "source": [
    "# agg correlation results\n",
    "final_with_results.groupby(\"team\")[['win%', \"rating\", 'stars']].mean().corr()"
   ]
  },
  {
   "cell_type": "code",
   "execution_count": 33,
   "metadata": {},
   "outputs": [],
   "source": [
    "# getting correlations by position\n",
    "outcome_corr_by_position = final_with_results[['position', 'win%', 'rating', 'average_income', 'stars']].groupby(\"position\").corr().reset_index()\n"
   ]
  },
  {
   "cell_type": "code",
   "execution_count": 34,
   "metadata": {},
   "outputs": [],
   "source": [
    "qbs_and_dline = outcome_corr_by_position[outcome_corr_by_position['position'].isin(['quarterback', 'defensive line'])]"
   ]
  },
  {
   "cell_type": "code",
   "execution_count": 35,
   "metadata": {
    "scrolled": true
   },
   "outputs": [
    {
     "data": {
      "text/html": [
       "<div>\n",
       "<style scoped>\n",
       "    .dataframe tbody tr th:only-of-type {\n",
       "        vertical-align: middle;\n",
       "    }\n",
       "\n",
       "    .dataframe tbody tr th {\n",
       "        vertical-align: top;\n",
       "    }\n",
       "\n",
       "    .dataframe thead th {\n",
       "        text-align: right;\n",
       "    }\n",
       "</style>\n",
       "<table border=\"1\" class=\"dataframe\">\n",
       "  <thead>\n",
       "    <tr style=\"text-align: right;\">\n",
       "      <th></th>\n",
       "      <th>position</th>\n",
       "      <th>variable</th>\n",
       "      <th>win%</th>\n",
       "    </tr>\n",
       "  </thead>\n",
       "  <tbody>\n",
       "    <tr>\n",
       "      <th>35</th>\n",
       "      <td>special teams</td>\n",
       "      <td>stars</td>\n",
       "      <td>0.178222</td>\n",
       "    </tr>\n",
       "    <tr>\n",
       "      <th>23</th>\n",
       "      <td>quarterback</td>\n",
       "      <td>stars</td>\n",
       "      <td>0.217516</td>\n",
       "    </tr>\n",
       "    <tr>\n",
       "      <th>19</th>\n",
       "      <td>other</td>\n",
       "      <td>stars</td>\n",
       "      <td>0.223605</td>\n",
       "    </tr>\n",
       "    <tr>\n",
       "      <th>27</th>\n",
       "      <td>receiver</td>\n",
       "      <td>stars</td>\n",
       "      <td>0.250262</td>\n",
       "    </tr>\n",
       "    <tr>\n",
       "      <th>31</th>\n",
       "      <td>secondary</td>\n",
       "      <td>stars</td>\n",
       "      <td>0.260744</td>\n",
       "    </tr>\n",
       "    <tr>\n",
       "      <th>11</th>\n",
       "      <td>linebackers</td>\n",
       "      <td>stars</td>\n",
       "      <td>0.267615</td>\n",
       "    </tr>\n",
       "    <tr>\n",
       "      <th>15</th>\n",
       "      <td>offensive line</td>\n",
       "      <td>stars</td>\n",
       "      <td>0.275081</td>\n",
       "    </tr>\n",
       "    <tr>\n",
       "      <th>3</th>\n",
       "      <td>backs</td>\n",
       "      <td>stars</td>\n",
       "      <td>0.277587</td>\n",
       "    </tr>\n",
       "    <tr>\n",
       "      <th>7</th>\n",
       "      <td>defensive line</td>\n",
       "      <td>stars</td>\n",
       "      <td>0.284801</td>\n",
       "    </tr>\n",
       "  </tbody>\n",
       "</table>\n",
       "</div>"
      ],
      "text/plain": [
       "          position variable      win%\n",
       "35   special teams    stars  0.178222\n",
       "23     quarterback    stars  0.217516\n",
       "19           other    stars  0.223605\n",
       "27        receiver    stars  0.250262\n",
       "31       secondary    stars  0.260744\n",
       "11     linebackers    stars  0.267615\n",
       "15  offensive line    stars  0.275081\n",
       "3            backs    stars  0.277587\n",
       "7   defensive line    stars  0.284801"
      ]
     },
     "execution_count": 35,
     "metadata": {},
     "output_type": "execute_result"
    }
   ],
   "source": [
    "# correlation for positions\n",
    "outcome_corr_by_position[outcome_corr_by_position['level_1'] == 'stars'].sort_values(by='win%')\\\n",
    ".rename(columns={\"level_1\" : \"variable\"})[['position', 'variable', 'win%']]"
   ]
  },
  {
   "cell_type": "code",
   "execution_count": 36,
   "metadata": {
    "scrolled": true
   },
   "outputs": [
    {
     "data": {
      "text/html": [
       "<div>\n",
       "<style scoped>\n",
       "    .dataframe tbody tr th:only-of-type {\n",
       "        vertical-align: middle;\n",
       "    }\n",
       "\n",
       "    .dataframe tbody tr th {\n",
       "        vertical-align: top;\n",
       "    }\n",
       "\n",
       "    .dataframe thead th {\n",
       "        text-align: right;\n",
       "    }\n",
       "</style>\n",
       "<table border=\"1\" class=\"dataframe\">\n",
       "  <thead>\n",
       "    <tr style=\"text-align: right;\">\n",
       "      <th></th>\n",
       "      <th></th>\n",
       "      <th>win%</th>\n",
       "      <th>rating</th>\n",
       "      <th>average_income</th>\n",
       "      <th>stars</th>\n",
       "    </tr>\n",
       "    <tr>\n",
       "      <th>position</th>\n",
       "      <th>level_1</th>\n",
       "      <th></th>\n",
       "      <th></th>\n",
       "      <th></th>\n",
       "      <th></th>\n",
       "    </tr>\n",
       "  </thead>\n",
       "  <tbody>\n",
       "    <tr>\n",
       "      <th rowspan=\"4\" valign=\"top\">defensive line</th>\n",
       "      <th>win%</th>\n",
       "      <td>1.000000</td>\n",
       "      <td>0.320985</td>\n",
       "      <td>-0.009984</td>\n",
       "      <td>0.284801</td>\n",
       "    </tr>\n",
       "    <tr>\n",
       "      <th>rating</th>\n",
       "      <td>0.320985</td>\n",
       "      <td>1.000000</td>\n",
       "      <td>0.001948</td>\n",
       "      <td>0.913571</td>\n",
       "    </tr>\n",
       "    <tr>\n",
       "      <th>average_income</th>\n",
       "      <td>-0.009984</td>\n",
       "      <td>0.001948</td>\n",
       "      <td>1.000000</td>\n",
       "      <td>0.000222</td>\n",
       "    </tr>\n",
       "    <tr>\n",
       "      <th>stars</th>\n",
       "      <td>0.284801</td>\n",
       "      <td>0.913571</td>\n",
       "      <td>0.000222</td>\n",
       "      <td>1.000000</td>\n",
       "    </tr>\n",
       "    <tr>\n",
       "      <th rowspan=\"4\" valign=\"top\">quarterback</th>\n",
       "      <th>win%</th>\n",
       "      <td>1.000000</td>\n",
       "      <td>0.240224</td>\n",
       "      <td>-0.017400</td>\n",
       "      <td>0.217516</td>\n",
       "    </tr>\n",
       "    <tr>\n",
       "      <th>rating</th>\n",
       "      <td>0.240224</td>\n",
       "      <td>1.000000</td>\n",
       "      <td>0.056378</td>\n",
       "      <td>0.900505</td>\n",
       "    </tr>\n",
       "    <tr>\n",
       "      <th>average_income</th>\n",
       "      <td>-0.017400</td>\n",
       "      <td>0.056378</td>\n",
       "      <td>1.000000</td>\n",
       "      <td>0.056859</td>\n",
       "    </tr>\n",
       "    <tr>\n",
       "      <th>stars</th>\n",
       "      <td>0.217516</td>\n",
       "      <td>0.900505</td>\n",
       "      <td>0.056859</td>\n",
       "      <td>1.000000</td>\n",
       "    </tr>\n",
       "  </tbody>\n",
       "</table>\n",
       "</div>"
      ],
      "text/plain": [
       "                                   win%    rating  average_income     stars\n",
       "position       level_1                                                     \n",
       "defensive line win%            1.000000  0.320985       -0.009984  0.284801\n",
       "               rating          0.320985  1.000000        0.001948  0.913571\n",
       "               average_income -0.009984  0.001948        1.000000  0.000222\n",
       "               stars           0.284801  0.913571        0.000222  1.000000\n",
       "quarterback    win%            1.000000  0.240224       -0.017400  0.217516\n",
       "               rating          0.240224  1.000000        0.056378  0.900505\n",
       "               average_income -0.017400  0.056378        1.000000  0.056859\n",
       "               stars           0.217516  0.900505        0.056859  1.000000"
      ]
     },
     "execution_count": 36,
     "metadata": {},
     "output_type": "execute_result"
    }
   ],
   "source": [
    "qbs_and_dline.set_index([\"position\", \"level_1\"])"
   ]
  },
  {
   "cell_type": "markdown",
   "metadata": {},
   "source": [
    "# Linking with player productivity metrics"
   ]
  },
  {
   "cell_type": "code",
   "execution_count": 37,
   "metadata": {},
   "outputs": [],
   "source": [
    "# making sure players have played more than 50 snaps\n",
    "cfb_player_ppa = cfb_player_ppa[cfb_player_ppa['countablePlays'] > 50]"
   ]
  },
  {
   "cell_type": "code",
   "execution_count": 38,
   "metadata": {},
   "outputs": [],
   "source": [
    "# filling na with 0\n",
    "cfb_player_ppa.fillna(0.0, inplace=True)"
   ]
  },
  {
   "cell_type": "code",
   "execution_count": 39,
   "metadata": {},
   "outputs": [],
   "source": [
    "# getting average productivity by player\n",
    "productivity_by_player = cfb_player_ppa.groupby([\"name\", \"team\", \"position\"]).mean().reset_index()"
   ]
  },
  {
   "cell_type": "code",
   "execution_count": 40,
   "metadata": {},
   "outputs": [],
   "source": [
    "# linking with recruiting info\n",
    "ppa_and_recruiting = cfb[['year', 'ranking', 'height', 'weight',\n",
    "                              'stars', 'rating', 'name', 'committedTo']].merge(productivity_by_player, left_on=['name', 'committedTo'], right_on=['name', 'team'])"
   ]
  },
  {
   "cell_type": "code",
   "execution_count": 41,
   "metadata": {},
   "outputs": [],
   "source": [
    "# focuing on QBs\n",
    "qbs_ppa = ppa_and_recruiting[ppa_and_recruiting['position'] == 'QB'].drop(['year', 'ranking', 'height', 'weight', 'season'], axis=1)"
   ]
  },
  {
   "cell_type": "code",
   "execution_count": 42,
   "metadata": {},
   "outputs": [],
   "source": [
    "# creating correlation matrix\n",
    "qb_ppa_corr = qbs_ppa.corr()[['stars']].reset_index().rename(columns={'index' : \"variable\"})"
   ]
  },
  {
   "cell_type": "code",
   "execution_count": 43,
   "metadata": {},
   "outputs": [
    {
     "data": {
      "text/html": [
       "<div>\n",
       "<style scoped>\n",
       "    .dataframe tbody tr th:only-of-type {\n",
       "        vertical-align: middle;\n",
       "    }\n",
       "\n",
       "    .dataframe tbody tr th {\n",
       "        vertical-align: top;\n",
       "    }\n",
       "\n",
       "    .dataframe thead th {\n",
       "        text-align: right;\n",
       "    }\n",
       "</style>\n",
       "<table border=\"1\" class=\"dataframe\">\n",
       "  <thead>\n",
       "    <tr style=\"text-align: right;\">\n",
       "      <th></th>\n",
       "      <th>variable</th>\n",
       "      <th>stars</th>\n",
       "    </tr>\n",
       "  </thead>\n",
       "  <tbody>\n",
       "    <tr>\n",
       "      <th>0</th>\n",
       "      <td>stars</td>\n",
       "      <td>1.000000</td>\n",
       "    </tr>\n",
       "    <tr>\n",
       "      <th>1</th>\n",
       "      <td>rating</td>\n",
       "      <td>0.912002</td>\n",
       "    </tr>\n",
       "    <tr>\n",
       "      <th>2</th>\n",
       "      <td>countablePlays</td>\n",
       "      <td>0.133904</td>\n",
       "    </tr>\n",
       "    <tr>\n",
       "      <th>3</th>\n",
       "      <td>averagePPA.all</td>\n",
       "      <td>0.182831</td>\n",
       "    </tr>\n",
       "    <tr>\n",
       "      <th>4</th>\n",
       "      <td>averagePPA.pass</td>\n",
       "      <td>0.162307</td>\n",
       "    </tr>\n",
       "    <tr>\n",
       "      <th>5</th>\n",
       "      <td>averagePPA.rush</td>\n",
       "      <td>0.051654</td>\n",
       "    </tr>\n",
       "    <tr>\n",
       "      <th>6</th>\n",
       "      <td>averagePPA.firstDown</td>\n",
       "      <td>0.178390</td>\n",
       "    </tr>\n",
       "    <tr>\n",
       "      <th>7</th>\n",
       "      <td>averagePPA.secondDown</td>\n",
       "      <td>0.146767</td>\n",
       "    </tr>\n",
       "    <tr>\n",
       "      <th>8</th>\n",
       "      <td>averagePPA.thirdDown</td>\n",
       "      <td>0.087869</td>\n",
       "    </tr>\n",
       "    <tr>\n",
       "      <th>9</th>\n",
       "      <td>averagePPA.standardDowns</td>\n",
       "      <td>0.171149</td>\n",
       "    </tr>\n",
       "    <tr>\n",
       "      <th>10</th>\n",
       "      <td>averagePPA.passingDowns</td>\n",
       "      <td>0.141206</td>\n",
       "    </tr>\n",
       "    <tr>\n",
       "      <th>11</th>\n",
       "      <td>totalPPA.all</td>\n",
       "      <td>0.199436</td>\n",
       "    </tr>\n",
       "    <tr>\n",
       "      <th>12</th>\n",
       "      <td>totalPPA.pass</td>\n",
       "      <td>0.201144</td>\n",
       "    </tr>\n",
       "    <tr>\n",
       "      <th>13</th>\n",
       "      <td>totalPPA.rush</td>\n",
       "      <td>0.090132</td>\n",
       "    </tr>\n",
       "    <tr>\n",
       "      <th>14</th>\n",
       "      <td>totalPPA.firstDown</td>\n",
       "      <td>0.197567</td>\n",
       "    </tr>\n",
       "    <tr>\n",
       "      <th>15</th>\n",
       "      <td>totalPPA.secondDown</td>\n",
       "      <td>0.200369</td>\n",
       "    </tr>\n",
       "    <tr>\n",
       "      <th>16</th>\n",
       "      <td>totalPPA.thirdDown</td>\n",
       "      <td>0.152676</td>\n",
       "    </tr>\n",
       "    <tr>\n",
       "      <th>17</th>\n",
       "      <td>totalPPA.standardDowns</td>\n",
       "      <td>0.195243</td>\n",
       "    </tr>\n",
       "    <tr>\n",
       "      <th>18</th>\n",
       "      <td>totalPPA.passingDowns</td>\n",
       "      <td>0.181094</td>\n",
       "    </tr>\n",
       "  </tbody>\n",
       "</table>\n",
       "</div>"
      ],
      "text/plain": [
       "                    variable     stars\n",
       "0                      stars  1.000000\n",
       "1                     rating  0.912002\n",
       "2             countablePlays  0.133904\n",
       "3             averagePPA.all  0.182831\n",
       "4            averagePPA.pass  0.162307\n",
       "5            averagePPA.rush  0.051654\n",
       "6       averagePPA.firstDown  0.178390\n",
       "7      averagePPA.secondDown  0.146767\n",
       "8       averagePPA.thirdDown  0.087869\n",
       "9   averagePPA.standardDowns  0.171149\n",
       "10   averagePPA.passingDowns  0.141206\n",
       "11              totalPPA.all  0.199436\n",
       "12             totalPPA.pass  0.201144\n",
       "13             totalPPA.rush  0.090132\n",
       "14        totalPPA.firstDown  0.197567\n",
       "15       totalPPA.secondDown  0.200369\n",
       "16        totalPPA.thirdDown  0.152676\n",
       "17    totalPPA.standardDowns  0.195243\n",
       "18     totalPPA.passingDowns  0.181094"
      ]
     },
     "execution_count": 43,
     "metadata": {},
     "output_type": "execute_result"
    }
   ],
   "source": [
    "qb_ppa_corr"
   ]
  }
 ],
 "metadata": {
  "kernelspec": {
   "display_name": "Python 3",
   "language": "python",
   "name": "python3"
  },
  "language_info": {
   "codemirror_mode": {
    "name": "ipython",
    "version": 3
   },
   "file_extension": ".py",
   "mimetype": "text/x-python",
   "name": "python",
   "nbconvert_exporter": "python",
   "pygments_lexer": "ipython3",
   "version": "3.7.4"
  }
 },
 "nbformat": 4,
 "nbformat_minor": 2
}
